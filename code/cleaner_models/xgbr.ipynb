{
 "cells": [
  {
   "cell_type": "code",
   "execution_count": 2,
   "metadata": {
    "collapsed": true
   },
   "outputs": [],
   "source": [
    "from xgboost import XGBRegressor\n",
    "import pandas as pd\n",
    "import numpy as np\n",
    "from joblib import dump, load\n",
    "from os import path\n",
    "from sklearn import metrics"
   ]
  },
  {
   "cell_type": "code",
   "execution_count": 3,
   "outputs": [
    {
     "name": "stdout",
     "output_type": "stream",
     "text": [
      "<class 'pandas.core.frame.DataFrame'>\n",
      "RangeIndex: 62476 entries, 0 to 62475\n",
      "Data columns (total 16 columns):\n",
      " #   Column                         Non-Null Count  Dtype \n",
      "---  ------                         --------------  ----- \n",
      " 0   LIIK_AVALIKU_KORRA_RIKKUMINE   62476 non-null  int8  \n",
      " 1   LIIK_JALGRATTA_MOPEEDI_VARGUS  62476 non-null  int8  \n",
      " 2   LIIK_KEHALINE_VAARKOHTLEMINE   62476 non-null  int8  \n",
      " 3   LIIK_KELMUS                    62476 non-null  int8  \n",
      " 4   LIIK_KONFLIKT/OMAVOLI          62476 non-null  int8  \n",
      " 5   LIIK_KOOLIVAGIVALD             62476 non-null  int8  \n",
      " 6   LIIK_LIIKLUSRIKKUMINE          62476 non-null  int8  \n",
      " 7   LIIK_MOOTORSOIDUKI_VARGUS      62476 non-null  int8  \n",
      " 8   LIIK_MUU                       62476 non-null  int8  \n",
      " 9   LIIK_PISIVARGUS                62476 non-null  int8  \n",
      " 10  LIIK_ROOVIMINE                 62476 non-null  int8  \n",
      " 11  LIIK_TULEKAHJU                 62476 non-null  int8  \n",
      " 12  LIIK_VANDALISM                 62476 non-null  int8  \n",
      " 13  LIIK_VARGUS                    62476 non-null  int8  \n",
      " 14  Kahjusumma                     62476 non-null  int32 \n",
      " 15  Koht                           62476 non-null  object\n",
      "dtypes: int32(1), int8(14), object(1)\n",
      "memory usage: 1.5+ MB\n"
     ]
    },
    {
     "data": {
      "text/plain": "   LIIK_AVALIKU_KORRA_RIKKUMINE  LIIK_JALGRATTA_MOPEEDI_VARGUS  \\\n0                             0                              0   \n1                             0                              0   \n2                             1                              0   \n3                             0                              1   \n4                             0                              0   \n\n   LIIK_KEHALINE_VAARKOHTLEMINE  LIIK_KELMUS  LIIK_KONFLIKT/OMAVOLI  \\\n0                             0            0                      0   \n1                             0            0                      0   \n2                             0            0                      0   \n3                             0            0                      0   \n4                             0            0                      0   \n\n   LIIK_KOOLIVAGIVALD  LIIK_LIIKLUSRIKKUMINE  LIIK_MOOTORSOIDUKI_VARGUS  \\\n0                   0                      0                          0   \n1                   0                      0                          0   \n2                   0                      0                          0   \n3                   0                      0                          0   \n4                   0                      0                          0   \n\n   LIIK_MUU  LIIK_PISIVARGUS  LIIK_ROOVIMINE  LIIK_TULEKAHJU  LIIK_VANDALISM  \\\n0         0                1               0               0               0   \n1         0                0               0               0               1   \n2         0                0               0               0               0   \n3         0                0               0               0               0   \n4         0                1               0               0               0   \n\n   LIIK_VARGUS  \n0            0  \n1            0  \n2            0  \n3            0  \n4            0  ",
      "text/html": "<div>\n<style scoped>\n    .dataframe tbody tr th:only-of-type {\n        vertical-align: middle;\n    }\n\n    .dataframe tbody tr th {\n        vertical-align: top;\n    }\n\n    .dataframe thead th {\n        text-align: right;\n    }\n</style>\n<table border=\"1\" class=\"dataframe\">\n  <thead>\n    <tr style=\"text-align: right;\">\n      <th></th>\n      <th>LIIK_AVALIKU_KORRA_RIKKUMINE</th>\n      <th>LIIK_JALGRATTA_MOPEEDI_VARGUS</th>\n      <th>LIIK_KEHALINE_VAARKOHTLEMINE</th>\n      <th>LIIK_KELMUS</th>\n      <th>LIIK_KONFLIKT/OMAVOLI</th>\n      <th>LIIK_KOOLIVAGIVALD</th>\n      <th>LIIK_LIIKLUSRIKKUMINE</th>\n      <th>LIIK_MOOTORSOIDUKI_VARGUS</th>\n      <th>LIIK_MUU</th>\n      <th>LIIK_PISIVARGUS</th>\n      <th>LIIK_ROOVIMINE</th>\n      <th>LIIK_TULEKAHJU</th>\n      <th>LIIK_VANDALISM</th>\n      <th>LIIK_VARGUS</th>\n    </tr>\n  </thead>\n  <tbody>\n    <tr>\n      <th>0</th>\n      <td>0</td>\n      <td>0</td>\n      <td>0</td>\n      <td>0</td>\n      <td>0</td>\n      <td>0</td>\n      <td>0</td>\n      <td>0</td>\n      <td>0</td>\n      <td>1</td>\n      <td>0</td>\n      <td>0</td>\n      <td>0</td>\n      <td>0</td>\n    </tr>\n    <tr>\n      <th>1</th>\n      <td>0</td>\n      <td>0</td>\n      <td>0</td>\n      <td>0</td>\n      <td>0</td>\n      <td>0</td>\n      <td>0</td>\n      <td>0</td>\n      <td>0</td>\n      <td>0</td>\n      <td>0</td>\n      <td>0</td>\n      <td>1</td>\n      <td>0</td>\n    </tr>\n    <tr>\n      <th>2</th>\n      <td>1</td>\n      <td>0</td>\n      <td>0</td>\n      <td>0</td>\n      <td>0</td>\n      <td>0</td>\n      <td>0</td>\n      <td>0</td>\n      <td>0</td>\n      <td>0</td>\n      <td>0</td>\n      <td>0</td>\n      <td>0</td>\n      <td>0</td>\n    </tr>\n    <tr>\n      <th>3</th>\n      <td>0</td>\n      <td>1</td>\n      <td>0</td>\n      <td>0</td>\n      <td>0</td>\n      <td>0</td>\n      <td>0</td>\n      <td>0</td>\n      <td>0</td>\n      <td>0</td>\n      <td>0</td>\n      <td>0</td>\n      <td>0</td>\n      <td>0</td>\n    </tr>\n    <tr>\n      <th>4</th>\n      <td>0</td>\n      <td>0</td>\n      <td>0</td>\n      <td>0</td>\n      <td>0</td>\n      <td>0</td>\n      <td>0</td>\n      <td>0</td>\n      <td>0</td>\n      <td>1</td>\n      <td>0</td>\n      <td>0</td>\n      <td>0</td>\n      <td>0</td>\n    </tr>\n  </tbody>\n</table>\n</div>"
     },
     "execution_count": 3,
     "metadata": {},
     "output_type": "execute_result"
    }
   ],
   "source": [
    "time_precision = 4   # jagame päeva xh suurusteks plokkideks\n",
    "\n",
    "\n",
    "X_train = pd.read_csv(\"../../data/X_train.csv\")\n",
    "X_train = X_train.apply(pd.to_numeric, errors='ignore', downcast='integer')\n",
    "X_train.ToimAeg = X_train.ToimAeg.values.astype('datetime64[D]')\n",
    "X_train.ToimAeg = X_train['ToimAeg'].apply(lambda x: x.replace(hour=x.hour-x.hour%time_precision, minute=0, second=0))\n",
    "X_train[\"Aasta\"] = X_train['ToimAeg'].dt.year\n",
    "X_train[\"Kuu\"] = X_train['ToimAeg'].dt.month\n",
    "X_train[\"Päev\"] = X_train['ToimAeg'].dt.day\n",
    "X_train[\"Tund\"] = X_train['ToimAeg'].dt.hour\n",
    "X_train.drop(columns=\"ToimAeg\", inplace=True)\n",
    "X_train = X_train.apply(pd.to_numeric, errors='ignore', downcast='integer')\n",
    "X_train.head()\n",
    "\n",
    "y_train = pd.read_csv(\"../../data/y_train.csv\")\n",
    "y_train = y_train.apply(pd.to_numeric, errors='ignore', downcast='integer')\n",
    "y_train.head()\n",
    "\n",
    "X_valid = pd.read_csv(\"../../data/X_valid.csv\")\n",
    "X_valid = X_valid.apply(pd.to_numeric, errors='ignore', downcast='integer')\n",
    "X_valid.ToimAeg = X_valid.ToimAeg.values.astype('datetime64[D]')\n",
    "X_valid.ToimAeg = X_valid['ToimAeg'].apply(lambda x: x.replace(hour=x.hour-x.hour%time_precision, minute=0, second=0))\n",
    "X_valid[\"Aasta\"] = X_valid['ToimAeg'].dt.year\n",
    "X_valid[\"Kuu\"] = X_valid['ToimAeg'].dt.month\n",
    "X_valid[\"Päev\"] = X_valid['ToimAeg'].dt.day\n",
    "X_valid[\"Tund\"] = X_valid['ToimAeg'].dt.hour\n",
    "X_valid.drop(columns=\"ToimAeg\", inplace=True)\n",
    "X_valid = X_valid.apply(pd.to_numeric, errors='ignore', downcast='integer')\n",
    "X_valid.head()\n",
    "\n",
    "y_valid = pd.read_csv(\"../../data/y_valid.csv\")\n",
    "y_valid = y_valid.apply(pd.to_numeric, errors='ignore', downcast='integer')\n",
    "y_valid.head()\n",
    "\n",
    "X_train.head()\n",
    "\n",
    "y_train.info()\n",
    "y_train.drop(columns=[\"Kahjusumma\",\"Koht\"], inplace=True)\n",
    "y_valid.drop(columns=[\"Kahjusumma\", \"Koht\"], inplace=True)\n",
    "y_train.head()\n",
    "\n"
   ],
   "metadata": {
    "collapsed": false,
    "pycharm": {
     "name": "#%%\n"
    }
   }
  },
  {
   "cell_type": "code",
   "execution_count": 4,
   "outputs": [],
   "source": [
    "xgb_models = list()\n",
    "for col in y_train.columns:\n",
    "    xgb_models.append(XGBRegressor().fit(X_train, y_train[col]))"
   ],
   "metadata": {
    "collapsed": false,
    "pycharm": {
     "name": "#%%\n"
    }
   }
  },
  {
   "cell_type": "code",
   "execution_count": 5,
   "outputs": [
    {
     "name": "stdout",
     "output_type": "stream",
     "text": [
      "0.9328272382272141\tLIIK_AVALIKU_KORRA_RIKKUMINE\n",
      "0.8943459082534883\tLIIK_JALGRATTA_MOPEEDI_VARGUS\n",
      "0.8897460942494054\tLIIK_KEHALINE_VAARKOHTLEMINE\n",
      "0.8033317561942637\tLIIK_KELMUS\n",
      "0.721415544332211\tLIIK_KONFLIKT/OMAVOLI\n",
      "0.9399610460200508\tLIIK_KOOLIVAGIVALD\n",
      "0.6470801828356615\tLIIK_LIIKLUSRIKKUMINE\n",
      "0.8352539352539353\tLIIK_MOOTORSOIDUKI_VARGUS\n",
      "0.7483144691000476\tLIIK_MUU\n",
      "0.8771679077550626\tLIIK_PISIVARGUS\n",
      "0.7456011208278636\tLIIK_ROOVIMINE\n",
      "0.5242338761379663\tLIIK_TULEKAHJU\n",
      "0.8607412623541656\tLIIK_VANDALISM\n",
      "0.7732725160810157\tLIIK_VARGUS\n"
     ]
    }
   ],
   "source": [
    "for col, model in list(zip(y_valid.columns, xgb_models)):\n",
    "    print(metrics.roc_auc_score(y_valid[col], model.predict(X_valid)), col, sep=\"\\t\")"
   ],
   "metadata": {
    "collapsed": false,
    "pycharm": {
     "name": "#%%\n"
    }
   }
  },
  {
   "cell_type": "code",
   "execution_count": 6,
   "outputs": [
    {
     "name": "stdout",
     "output_type": "stream",
     "text": [
      "{'LIIK_AVALIKU_KORRA_RIKKUMINE': 0.950313740555769, 'LIIK_JALGRATTA_MOPEEDI_VARGUS': 0.9760532718657958, 'LIIK_KEHALINE_VAARKOHTLEMINE': 0.9683698296836983, 'LIIK_KELMUS': 0.9946215904725317, 'LIIK_KONFLIKT/OMAVOLI': 0.9957741067998463, 'LIIK_KOOLIVAGIVALD': 0.9987194263029837, 'LIIK_LIIKLUSRIKKUMINE': 0.9992316557817903, 'LIIK_MOOTORSOIDUKI_VARGUS': 0.994877705211935, 'LIIK_MUU': 0.9632475348956332, 'LIIK_PISIVARGUS': 0.8140606991932385, 'LIIK_ROOVIMINE': 0.9882187219874504, 'LIIK_TULEKAHJU': 0.9987194263029837, 'LIIK_VANDALISM': 0.9288001024458957, 'LIIK_VARGUS': 0.6982968369829684}\n",
      "{'LIIK_AVALIKU_KORRA_RIKKUMINE': 0.48000000000000015, 'LIIK_JALGRATTA_MOPEEDI_VARGUS': 0.5000000000000002, 'LIIK_KEHALINE_VAARKOHTLEMINE': 0.5600000000000003, 'LIIK_KELMUS': 0.7300000000000004, 'LIIK_KONFLIKT/OMAVOLI': 0.7600000000000005, 'LIIK_KOOLIVAGIVALD': 0.3, 'LIIK_LIIKLUSRIKKUMINE': 0.36000000000000004, 'LIIK_MOOTORSOIDUKI_VARGUS': 0.5300000000000002, 'LIIK_MUU': 0.7700000000000005, 'LIIK_PISIVARGUS': 0.5400000000000003, 'LIIK_ROOVIMINE': 0.6000000000000003, 'LIIK_TULEKAHJU': 0.5100000000000002, 'LIIK_VANDALISM': 0.7300000000000004, 'LIIK_VARGUS': 0.5300000000000002}\n"
     ]
    }
   ],
   "source": [
    "# find best cutoff\n",
    "def applyCutoff(df, cutoff):\n",
    "    a = df.copy()\n",
    "    for col in a.columns:\n",
    "        a[col] = a[col].apply(lambda x: 1 if x > cutoff else 0)\n",
    "    return a\n",
    "max_acc = {col:-1 for col in y_valid.columns}\n",
    "max_acc_cut = {col:-1 for col in y_valid.columns}\n",
    "for col, model in list(zip(y_valid.columns, xgb_models)):\n",
    "    temp = pd.DataFrame(model.predict(X_valid))\n",
    "    for i in np.arange(0.3, 0.8, 0.01):\n",
    "        temp_cut = applyCutoff(temp, i)\n",
    "        if metrics.accuracy_score(y_valid[col], temp_cut) > max_acc[col]:\n",
    "            max_acc[col] = metrics.accuracy_score(y_valid[col], temp_cut)\n",
    "            max_acc_cut[col] = i\n",
    "print(max_acc)\n",
    "print(max_acc_cut)"
   ],
   "metadata": {
    "collapsed": false,
    "pycharm": {
     "name": "#%%\n"
    }
   }
  },
  {
   "cell_type": "code",
   "execution_count": 7,
   "outputs": [
    {
     "name": "stdout",
     "output_type": "stream",
     "text": [
      "0.6015840696632094\n"
     ]
    }
   ],
   "source": [
    "# best cutoff is where sum(frequency*cutof)/all\n",
    "summa = 0\n",
    "for col in y_valid.columns:\n",
    "    summa += max_acc_cut[col] * sum(y_valid[col])\n",
    "print(summa/y_valid.shape[0])\n",
    "# best is 0.6015840696632094, although we can use separate cutoffs for everyone, but to lazy"
   ],
   "metadata": {
    "collapsed": false,
    "pycharm": {
     "name": "#%%\n"
    }
   }
  },
  {
   "cell_type": "code",
   "execution_count": 8,
   "outputs": [
    {
     "name": "stdout",
     "output_type": "stream",
     "text": [
      "0.950313740555769\tLIIK_AVALIKU_KORRA_RIKKUMINE\n"
     ]
    },
    {
     "ename": "ValueError",
     "evalue": "x is neither increasing nor decreasing : [1 0 0 ... 1 0 0].",
     "output_type": "error",
     "traceback": [
      "\u001B[1;31m---------------------------------------------------------------------------\u001B[0m",
      "\u001B[1;31mValueError\u001B[0m                                Traceback (most recent call last)",
      "\u001B[1;32m~\\AppData\\Local\\Temp/ipykernel_23704/3280597933.py\u001B[0m in \u001B[0;36m<module>\u001B[1;34m\u001B[0m\n\u001B[0;32m      2\u001B[0m \u001B[1;32mfor\u001B[0m \u001B[0mcol\u001B[0m\u001B[1;33m,\u001B[0m \u001B[0mmodel\u001B[0m \u001B[1;32min\u001B[0m \u001B[0mlist\u001B[0m\u001B[1;33m(\u001B[0m\u001B[0mzip\u001B[0m\u001B[1;33m(\u001B[0m\u001B[0my_valid\u001B[0m\u001B[1;33m.\u001B[0m\u001B[0mcolumns\u001B[0m\u001B[1;33m,\u001B[0m \u001B[0mxgb_models\u001B[0m\u001B[1;33m)\u001B[0m\u001B[1;33m)\u001B[0m\u001B[1;33m:\u001B[0m\u001B[1;33m\u001B[0m\u001B[1;33m\u001B[0m\u001B[0m\n\u001B[0;32m      3\u001B[0m     \u001B[0mprint\u001B[0m\u001B[1;33m(\u001B[0m\u001B[0mmetrics\u001B[0m\u001B[1;33m.\u001B[0m\u001B[0maccuracy_score\u001B[0m\u001B[1;33m(\u001B[0m\u001B[0my_valid\u001B[0m\u001B[1;33m[\u001B[0m\u001B[0mcol\u001B[0m\u001B[1;33m]\u001B[0m\u001B[1;33m,\u001B[0m \u001B[0mapplyCutoff\u001B[0m\u001B[1;33m(\u001B[0m\u001B[0mpd\u001B[0m\u001B[1;33m.\u001B[0m\u001B[0mDataFrame\u001B[0m\u001B[1;33m(\u001B[0m\u001B[0mmodel\u001B[0m\u001B[1;33m.\u001B[0m\u001B[0mpredict\u001B[0m\u001B[1;33m(\u001B[0m\u001B[0mX_valid\u001B[0m\u001B[1;33m)\u001B[0m\u001B[1;33m)\u001B[0m\u001B[1;33m,\u001B[0m \u001B[0mmax_acc_cut\u001B[0m\u001B[1;33m[\u001B[0m\u001B[0mcol\u001B[0m\u001B[1;33m]\u001B[0m\u001B[1;33m)\u001B[0m\u001B[1;33m)\u001B[0m\u001B[1;33m,\u001B[0m \u001B[0mcol\u001B[0m\u001B[1;33m,\u001B[0m \u001B[0msep\u001B[0m\u001B[1;33m=\u001B[0m\u001B[1;34m\"\\t\"\u001B[0m\u001B[1;33m)\u001B[0m\u001B[1;33m\u001B[0m\u001B[1;33m\u001B[0m\u001B[0m\n\u001B[1;32m----> 4\u001B[1;33m     \u001B[0mprint\u001B[0m\u001B[1;33m(\u001B[0m\u001B[0mmetrics\u001B[0m\u001B[1;33m.\u001B[0m\u001B[0mauc\u001B[0m\u001B[1;33m(\u001B[0m\u001B[0my_valid\u001B[0m\u001B[1;33m[\u001B[0m\u001B[0mcol\u001B[0m\u001B[1;33m]\u001B[0m\u001B[1;33m,\u001B[0m \u001B[0mapplyCutoff\u001B[0m\u001B[1;33m(\u001B[0m\u001B[0mpd\u001B[0m\u001B[1;33m.\u001B[0m\u001B[0mDataFrame\u001B[0m\u001B[1;33m(\u001B[0m\u001B[0mmodel\u001B[0m\u001B[1;33m.\u001B[0m\u001B[0mpredict\u001B[0m\u001B[1;33m(\u001B[0m\u001B[0mX_valid\u001B[0m\u001B[1;33m)\u001B[0m\u001B[1;33m)\u001B[0m\u001B[1;33m,\u001B[0m \u001B[0mmax_acc_cut\u001B[0m\u001B[1;33m[\u001B[0m\u001B[0mcol\u001B[0m\u001B[1;33m]\u001B[0m\u001B[1;33m)\u001B[0m\u001B[1;33m)\u001B[0m\u001B[1;33m,\u001B[0m \u001B[0mcol\u001B[0m\u001B[1;33m,\u001B[0m \u001B[0msep\u001B[0m\u001B[1;33m=\u001B[0m\u001B[1;34m\"\\t\"\u001B[0m\u001B[1;33m)\u001B[0m\u001B[1;33m\u001B[0m\u001B[1;33m\u001B[0m\u001B[0m\n\u001B[0m\u001B[0;32m      5\u001B[0m \u001B[1;33m\u001B[0m\u001B[0m\n",
      "\u001B[1;32mc:\\python39\\lib\\site-packages\\sklearn\\metrics\\_ranking.py\u001B[0m in \u001B[0;36mauc\u001B[1;34m(x, y)\u001B[0m\n\u001B[0;32m     98\u001B[0m             \u001B[0mdirection\u001B[0m \u001B[1;33m=\u001B[0m \u001B[1;33m-\u001B[0m\u001B[1;36m1\u001B[0m\u001B[1;33m\u001B[0m\u001B[1;33m\u001B[0m\u001B[0m\n\u001B[0;32m     99\u001B[0m         \u001B[1;32melse\u001B[0m\u001B[1;33m:\u001B[0m\u001B[1;33m\u001B[0m\u001B[1;33m\u001B[0m\u001B[0m\n\u001B[1;32m--> 100\u001B[1;33m             \u001B[1;32mraise\u001B[0m \u001B[0mValueError\u001B[0m\u001B[1;33m(\u001B[0m\u001B[1;34m\"x is neither increasing nor decreasing : {}.\"\u001B[0m\u001B[1;33m.\u001B[0m\u001B[0mformat\u001B[0m\u001B[1;33m(\u001B[0m\u001B[0mx\u001B[0m\u001B[1;33m)\u001B[0m\u001B[1;33m)\u001B[0m\u001B[1;33m\u001B[0m\u001B[1;33m\u001B[0m\u001B[0m\n\u001B[0m\u001B[0;32m    101\u001B[0m \u001B[1;33m\u001B[0m\u001B[0m\n\u001B[0;32m    102\u001B[0m     \u001B[0marea\u001B[0m \u001B[1;33m=\u001B[0m \u001B[0mdirection\u001B[0m \u001B[1;33m*\u001B[0m \u001B[0mnp\u001B[0m\u001B[1;33m.\u001B[0m\u001B[0mtrapz\u001B[0m\u001B[1;33m(\u001B[0m\u001B[0my\u001B[0m\u001B[1;33m,\u001B[0m \u001B[0mx\u001B[0m\u001B[1;33m)\u001B[0m\u001B[1;33m\u001B[0m\u001B[1;33m\u001B[0m\u001B[0m\n",
      "\u001B[1;31mValueError\u001B[0m: x is neither increasing nor decreasing : [1 0 0 ... 1 0 0]."
     ]
    }
   ],
   "source": [
    "# accuracies\n",
    "for col, model in list(zip(y_valid.columns, xgb_models)):\n",
    "    print(metrics.accuracy_score(y_valid[col], applyCutoff(pd.DataFrame(model.predict(X_valid)), max_acc_cut[col])), col, sep=\"\\t\")"
   ],
   "metadata": {
    "collapsed": false,
    "pycharm": {
     "name": "#%%\n"
    }
   }
  },
  {
   "cell_type": "code",
   "execution_count": null,
   "outputs": [],
   "source": [
    "for col, model in list(zip(y_valid.columns, xgb_models)):\n",
    "    print(sum(model.predict(X_valid)), col, sep=\"\\t\")\n"
   ],
   "metadata": {
    "collapsed": false,
    "pycharm": {
     "name": "#%%\n"
    }
   }
  },
  {
   "cell_type": "code",
   "execution_count": null,
   "outputs": [],
   "source": [],
   "metadata": {
    "collapsed": false,
    "pycharm": {
     "name": "#%%\n"
    }
   }
  },
  {
   "cell_type": "code",
   "execution_count": 15,
   "outputs": [
    {
     "name": "stdout",
     "output_type": "stream",
     "text": [
      "0.9328272382272141\tLIIK_AVALIKU_KORRA_RIKKUMINE\n",
      "0.8943459082534883\tLIIK_JALGRATTA_MOPEEDI_VARGUS\n",
      "0.8897460942494054\tLIIK_KEHALINE_VAARKOHTLEMINE\n",
      "0.8033317561942637\tLIIK_KELMUS\n",
      "0.721415544332211\tLIIK_KONFLIKT/OMAVOLI\n",
      "0.9399610460200508\tLIIK_KOOLIVAGIVALD\n",
      "0.6470801828356615\tLIIK_LIIKLUSRIKKUMINE\n",
      "0.8352539352539353\tLIIK_MOOTORSOIDUKI_VARGUS\n",
      "0.7483144691000476\tLIIK_MUU\n",
      "0.8771679077550626\tLIIK_PISIVARGUS\n",
      "0.7456011208278636\tLIIK_ROOVIMINE\n",
      "0.5242338761379663\tLIIK_TULEKAHJU\n",
      "0.8607412623541656\tLIIK_VANDALISM\n",
      "0.7732725160810157\tLIIK_VARGUS\n"
     ]
    },
    {
     "name": "stderr",
     "output_type": "stream",
     "text": [
      "c:\\python39\\lib\\site-packages\\sklearn\\utils\\deprecation.py:87: FutureWarning: Function plot_roc_curve is deprecated; Function `plot_roc_curve` is deprecated in 1.0 and will be removed in 1.2. Use one of the class methods: RocCurveDisplay.from_predictions or RocCurveDisplay.from_estimator.\n",
      "  warnings.warn(msg, category=FutureWarning)\n"
     ]
    },
    {
     "ename": "ValueError",
     "evalue": "Expected 'estimator' to be a binary classifier, but got XGBRegressor",
     "output_type": "error",
     "traceback": [
      "\u001B[1;31m---------------------------------------------------------------------------\u001B[0m",
      "\u001B[1;31mValueError\u001B[0m                                Traceback (most recent call last)",
      "\u001B[1;32m~\\AppData\\Local\\Temp/ipykernel_23704/1599497553.py\u001B[0m in \u001B[0;36m<module>\u001B[1;34m\u001B[0m\n\u001B[0;32m      2\u001B[0m     \u001B[0mprint\u001B[0m\u001B[1;33m(\u001B[0m\u001B[0mmetrics\u001B[0m\u001B[1;33m.\u001B[0m\u001B[0mroc_auc_score\u001B[0m\u001B[1;33m(\u001B[0m\u001B[0my_valid\u001B[0m\u001B[1;33m[\u001B[0m\u001B[0mcol\u001B[0m\u001B[1;33m]\u001B[0m\u001B[1;33m,\u001B[0m \u001B[0mmodel\u001B[0m\u001B[1;33m.\u001B[0m\u001B[0mpredict\u001B[0m\u001B[1;33m(\u001B[0m\u001B[0mX_valid\u001B[0m\u001B[1;33m)\u001B[0m\u001B[1;33m)\u001B[0m\u001B[1;33m,\u001B[0m \u001B[0mcol\u001B[0m\u001B[1;33m,\u001B[0m \u001B[0msep\u001B[0m\u001B[1;33m=\u001B[0m\u001B[1;34m\"\\t\"\u001B[0m\u001B[1;33m)\u001B[0m\u001B[1;33m\u001B[0m\u001B[1;33m\u001B[0m\u001B[0m\n\u001B[0;32m      3\u001B[0m \u001B[1;33m\u001B[0m\u001B[0m\n\u001B[1;32m----> 4\u001B[1;33m \u001B[0mmetrics\u001B[0m\u001B[1;33m.\u001B[0m\u001B[0mplot_roc_curve\u001B[0m\u001B[1;33m(\u001B[0m\u001B[0mxgb_models\u001B[0m\u001B[1;33m[\u001B[0m\u001B[1;36m0\u001B[0m\u001B[1;33m]\u001B[0m\u001B[1;33m,\u001B[0m \u001B[0mX_valid\u001B[0m\u001B[1;33m,\u001B[0m \u001B[0my_valid\u001B[0m\u001B[1;33m[\u001B[0m\u001B[0my_valid\u001B[0m\u001B[1;33m.\u001B[0m\u001B[0mcolumns\u001B[0m\u001B[1;33m[\u001B[0m\u001B[1;36m0\u001B[0m\u001B[1;33m]\u001B[0m\u001B[1;33m]\u001B[0m\u001B[1;33m)\u001B[0m\u001B[1;33m\u001B[0m\u001B[1;33m\u001B[0m\u001B[0m\n\u001B[0m\u001B[0;32m      5\u001B[0m \u001B[1;33m\u001B[0m\u001B[0m\n",
      "\u001B[1;32mc:\\python39\\lib\\site-packages\\sklearn\\utils\\deprecation.py\u001B[0m in \u001B[0;36mwrapped\u001B[1;34m(*args, **kwargs)\u001B[0m\n\u001B[0;32m     86\u001B[0m         \u001B[1;32mdef\u001B[0m \u001B[0mwrapped\u001B[0m\u001B[1;33m(\u001B[0m\u001B[1;33m*\u001B[0m\u001B[0margs\u001B[0m\u001B[1;33m,\u001B[0m \u001B[1;33m**\u001B[0m\u001B[0mkwargs\u001B[0m\u001B[1;33m)\u001B[0m\u001B[1;33m:\u001B[0m\u001B[1;33m\u001B[0m\u001B[1;33m\u001B[0m\u001B[0m\n\u001B[0;32m     87\u001B[0m             \u001B[0mwarnings\u001B[0m\u001B[1;33m.\u001B[0m\u001B[0mwarn\u001B[0m\u001B[1;33m(\u001B[0m\u001B[0mmsg\u001B[0m\u001B[1;33m,\u001B[0m \u001B[0mcategory\u001B[0m\u001B[1;33m=\u001B[0m\u001B[0mFutureWarning\u001B[0m\u001B[1;33m)\u001B[0m\u001B[1;33m\u001B[0m\u001B[1;33m\u001B[0m\u001B[0m\n\u001B[1;32m---> 88\u001B[1;33m             \u001B[1;32mreturn\u001B[0m \u001B[0mfun\u001B[0m\u001B[1;33m(\u001B[0m\u001B[1;33m*\u001B[0m\u001B[0margs\u001B[0m\u001B[1;33m,\u001B[0m \u001B[1;33m**\u001B[0m\u001B[0mkwargs\u001B[0m\u001B[1;33m)\u001B[0m\u001B[1;33m\u001B[0m\u001B[1;33m\u001B[0m\u001B[0m\n\u001B[0m\u001B[0;32m     89\u001B[0m \u001B[1;33m\u001B[0m\u001B[0m\n\u001B[0;32m     90\u001B[0m         \u001B[0mwrapped\u001B[0m\u001B[1;33m.\u001B[0m\u001B[0m__doc__\u001B[0m \u001B[1;33m=\u001B[0m \u001B[0mself\u001B[0m\u001B[1;33m.\u001B[0m\u001B[0m_update_doc\u001B[0m\u001B[1;33m(\u001B[0m\u001B[0mwrapped\u001B[0m\u001B[1;33m.\u001B[0m\u001B[0m__doc__\u001B[0m\u001B[1;33m)\u001B[0m\u001B[1;33m\u001B[0m\u001B[1;33m\u001B[0m\u001B[0m\n",
      "\u001B[1;32mc:\\python39\\lib\\site-packages\\sklearn\\metrics\\_plot\\roc_curve.py\u001B[0m in \u001B[0;36mplot_roc_curve\u001B[1;34m(estimator, X, y, sample_weight, drop_intermediate, response_method, name, ax, pos_label, **kwargs)\u001B[0m\n\u001B[0;32m    452\u001B[0m     \u001B[0mcheck_matplotlib_support\u001B[0m\u001B[1;33m(\u001B[0m\u001B[1;34m\"plot_roc_curve\"\u001B[0m\u001B[1;33m)\u001B[0m\u001B[1;33m\u001B[0m\u001B[1;33m\u001B[0m\u001B[0m\n\u001B[0;32m    453\u001B[0m \u001B[1;33m\u001B[0m\u001B[0m\n\u001B[1;32m--> 454\u001B[1;33m     y_pred, pos_label = _get_response(\n\u001B[0m\u001B[0;32m    455\u001B[0m         \u001B[0mX\u001B[0m\u001B[1;33m,\u001B[0m \u001B[0mestimator\u001B[0m\u001B[1;33m,\u001B[0m \u001B[0mresponse_method\u001B[0m\u001B[1;33m,\u001B[0m \u001B[0mpos_label\u001B[0m\u001B[1;33m=\u001B[0m\u001B[0mpos_label\u001B[0m\u001B[1;33m\u001B[0m\u001B[1;33m\u001B[0m\u001B[0m\n\u001B[0;32m    456\u001B[0m     )\n",
      "\u001B[1;32mc:\\python39\\lib\\site-packages\\sklearn\\metrics\\_plot\\base.py\u001B[0m in \u001B[0;36m_get_response\u001B[1;34m(X, estimator, response_method, pos_label)\u001B[0m\n\u001B[0;32m     89\u001B[0m \u001B[1;33m\u001B[0m\u001B[0m\n\u001B[0;32m     90\u001B[0m     \u001B[1;32mif\u001B[0m \u001B[1;32mnot\u001B[0m \u001B[0mis_classifier\u001B[0m\u001B[1;33m(\u001B[0m\u001B[0mestimator\u001B[0m\u001B[1;33m)\u001B[0m\u001B[1;33m:\u001B[0m\u001B[1;33m\u001B[0m\u001B[1;33m\u001B[0m\u001B[0m\n\u001B[1;32m---> 91\u001B[1;33m         \u001B[1;32mraise\u001B[0m \u001B[0mValueError\u001B[0m\u001B[1;33m(\u001B[0m\u001B[0mclassification_error\u001B[0m\u001B[1;33m)\u001B[0m\u001B[1;33m\u001B[0m\u001B[1;33m\u001B[0m\u001B[0m\n\u001B[0m\u001B[0;32m     92\u001B[0m \u001B[1;33m\u001B[0m\u001B[0m\n\u001B[0;32m     93\u001B[0m     \u001B[0mprediction_method\u001B[0m \u001B[1;33m=\u001B[0m \u001B[0m_check_classifier_response_method\u001B[0m\u001B[1;33m(\u001B[0m\u001B[0mestimator\u001B[0m\u001B[1;33m,\u001B[0m \u001B[0mresponse_method\u001B[0m\u001B[1;33m)\u001B[0m\u001B[1;33m\u001B[0m\u001B[1;33m\u001B[0m\u001B[0m\n",
      "\u001B[1;31mValueError\u001B[0m: Expected 'estimator' to be a binary classifier, but got XGBRegressor"
     ]
    }
   ],
   "source": [
    "for col, model in list(zip(y_valid.columns, xgb_models)):\n",
    "    print(metrics.roc_auc_score(y_valid[col], model.predict(X_valid)), col, sep=\"\\t\")\n",
    "\n",
    "metrics.plot_roc_curve(xgb_models[0], X_valid, y_valid[y_valid.columns[0]])"
   ],
   "metadata": {
    "collapsed": false,
    "pycharm": {
     "name": "#%%\n"
    }
   }
  },
  {
   "cell_type": "code",
   "execution_count": null,
   "outputs": [],
   "source": [
    "print(4/0)\n",
    "# dump theese model\n",
    "for col, model in list(zip(y_valid.columns, xgb_models)):\n",
    "    filename = col.replace(\"/\", \"\")\n",
    "    name = path.join(\"trained_models/xgbr/\", \"xgbr_\"+filename+\".joblib\")\n",
    "    dump(model, filename=name, compress=3, protocol=5)"
   ],
   "metadata": {
    "collapsed": false,
    "pycharm": {
     "name": "#%%\n"
    }
   }
  }
 ],
 "metadata": {
  "kernelspec": {
   "display_name": "Python 3",
   "language": "python",
   "name": "python3"
  },
  "language_info": {
   "codemirror_mode": {
    "name": "ipython",
    "version": 2
   },
   "file_extension": ".py",
   "mimetype": "text/x-python",
   "name": "python",
   "nbconvert_exporter": "python",
   "pygments_lexer": "ipython2",
   "version": "2.7.6"
  }
 },
 "nbformat": 4,
 "nbformat_minor": 0
}