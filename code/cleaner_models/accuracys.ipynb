{
 "cells": [
  {
   "cell_type": "code",
   "execution_count": 3,
   "outputs": [],
   "source": [
    "from xgboost import XGBRegressor\n",
    "import pandas as pd\n",
    "import numpy as np\n",
    "from joblib import dump, load\n",
    "from os import path\n",
    "from sklearn import metrics\n",
    "from sklearn.ensemble import RandomForestClassifier\n",
    "from os.path import join, isfile\n",
    "from os import listdir"
   ],
   "metadata": {
    "collapsed": false,
    "pycharm": {
     "name": "#%%\n"
    }
   }
  },
  {
   "cell_type": "code",
   "execution_count": 4,
   "metadata": {
    "collapsed": true
   },
   "outputs": [],
   "source": [
    "time_precision = 4   # jagame päeva xh suurusteks plokkideks\n",
    "\n",
    "X_test = pd.read_csv(\"../../data/X_test.csv\")\n",
    "X_test = X_test.apply(pd.to_numeric, errors='ignore', downcast='integer')\n",
    "X_test.ToimAeg = X_test.ToimAeg.values.astype('datetime64[D]')\n",
    "X_test.ToimAeg = X_test['ToimAeg'].apply(lambda x: x.replace(hour=x.hour-x.hour%time_precision, minute=0, second=0))\n",
    "X_test[\"Aasta\"] = X_test['ToimAeg'].dt.year\n",
    "X_test[\"Kuu\"] = X_test['ToimAeg'].dt.month\n",
    "X_test[\"Päev\"] = X_test['ToimAeg'].dt.day\n",
    "X_test[\"Tund\"] = X_test['ToimAeg'].dt.hour\n",
    "X_test.drop(columns=\"ToimAeg\", inplace=True)\n",
    "X_test = X_test.apply(pd.to_numeric, errors='ignore', downcast='integer')\n",
    "X_test.head()\n",
    "\n",
    "y_test = pd.read_csv(\"../../data/y_test.csv\")\n",
    "y_test = y_test.apply(pd.to_numeric, errors='ignore', downcast='integer')\n",
    "y_test.head()\n",
    "\n",
    "\n",
    "y_test.drop(columns=[\"Kahjusumma\", \"Koht\"], inplace=True)\n"
   ]
  },
  {
   "cell_type": "code",
   "execution_count": 10,
   "outputs": [
    {
     "name": "stdout",
     "output_type": "stream",
     "text": [
      "loaded\n",
      "loaded\n"
     ]
    }
   ],
   "source": [
    "# testing of thing\n",
    "# loading models\n",
    "\n",
    "onlyfiles = [f for f in listdir(\"../cleaner_models/trained_models/xgbr\") if isfile(join(\"../cleaner_models/trained_models/xgbr\", f))]\n",
    "\n",
    "models_dict = dict()\n",
    "for file in onlyfiles:\n",
    "    file_tot_path = join(\"../cleaner_models/trained_models/xgbr\", file)\n",
    "    if not \"LIIK_KONFLIKTOMAVOLI\" in file:\n",
    "        models_dict[file.split(\"_\", 1)[1].split(\".\")[0]] = load(file_tot_path)\n",
    "    else:\n",
    "        models_dict[\"LIIK_KONFLIKT/OMAVOLI\"] = load(file_tot_path)\n",
    "print(\"loaded\")\n",
    "xgb_models = list()\n",
    "for col in y_test.columns:\n",
    "    xgb_models.append(models_dict[col])\n",
    "\n",
    "# loading of rfc\n",
    "rfc = load(\"../cleaner_models/trained_models/rfc.joblib\")\n",
    "print(\"loaded\")"
   ],
   "metadata": {
    "collapsed": false,
    "pycharm": {
     "name": "#%%\n"
    }
   }
  },
  {
   "cell_type": "code",
   "execution_count": 13,
   "outputs": [
    {
     "name": "stdout",
     "output_type": "stream",
     "text": [
      "0.9343475860407968\tLIIK_AVALIKU_KORRA_RIKKUMINE\n",
      "0.9057746665833776\tLIIK_JALGRATTA_MOPEEDI_VARGUS\n",
      "0.8834619152483184\tLIIK_KEHALINE_VAARKOHTLEMINE\n",
      "0.7108186405233774\tLIIK_KELMUS\n",
      "0.5348208796924927\tLIIK_KONFLIKT/OMAVOLI\n",
      "0.8357859913301393\tLIIK_KOOLIVAGIVALD\n",
      "0.4411361371730744\tLIIK_LIIKLUSRIKKUMINE\n",
      "0.8266827541827542\tLIIK_MOOTORSOIDUKI_VARGUS\n",
      "0.7162307715350342\tLIIK_MUU\n",
      "0.8693620597934607\tLIIK_PISIVARGUS\n",
      "0.7998817282547305\tLIIK_ROOVIMINE\n",
      "0.6251335298893305\tLIIK_TULEKAHJU\n",
      "0.8645900844901134\tLIIK_VANDALISM\n",
      "0.7760734419297979\tLIIK_VARGUS\n"
     ]
    },
    {
     "data": {
      "text/plain": "0.7660071561904856"
     },
     "execution_count": 13,
     "metadata": {},
     "output_type": "execute_result"
    }
   ],
   "source": [
    "for col, model in list(zip(y_test.columns, xgb_models)):\n",
    "    print(metrics.roc_auc_score(y_test[col], model.predict(X_test)), col, sep=\"\\t\")\n",
    "\n",
    "sum([metrics.roc_auc_score(y_test[col], model.predict(X_test)) for col, model in list(zip(y_test.columns, xgb_models))]) / len(y_test.columns)"
   ],
   "metadata": {
    "collapsed": false,
    "pycharm": {
     "name": "#%%\n"
    }
   }
  },
  {
   "cell_type": "code",
   "execution_count": 17,
   "outputs": [
    {
     "name": "stdout",
     "output_type": "stream",
     "text": [
      "0.8025482267969134\tLIIK_AVALIKU_KORRA_RIKKUMINE\n",
      "0.5679268045101041\tLIIK_JALGRATTA_MOPEEDI_VARGUS\n",
      "0.5626638795830777\tLIIK_KEHALINE_VAARKOHTLEMINE\n",
      "0.5211477795653687\tLIIK_KELMUS\n",
      "0.5\tLIIK_KONFLIKT/OMAVOLI\n",
      "0.694380276066621\tLIIK_KOOLIVAGIVALD\n",
      "0.4999358727715788\tLIIK_LIIKLUSRIKKUMINE\n",
      "0.49987129987129986\tLIIK_MOOTORSOIDUKI_VARGUS\n",
      "0.5116298757370017\tLIIK_MUU\n",
      "0.7501129037747838\tLIIK_PISIVARGUS\n",
      "0.506784690537021\tLIIK_ROOVIMINE\n",
      "0.5\tLIIK_TULEKAHJU\n",
      "0.5460968984940255\tLIIK_VANDALISM\n",
      "0.691317406735374\tLIIK_VARGUS\n"
     ]
    },
    {
     "data": {
      "text/plain": "0.5824582796030836"
     },
     "execution_count": 17,
     "metadata": {},
     "output_type": "execute_result"
    }
   ],
   "source": [
    "probs_rfc = rfc.predict(X_test)\n",
    "\n",
    "# predict jaoks df tegemine\n",
    "df_proba = pd.DataFrame(probs_rfc, columns=y_test.columns) # @rasmus ma ei oska kirjelda miks see rida vajalik aga igastahes see tuleb sellest probs_rfc kujust mis ei sobinud\n",
    "for col in df_proba.columns:\n",
    "    print(metrics.roc_auc_score(y_test[col], df_proba[col]), col, sep=\"\\t\")\n",
    "\n",
    "sum([metrics.roc_auc_score(y_test[col], df_proba[col]) for col in y_test.columns]) / len(y_test.columns)\n"
   ],
   "metadata": {
    "collapsed": false,
    "pycharm": {
     "name": "#%%\n"
    }
   }
  },
  {
   "cell_type": "code",
   "execution_count": 22,
   "outputs": [
    {
     "name": "stdout",
     "output_type": "stream",
     "text": [
      "0.9490396927016646\tLIIK_AVALIKU_KORRA_RIKKUMINE\n",
      "0.9742637644046095\tLIIK_JALGRATTA_MOPEEDI_VARGUS\n",
      "0.970550576184379\tLIIK_KEHALINE_VAARKOHTLEMINE\n",
      "0.9939820742637644\tLIIK_KELMUS\n",
      "0.9975672215108835\tLIIK_KONFLIKT/OMAVOLI\n",
      "0.9980793854033291\tLIIK_KOOLIVAGIVALD\n",
      "0.9975672215108835\tLIIK_LIIKLUSRIKKUMINE\n",
      "0.9948783610755442\tLIIK_MOOTORSOIDUKI_VARGUS\n",
      "0.9608194622279129\tLIIK_MUU\n",
      "0.8115236875800256\tLIIK_PISIVARGUS\n",
      "0.9901408450704225\tLIIK_ROOVIMINE\n",
      "0.9988476312419975\tLIIK_TULEKAHJU\n",
      "0.9280409731113957\tLIIK_VANDALISM\n",
      "0.7015364916773368\tLIIK_VARGUS\n"
     ]
    },
    {
     "data": {
      "text/plain": "0.9476312419974392"
     },
     "execution_count": 22,
     "metadata": {},
     "output_type": "execute_result"
    }
   ],
   "source": [
    "def applyCutoff(df, cutoff):\n",
    "    a = df.copy()\n",
    "    for col in a.columns:\n",
    "        a[col] = a[col].apply(lambda x: 1 if x > cutoff else 0)\n",
    "    return a\n",
    "best_cuttoff = {'LIIK_AVALIKU_KORRA_RIKKUMINE': 0.48000000000000015, 'LIIK_JALGRATTA_MOPEEDI_VARGUS': 0.5000000000000002, 'LIIK_KEHALINE_VAARKOHTLEMINE': 0.5600000000000003, 'LIIK_KELMUS': 0.7300000000000004, 'LIIK_KONFLIKT/OMAVOLI': 0.7600000000000005, 'LIIK_KOOLIVAGIVALD': 0.3, 'LIIK_LIIKLUSRIKKUMINE': 0.36000000000000004, 'LIIK_MOOTORSOIDUKI_VARGUS': 0.5300000000000002, 'LIIK_MUU': 0.7700000000000005, 'LIIK_PISIVARGUS': 0.5400000000000003, 'LIIK_ROOVIMINE': 0.6000000000000003, 'LIIK_TULEKAHJU': 0.5100000000000002, 'LIIK_VANDALISM': 0.7300000000000004, 'LIIK_VARGUS': 0.5300000000000002}\n",
    "# xgbr accuracy\n",
    "for col, model in list(zip(y_test.columns, xgb_models)):\n",
    "    print(metrics.accuracy_score(y_test[col], applyCutoff(pd.DataFrame(model.predict(X_test)), best_cuttoff[col])), col, sep=\"\\t\")\n",
    "\n",
    "sum([metrics.accuracy_score(y_test[col], applyCutoff(pd.DataFrame(model.predict(X_test)), best_cuttoff[col])) for col, model in list(zip(y_test.columns, xgb_models))]) / len(y_test.columns)"
   ],
   "metadata": {
    "collapsed": false,
    "pycharm": {
     "name": "#%%\n"
    }
   }
  }
 ],
 "metadata": {
  "kernelspec": {
   "display_name": "Python 3",
   "language": "python",
   "name": "python3"
  },
  "language_info": {
   "codemirror_mode": {
    "name": "ipython",
    "version": 2
   },
   "file_extension": ".py",
   "mimetype": "text/x-python",
   "name": "python",
   "nbconvert_exporter": "python",
   "pygments_lexer": "ipython2",
   "version": "2.7.6"
  }
 },
 "nbformat": 4,
 "nbformat_minor": 0
}