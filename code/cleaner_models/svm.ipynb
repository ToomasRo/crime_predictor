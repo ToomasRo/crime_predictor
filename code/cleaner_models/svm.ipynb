{
 "cells": [
  {
   "cell_type": "code",
   "execution_count": 2,
   "metadata": {
    "collapsed": true
   },
   "outputs": [],
   "source": [
    "import pandas as pd\n",
    "import numpy as np\n",
    "from joblib import dump, load\n",
    "from os import path\n",
    "from sklearn import metrics\n",
    "from sklearn import svm\n",
    "from sklearn.preprocessing import StandardScaler\n",
    "from sklearn.pipeline import make_pipeline\n",
    "from sklearn.multiclass import OneVsRestClassifier\n",
    "from sklearn.ensemble import BaggingClassifier"
   ]
  },
  {
   "cell_type": "code",
   "execution_count": 3,
   "outputs": [
    {
     "name": "stdout",
     "output_type": "stream",
     "text": [
      "<class 'pandas.core.frame.DataFrame'>\n",
      "RangeIndex: 62476 entries, 0 to 62475\n",
      "Data columns (total 16 columns):\n",
      " #   Column                         Non-Null Count  Dtype \n",
      "---  ------                         --------------  ----- \n",
      " 0   LIIK_AVALIKU_KORRA_RIKKUMINE   62476 non-null  int8  \n",
      " 1   LIIK_JALGRATTA_MOPEEDI_VARGUS  62476 non-null  int8  \n",
      " 2   LIIK_KEHALINE_VAARKOHTLEMINE   62476 non-null  int8  \n",
      " 3   LIIK_KELMUS                    62476 non-null  int8  \n",
      " 4   LIIK_KONFLIKT/OMAVOLI          62476 non-null  int8  \n",
      " 5   LIIK_KOOLIVAGIVALD             62476 non-null  int8  \n",
      " 6   LIIK_LIIKLUSRIKKUMINE          62476 non-null  int8  \n",
      " 7   LIIK_MOOTORSOIDUKI_VARGUS      62476 non-null  int8  \n",
      " 8   LIIK_MUU                       62476 non-null  int8  \n",
      " 9   LIIK_PISIVARGUS                62476 non-null  int8  \n",
      " 10  LIIK_ROOVIMINE                 62476 non-null  int8  \n",
      " 11  LIIK_TULEKAHJU                 62476 non-null  int8  \n",
      " 12  LIIK_VANDALISM                 62476 non-null  int8  \n",
      " 13  LIIK_VARGUS                    62476 non-null  int8  \n",
      " 14  Kahjusumma                     62476 non-null  int32 \n",
      " 15  Koht                           62476 non-null  object\n",
      "dtypes: int32(1), int8(14), object(1)\n",
      "memory usage: 1.5+ MB\n"
     ]
    },
    {
     "data": {
      "text/plain": "   LIIK_AVALIKU_KORRA_RIKKUMINE  LIIK_JALGRATTA_MOPEEDI_VARGUS  \\\n0                             0                              0   \n1                             0                              0   \n2                             1                              0   \n3                             0                              1   \n4                             0                              0   \n\n   LIIK_KEHALINE_VAARKOHTLEMINE  LIIK_KELMUS  LIIK_KONFLIKT/OMAVOLI  \\\n0                             0            0                      0   \n1                             0            0                      0   \n2                             0            0                      0   \n3                             0            0                      0   \n4                             0            0                      0   \n\n   LIIK_KOOLIVAGIVALD  LIIK_LIIKLUSRIKKUMINE  LIIK_MOOTORSOIDUKI_VARGUS  \\\n0                   0                      0                          0   \n1                   0                      0                          0   \n2                   0                      0                          0   \n3                   0                      0                          0   \n4                   0                      0                          0   \n\n   LIIK_MUU  LIIK_PISIVARGUS  LIIK_ROOVIMINE  LIIK_TULEKAHJU  LIIK_VANDALISM  \\\n0         0                1               0               0               0   \n1         0                0               0               0               1   \n2         0                0               0               0               0   \n3         0                0               0               0               0   \n4         0                1               0               0               0   \n\n   LIIK_VARGUS  \n0            0  \n1            0  \n2            0  \n3            0  \n4            0  ",
      "text/html": "<div>\n<style scoped>\n    .dataframe tbody tr th:only-of-type {\n        vertical-align: middle;\n    }\n\n    .dataframe tbody tr th {\n        vertical-align: top;\n    }\n\n    .dataframe thead th {\n        text-align: right;\n    }\n</style>\n<table border=\"1\" class=\"dataframe\">\n  <thead>\n    <tr style=\"text-align: right;\">\n      <th></th>\n      <th>LIIK_AVALIKU_KORRA_RIKKUMINE</th>\n      <th>LIIK_JALGRATTA_MOPEEDI_VARGUS</th>\n      <th>LIIK_KEHALINE_VAARKOHTLEMINE</th>\n      <th>LIIK_KELMUS</th>\n      <th>LIIK_KONFLIKT/OMAVOLI</th>\n      <th>LIIK_KOOLIVAGIVALD</th>\n      <th>LIIK_LIIKLUSRIKKUMINE</th>\n      <th>LIIK_MOOTORSOIDUKI_VARGUS</th>\n      <th>LIIK_MUU</th>\n      <th>LIIK_PISIVARGUS</th>\n      <th>LIIK_ROOVIMINE</th>\n      <th>LIIK_TULEKAHJU</th>\n      <th>LIIK_VANDALISM</th>\n      <th>LIIK_VARGUS</th>\n    </tr>\n  </thead>\n  <tbody>\n    <tr>\n      <th>0</th>\n      <td>0</td>\n      <td>0</td>\n      <td>0</td>\n      <td>0</td>\n      <td>0</td>\n      <td>0</td>\n      <td>0</td>\n      <td>0</td>\n      <td>0</td>\n      <td>1</td>\n      <td>0</td>\n      <td>0</td>\n      <td>0</td>\n      <td>0</td>\n    </tr>\n    <tr>\n      <th>1</th>\n      <td>0</td>\n      <td>0</td>\n      <td>0</td>\n      <td>0</td>\n      <td>0</td>\n      <td>0</td>\n      <td>0</td>\n      <td>0</td>\n      <td>0</td>\n      <td>0</td>\n      <td>0</td>\n      <td>0</td>\n      <td>1</td>\n      <td>0</td>\n    </tr>\n    <tr>\n      <th>2</th>\n      <td>1</td>\n      <td>0</td>\n      <td>0</td>\n      <td>0</td>\n      <td>0</td>\n      <td>0</td>\n      <td>0</td>\n      <td>0</td>\n      <td>0</td>\n      <td>0</td>\n      <td>0</td>\n      <td>0</td>\n      <td>0</td>\n      <td>0</td>\n    </tr>\n    <tr>\n      <th>3</th>\n      <td>0</td>\n      <td>1</td>\n      <td>0</td>\n      <td>0</td>\n      <td>0</td>\n      <td>0</td>\n      <td>0</td>\n      <td>0</td>\n      <td>0</td>\n      <td>0</td>\n      <td>0</td>\n      <td>0</td>\n      <td>0</td>\n      <td>0</td>\n    </tr>\n    <tr>\n      <th>4</th>\n      <td>0</td>\n      <td>0</td>\n      <td>0</td>\n      <td>0</td>\n      <td>0</td>\n      <td>0</td>\n      <td>0</td>\n      <td>0</td>\n      <td>0</td>\n      <td>1</td>\n      <td>0</td>\n      <td>0</td>\n      <td>0</td>\n      <td>0</td>\n    </tr>\n  </tbody>\n</table>\n</div>"
     },
     "execution_count": 3,
     "metadata": {},
     "output_type": "execute_result"
    }
   ],
   "source": [
    "time_precision = 4   # jagame päeva xh suurusteks plokkideks\n",
    "\n",
    "X_train = pd.read_csv(\"../../data/X_train.csv\")\n",
    "X_train = X_train.apply(pd.to_numeric, errors='ignore', downcast='integer')\n",
    "X_train.ToimAeg = X_train.ToimAeg.values.astype('datetime64[D]')\n",
    "X_train.ToimAeg = X_train['ToimAeg'].apply(lambda x: x.replace(hour=x.hour-x.hour%time_precision, minute=0, second=0))\n",
    "X_train[\"Aasta\"] = X_train['ToimAeg'].dt.year\n",
    "X_train[\"Kuu\"] = X_train['ToimAeg'].dt.month\n",
    "X_train[\"Päev\"] = X_train['ToimAeg'].dt.day\n",
    "X_train[\"Tund\"] = X_train['ToimAeg'].dt.hour\n",
    "X_train.drop(columns=\"ToimAeg\", inplace=True)\n",
    "X_train = X_train.apply(pd.to_numeric, errors='ignore', downcast='integer')\n",
    "X_train.head()\n",
    "\n",
    "y_train = pd.read_csv(\"../../data/y_train.csv\")\n",
    "y_train = y_train.apply(pd.to_numeric, errors='ignore', downcast='integer')\n",
    "y_train.head()\n",
    "\n",
    "X_valid = pd.read_csv(\"../../data/X_valid.csv\")\n",
    "X_valid = X_valid.apply(pd.to_numeric, errors='ignore', downcast='integer')\n",
    "X_valid.ToimAeg = X_valid.ToimAeg.values.astype('datetime64[D]')\n",
    "X_valid.ToimAeg = X_valid['ToimAeg'].apply(lambda x: x.replace(hour=x.hour-x.hour%time_precision, minute=0, second=0))\n",
    "X_valid[\"Aasta\"] = X_valid['ToimAeg'].dt.year\n",
    "X_valid[\"Kuu\"] = X_valid['ToimAeg'].dt.month\n",
    "X_valid[\"Päev\"] = X_valid['ToimAeg'].dt.day\n",
    "X_valid[\"Tund\"] = X_valid['ToimAeg'].dt.hour\n",
    "X_valid.drop(columns=\"ToimAeg\", inplace=True)\n",
    "X_valid = X_valid.apply(pd.to_numeric, errors='ignore', downcast='integer')\n",
    "X_valid.head()\n",
    "\n",
    "y_valid = pd.read_csv(\"../../data/y_valid.csv\")\n",
    "y_valid = y_valid.apply(pd.to_numeric, errors='ignore', downcast='integer')\n",
    "y_valid.head()\n",
    "\n",
    "X_train.head()\n",
    "\n",
    "y_train.info()\n",
    "y_train.drop(columns=[\"Kahjusumma\",\"Koht\"], inplace=True)\n",
    "y_valid.drop(columns=[\"Kahjusumma\", \"Koht\"], inplace=True)\n",
    "y_train.head()"
   ],
   "metadata": {
    "collapsed": false,
    "pycharm": {
     "name": "#%%\n"
    }
   }
  },
  {
   "cell_type": "code",
   "execution_count": null,
   "outputs": [
    {
     "name": "stdout",
     "output_type": "stream",
     "text": [
      "LIIK_AVALIKU_KORRA_RIKKUMINE\n",
      "fitiing\n"
     ]
    }
   ],
   "source": [
    "svm_models = list()\n",
    "n_estimators = 10\n",
    "for col in y_train.columns:\n",
    "    print(col)\n",
    "    #clf = make_pipeline(StandardScaler(), svm.SVC(gamma='auto'))\n",
    "    #clf = OneVsRestClassifier(svm.SVC(kernel='linear', probability=True, class_weight='balanced'))\n",
    "    clf = OneVsRestClassifier(BaggingClassifier(svm.SVC(kernel='linear', probability=True), max_samples=0.01 / n_estimators, n_estimators=n_estimators))\n",
    "    print(\"fitiing\")\n",
    "    svm_models.append(clf.fit(X_train, y_train))"
   ],
   "metadata": {
    "collapsed": false,
    "pycharm": {
     "name": "#%%\n",
     "is_executing": true
    }
   }
  },
  {
   "cell_type": "code",
   "execution_count": null,
   "outputs": [],
   "source": [
    "X_train.shape[0] * 0.1 / 10"
   ],
   "metadata": {
    "collapsed": false,
    "pycharm": {
     "name": "#%%\n",
     "is_executing": true
    }
   }
  },
  {
   "cell_type": "code",
   "execution_count": null,
   "outputs": [],
   "source": [],
   "metadata": {
    "collapsed": false,
    "pycharm": {
     "name": "#%%\n",
     "is_executing": true
    }
   }
  }
 ],
 "metadata": {
  "kernelspec": {
   "display_name": "Python 3",
   "language": "python",
   "name": "python3"
  },
  "language_info": {
   "codemirror_mode": {
    "name": "ipython",
    "version": 2
   },
   "file_extension": ".py",
   "mimetype": "text/x-python",
   "name": "python",
   "nbconvert_exporter": "python",
   "pygments_lexer": "ipython2",
   "version": "2.7.6"
  }
 },
 "nbformat": 4,
 "nbformat_minor": 0
}