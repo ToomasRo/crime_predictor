{
 "cells": [
  {
   "cell_type": "code",
   "execution_count": 1,
   "metadata": {
    "collapsed": true
   },
   "outputs": [],
   "source": [
    "from xgboost import XGBClassifier\n",
    "import pandas as pd\n",
    "import numpy as np\n",
    "from joblib import dump, load\n",
    "from os import path\n",
    "from sklearn import metrics"
   ]
  },
  {
   "cell_type": "code",
   "execution_count": 2,
   "outputs": [
    {
     "name": "stdout",
     "output_type": "stream",
     "text": [
      "<class 'pandas.core.frame.DataFrame'>\n",
      "RangeIndex: 62476 entries, 0 to 62475\n",
      "Data columns (total 16 columns):\n",
      " #   Column                         Non-Null Count  Dtype \n",
      "---  ------                         --------------  ----- \n",
      " 0   LIIK_AVALIKU_KORRA_RIKKUMINE   62476 non-null  int8  \n",
      " 1   LIIK_JALGRATTA_MOPEEDI_VARGUS  62476 non-null  int8  \n",
      " 2   LIIK_KEHALINE_VAARKOHTLEMINE   62476 non-null  int8  \n",
      " 3   LIIK_KELMUS                    62476 non-null  int8  \n",
      " 4   LIIK_KONFLIKT/OMAVOLI          62476 non-null  int8  \n",
      " 5   LIIK_KOOLIVAGIVALD             62476 non-null  int8  \n",
      " 6   LIIK_LIIKLUSRIKKUMINE          62476 non-null  int8  \n",
      " 7   LIIK_MOOTORSOIDUKI_VARGUS      62476 non-null  int8  \n",
      " 8   LIIK_MUU                       62476 non-null  int8  \n",
      " 9   LIIK_PISIVARGUS                62476 non-null  int8  \n",
      " 10  LIIK_ROOVIMINE                 62476 non-null  int8  \n",
      " 11  LIIK_TULEKAHJU                 62476 non-null  int8  \n",
      " 12  LIIK_VANDALISM                 62476 non-null  int8  \n",
      " 13  LIIK_VARGUS                    62476 non-null  int8  \n",
      " 14  Kahjusumma                     62476 non-null  int32 \n",
      " 15  Koht                           62476 non-null  object\n",
      "dtypes: int32(1), int8(14), object(1)\n",
      "memory usage: 1.5+ MB\n"
     ]
    },
    {
     "data": {
      "text/plain": "   LIIK_AVALIKU_KORRA_RIKKUMINE  LIIK_JALGRATTA_MOPEEDI_VARGUS  \\\n0                             0                              0   \n1                             0                              0   \n2                             1                              0   \n3                             0                              1   \n4                             0                              0   \n\n   LIIK_KEHALINE_VAARKOHTLEMINE  LIIK_KELMUS  LIIK_KONFLIKT/OMAVOLI  \\\n0                             0            0                      0   \n1                             0            0                      0   \n2                             0            0                      0   \n3                             0            0                      0   \n4                             0            0                      0   \n\n   LIIK_KOOLIVAGIVALD  LIIK_LIIKLUSRIKKUMINE  LIIK_MOOTORSOIDUKI_VARGUS  \\\n0                   0                      0                          0   \n1                   0                      0                          0   \n2                   0                      0                          0   \n3                   0                      0                          0   \n4                   0                      0                          0   \n\n   LIIK_MUU  LIIK_PISIVARGUS  LIIK_ROOVIMINE  LIIK_TULEKAHJU  LIIK_VANDALISM  \\\n0         0                1               0               0               0   \n1         0                0               0               0               1   \n2         0                0               0               0               0   \n3         0                0               0               0               0   \n4         0                1               0               0               0   \n\n   LIIK_VARGUS  \n0            0  \n1            0  \n2            0  \n3            0  \n4            0  ",
      "text/html": "<div>\n<style scoped>\n    .dataframe tbody tr th:only-of-type {\n        vertical-align: middle;\n    }\n\n    .dataframe tbody tr th {\n        vertical-align: top;\n    }\n\n    .dataframe thead th {\n        text-align: right;\n    }\n</style>\n<table border=\"1\" class=\"dataframe\">\n  <thead>\n    <tr style=\"text-align: right;\">\n      <th></th>\n      <th>LIIK_AVALIKU_KORRA_RIKKUMINE</th>\n      <th>LIIK_JALGRATTA_MOPEEDI_VARGUS</th>\n      <th>LIIK_KEHALINE_VAARKOHTLEMINE</th>\n      <th>LIIK_KELMUS</th>\n      <th>LIIK_KONFLIKT/OMAVOLI</th>\n      <th>LIIK_KOOLIVAGIVALD</th>\n      <th>LIIK_LIIKLUSRIKKUMINE</th>\n      <th>LIIK_MOOTORSOIDUKI_VARGUS</th>\n      <th>LIIK_MUU</th>\n      <th>LIIK_PISIVARGUS</th>\n      <th>LIIK_ROOVIMINE</th>\n      <th>LIIK_TULEKAHJU</th>\n      <th>LIIK_VANDALISM</th>\n      <th>LIIK_VARGUS</th>\n    </tr>\n  </thead>\n  <tbody>\n    <tr>\n      <th>0</th>\n      <td>0</td>\n      <td>0</td>\n      <td>0</td>\n      <td>0</td>\n      <td>0</td>\n      <td>0</td>\n      <td>0</td>\n      <td>0</td>\n      <td>0</td>\n      <td>1</td>\n      <td>0</td>\n      <td>0</td>\n      <td>0</td>\n      <td>0</td>\n    </tr>\n    <tr>\n      <th>1</th>\n      <td>0</td>\n      <td>0</td>\n      <td>0</td>\n      <td>0</td>\n      <td>0</td>\n      <td>0</td>\n      <td>0</td>\n      <td>0</td>\n      <td>0</td>\n      <td>0</td>\n      <td>0</td>\n      <td>0</td>\n      <td>1</td>\n      <td>0</td>\n    </tr>\n    <tr>\n      <th>2</th>\n      <td>1</td>\n      <td>0</td>\n      <td>0</td>\n      <td>0</td>\n      <td>0</td>\n      <td>0</td>\n      <td>0</td>\n      <td>0</td>\n      <td>0</td>\n      <td>0</td>\n      <td>0</td>\n      <td>0</td>\n      <td>0</td>\n      <td>0</td>\n    </tr>\n    <tr>\n      <th>3</th>\n      <td>0</td>\n      <td>1</td>\n      <td>0</td>\n      <td>0</td>\n      <td>0</td>\n      <td>0</td>\n      <td>0</td>\n      <td>0</td>\n      <td>0</td>\n      <td>0</td>\n      <td>0</td>\n      <td>0</td>\n      <td>0</td>\n      <td>0</td>\n    </tr>\n    <tr>\n      <th>4</th>\n      <td>0</td>\n      <td>0</td>\n      <td>0</td>\n      <td>0</td>\n      <td>0</td>\n      <td>0</td>\n      <td>0</td>\n      <td>0</td>\n      <td>0</td>\n      <td>1</td>\n      <td>0</td>\n      <td>0</td>\n      <td>0</td>\n      <td>0</td>\n    </tr>\n  </tbody>\n</table>\n</div>"
     },
     "execution_count": 2,
     "metadata": {},
     "output_type": "execute_result"
    }
   ],
   "source": [
    "time_precision = 4   # jagame päeva xh suurusteks plokkideks\n",
    "\n",
    "\n",
    "X_train = pd.read_csv(\"../../data/X_train.csv\")\n",
    "X_train = X_train.apply(pd.to_numeric, errors='ignore', downcast='integer')\n",
    "X_train.ToimAeg = X_train.ToimAeg.values.astype('datetime64[D]')\n",
    "X_train.ToimAeg = X_train['ToimAeg'].apply(lambda x: x.replace(hour=x.hour-x.hour%time_precision, minute=0, second=0))\n",
    "X_train[\"Aasta\"] = X_train['ToimAeg'].dt.year\n",
    "X_train[\"Kuu\"] = X_train['ToimAeg'].dt.month\n",
    "X_train[\"Päev\"] = X_train['ToimAeg'].dt.day\n",
    "X_train[\"Tund\"] = X_train['ToimAeg'].dt.hour\n",
    "X_train.drop(columns=\"ToimAeg\", inplace=True)\n",
    "X_train = X_train.apply(pd.to_numeric, errors='ignore', downcast='integer')\n",
    "X_train.head()\n",
    "\n",
    "y_train = pd.read_csv(\"../../data/y_train.csv\")\n",
    "y_train = y_train.apply(pd.to_numeric, errors='ignore', downcast='integer')\n",
    "y_train.head()\n",
    "\n",
    "X_valid = pd.read_csv(\"../../data/X_valid.csv\")\n",
    "X_valid = X_valid.apply(pd.to_numeric, errors='ignore', downcast='integer')\n",
    "X_valid.ToimAeg = X_valid.ToimAeg.values.astype('datetime64[D]')\n",
    "X_valid.ToimAeg = X_valid['ToimAeg'].apply(lambda x: x.replace(hour=x.hour-x.hour%time_precision, minute=0, second=0))\n",
    "X_valid[\"Aasta\"] = X_valid['ToimAeg'].dt.year\n",
    "X_valid[\"Kuu\"] = X_valid['ToimAeg'].dt.month\n",
    "X_valid[\"Päev\"] = X_valid['ToimAeg'].dt.day\n",
    "X_valid[\"Tund\"] = X_valid['ToimAeg'].dt.hour\n",
    "X_valid.drop(columns=\"ToimAeg\", inplace=True)\n",
    "X_valid = X_valid.apply(pd.to_numeric, errors='ignore', downcast='integer')\n",
    "X_valid.head()\n",
    "\n",
    "y_valid = pd.read_csv(\"../../data/y_valid.csv\")\n",
    "y_valid = y_valid.apply(pd.to_numeric, errors='ignore', downcast='integer')\n",
    "y_valid.head()\n",
    "\n",
    "X_train.head()\n",
    "\n",
    "y_train.info()\n",
    "y_train.drop(columns=[\"Kahjusumma\",\"Koht\"], inplace=True)\n",
    "y_valid.drop(columns=[\"Kahjusumma\", \"Koht\"], inplace=True)\n",
    "y_train.head()\n"
   ],
   "metadata": {
    "collapsed": false,
    "pycharm": {
     "name": "#%%\n"
    }
   }
  },
  {
   "cell_type": "code",
   "execution_count": null,
   "outputs": [],
   "source": [
    "xgb_models = list()\n",
    "for col in y_train.columns:\n",
    "    xgb_models.append(XGBClassifier().fit(X_train, y_train[col]))"
   ],
   "metadata": {
    "collapsed": false,
    "pycharm": {
     "name": "#%%\n"
    }
   }
  },
  {
   "cell_type": "code",
   "execution_count": 4,
   "outputs": [
    {
     "name": "stdout",
     "output_type": "stream",
     "text": [
      "0.8071705797022871\tLIIK_AVALIKU_KORRA_RIKKUMINE\n",
      "0.5517125707380529\tLIIK_JALGRATTA_MOPEEDI_VARGUS\n",
      "0.5671801887033675\tLIIK_KEHALINE_VAARKOHTLEMINE\n",
      "0.523062664326911\tLIIK_KELMUS\n",
      "0.5151515151515151\tLIIK_KONFLIKT/OMAVOLI\n",
      "0.8233369066312356\tLIIK_KOOLIVAGIVALD\n",
      "0.4999359220812508\tLIIK_LIIKLUSRIKKUMINE\n",
      "0.5125631125631126\tLIIK_MOOTORSOIDUKI_VARGUS\n",
      "0.5180357519958971\tLIIK_MUU\n",
      "0.7760016091201657\tLIIK_PISIVARGUS\n",
      "0.49980564913189945\tLIIK_ROOVIMINE\n",
      "0.5\tLIIK_TULEKAHJU\n",
      "0.5303005238489109\tLIIK_VANDALISM\n",
      "0.6922840668900925\tLIIK_VARGUS\n"
     ]
    }
   ],
   "source": [
    "for col, model in list(zip(y_valid.columns, xgb_models)):\n",
    "    print(metrics.roc_auc_score(y_valid[col], model.predict(X_valid)), col, sep=\"\\t\")"
   ],
   "metadata": {
    "collapsed": false,
    "pycharm": {
     "name": "#%%\n"
    }
   }
  },
  {
   "cell_type": "code",
   "execution_count": 5,
   "outputs": [
    {
     "name": "stdout",
     "output_type": "stream",
     "text": [
      "{'LIIK_AVALIKU_KORRA_RIKKUMINE': 0.9491612242284544, 'LIIK_JALGRATTA_MOPEEDI_VARGUS': 0.9751568702778844, 'LIIK_KEHALINE_VAARKOHTLEMINE': 0.9669611986169804, 'LIIK_KELMUS': 0.9943654757331284, 'LIIK_KONFLIKT/OMAVOLI': 0.9959021641695479, 'LIIK_KOOLIVAGIVALD': 0.9988474836726854, 'LIIK_LIIKLUSRIKKUMINE': 0.9991035984120886, 'LIIK_MOOTORSOIDUKI_VARGUS': 0.9946215904725317, 'LIIK_MUU': 0.9624791906774235, 'LIIK_PISIVARGUS': 0.8130362402356256, 'LIIK_ROOVIMINE': 0.9879626072480471, 'LIIK_TULEKAHJU': 0.9987194263029837, 'LIIK_VANDALISM': 0.928031758227686, 'LIIK_VARGUS': 0.6916378537584839}\n",
      "{'LIIK_AVALIKU_KORRA_RIKKUMINE': 0.3, 'LIIK_JALGRATTA_MOPEEDI_VARGUS': 0.3, 'LIIK_KEHALINE_VAARKOHTLEMINE': 0.3, 'LIIK_KELMUS': 0.3, 'LIIK_KONFLIKT/OMAVOLI': 0.3, 'LIIK_KOOLIVAGIVALD': 0.3, 'LIIK_LIIKLUSRIKKUMINE': 0.3, 'LIIK_MOOTORSOIDUKI_VARGUS': 0.3, 'LIIK_MUU': 0.3, 'LIIK_PISIVARGUS': 0.3, 'LIIK_ROOVIMINE': 0.3, 'LIIK_TULEKAHJU': 0.3, 'LIIK_VANDALISM': 0.3, 'LIIK_VARGUS': 0.3}\n"
     ]
    }
   ],
   "source": [
    "# find best cutoff\n",
    "def applyCutoff(df, cutoff):\n",
    "    a = df.copy()\n",
    "    for col in a.columns:\n",
    "        a[col] = a[col].apply(lambda x: 1 if x > cutoff else 0)\n",
    "    return a\n",
    "max_acc = {col:-1 for col in y_valid.columns}\n",
    "max_acc_cut = {col:-1 for col in y_valid.columns}\n",
    "for col, model in list(zip(y_valid.columns, xgb_models)):\n",
    "    temp = pd.DataFrame(model.predict(X_valid))\n",
    "    for i in np.arange(0.3, 0.8, 0.01):\n",
    "        temp_cut = applyCutoff(temp, i)\n",
    "        if metrics.accuracy_score(y_valid[col], temp_cut) > max_acc[col]:\n",
    "            max_acc[col] = metrics.accuracy_score(y_valid[col], temp_cut)\n",
    "            max_acc_cut[col] = i\n",
    "print(max_acc)\n",
    "print(max_acc_cut)"
   ],
   "metadata": {
    "collapsed": false,
    "pycharm": {
     "name": "#%%\n"
    }
   }
  },
  {
   "cell_type": "code",
   "execution_count": 6,
   "outputs": [
    {
     "name": "stdout",
     "output_type": "stream",
     "text": [
      "0.32746830580099884\n"
     ]
    }
   ],
   "source": [
    "# best cutoff is where sum(frequency*cutof)/all\n",
    "summa = 0\n",
    "for col in y_valid.columns:\n",
    "    summa += max_acc_cut[col] * sum(y_valid[col])\n",
    "print(summa/y_valid.shape[0])\n",
    "# best is 0.6015840696632094, although we can use separate cutoffs for everyone, but to lazy"
   ],
   "metadata": {
    "collapsed": false,
    "pycharm": {
     "name": "#%%\n"
    }
   }
  },
  {
   "cell_type": "code",
   "execution_count": 7,
   "outputs": [
    {
     "name": "stdout",
     "output_type": "stream",
     "text": [
      "0.9491612242284544\tLIIK_AVALIKU_KORRA_RIKKUMINE\n",
      "0.9751568702778844\tLIIK_JALGRATTA_MOPEEDI_VARGUS\n",
      "0.9669611986169804\tLIIK_KEHALINE_VAARKOHTLEMINE\n",
      "0.9943654757331284\tLIIK_KELMUS\n",
      "0.9959021641695479\tLIIK_KONFLIKT/OMAVOLI\n",
      "0.9988474836726854\tLIIK_KOOLIVAGIVALD\n",
      "0.9991035984120886\tLIIK_LIIKLUSRIKKUMINE\n",
      "0.9946215904725317\tLIIK_MOOTORSOIDUKI_VARGUS\n",
      "0.9624791906774235\tLIIK_MUU\n",
      "0.8130362402356256\tLIIK_PISIVARGUS\n",
      "0.9879626072480471\tLIIK_ROOVIMINE\n",
      "0.9987194263029837\tLIIK_TULEKAHJU\n",
      "0.928031758227686\tLIIK_VANDALISM\n",
      "0.6916378537584839\tLIIK_VARGUS\n"
     ]
    }
   ],
   "source": [
    "# accuracies\n",
    "for col, model in list(zip(y_valid.columns, xgb_models)):\n",
    "    print(metrics.accuracy_score(y_valid[col], applyCutoff(pd.DataFrame(model.predict(X_valid)), max_acc_cut[col])), col, sep=\"\\t\")"
   ],
   "metadata": {
    "collapsed": false,
    "pycharm": {
     "name": "#%%\n"
    }
   }
  },
  {
   "cell_type": "code",
   "execution_count": 8,
   "outputs": [
    {
     "name": "stdout",
     "output_type": "stream",
     "text": [
      "613\tLIIK_AVALIKU_KORRA_RIKKUMINE\n",
      "37\tLIIK_JALGRATTA_MOPEEDI_VARGUS\n",
      "71\tLIIK_KEHALINE_VAARKOHTLEMINE\n",
      "5\tLIIK_KELMUS\n",
      "1\tLIIK_KONFLIKT/OMAVOLI\n",
      "14\tLIIK_KOOLIVAGIVALD\n",
      "1\tLIIK_LIIKLUSRIKKUMINE\n",
      "5\tLIIK_MOOTORSOIDUKI_VARGUS\n",
      "24\tLIIK_MUU\n",
      "2318\tLIIK_PISIVARGUS\n",
      "3\tLIIK_ROOVIMINE\n",
      "0\tLIIK_TULEKAHJU\n",
      "81\tLIIK_VANDALISM\n",
      "4027\tLIIK_VARGUS\n"
     ]
    }
   ],
   "source": [
    "for col, model in list(zip(y_valid.columns, xgb_models)):\n",
    "    print(sum(model.predict(X_valid)), col, sep=\"\\t\")"
   ],
   "metadata": {
    "collapsed": false,
    "pycharm": {
     "name": "#%%\n"
    }
   }
  },
  {
   "cell_type": "code",
   "execution_count": 27,
   "outputs": [
    {
     "name": "stderr",
     "output_type": "stream",
     "text": [
      "c:\\python39\\lib\\site-packages\\sklearn\\utils\\deprecation.py:87: FutureWarning: Function plot_roc_curve is deprecated; Function `plot_roc_curve` is deprecated in 1.0 and will be removed in 1.2. Use one of the class methods: RocCurveDisplay.from_predictions or RocCurveDisplay.from_estimator.\n",
      "  warnings.warn(msg, category=FutureWarning)\n",
      "c:\\python39\\lib\\site-packages\\sklearn\\utils\\deprecation.py:87: FutureWarning: Function plot_roc_curve is deprecated; Function `plot_roc_curve` is deprecated in 1.0 and will be removed in 1.2. Use one of the class methods: RocCurveDisplay.from_predictions or RocCurveDisplay.from_estimator.\n",
      "  warnings.warn(msg, category=FutureWarning)\n",
      "c:\\python39\\lib\\site-packages\\sklearn\\utils\\deprecation.py:87: FutureWarning: Function plot_roc_curve is deprecated; Function `plot_roc_curve` is deprecated in 1.0 and will be removed in 1.2. Use one of the class methods: RocCurveDisplay.from_predictions or RocCurveDisplay.from_estimator.\n",
      "  warnings.warn(msg, category=FutureWarning)\n"
     ]
    },
    {
     "data": {
      "text/plain": "<Figure size 432x288 with 1 Axes>",
      "image/png": "[encoded data removed]"
     },
     "metadata": {
      "needs_background": "light"
     },
     "output_type": "display_data"
    }
   ],
   "source": [
    "import matplotlib.pyplot as plt\n",
    "\n",
    "fig = metrics.plot_roc_curve( xgb_models[0], X_valid, y_valid[y_valid.columns[0]], name=\"LIIK_AVALIKU_KORRA_RIKKUMINE\")\n",
    "fig = metrics.plot_roc_curve( xgb_models[9], X_valid, y_valid[y_valid.columns[9]],name=\"LIIK_PISIVARGUS\", ax = fig.ax_)\n",
    "fig = metrics.plot_roc_curve( xgb_models[13], X_valid, y_valid[y_valid.columns[13]],name=\"LIIK_VARGUS\", ax = fig.ax_)\n",
    "fig.figure_.suptitle(\"XGBClassifier ROC curve comparison\")\n",
    "\n",
    "plt.savefig(\"roc_curvess.png\")\n",
    "plt.show()"
   ],
   "metadata": {
    "collapsed": false,
    "pycharm": {
     "name": "#%%\n"
    }
   }
  },
  {
   "cell_type": "code",
   "execution_count": 12,
   "outputs": [],
   "source": [
    "# dump theese model\n",
    "for col, model in list(zip(y_valid.columns, xgb_models)):\n",
    "    filename = col.replace(\"/\", \"\")\n",
    "    name = path.join(\"trained_models/xgbClassifier/\", \"xgbr_\"+filename+\".joblib\")\n",
    "    dump(model, filename=name, compress=3, protocol=5)"
   ],
   "metadata": {
    "collapsed": false,
    "pycharm": {
     "name": "#%%\n"
    }
   }
  }
 ],
 "metadata": {
  "kernelspec": {
   "display_name": "Python 3",
   "language": "python",
   "name": "python3"
  },
  "language_info": {
   "codemirror_mode": {
    "name": "ipython",
    "version": 2
   },
   "file_extension": ".py",
   "mimetype": "text/x-python",
   "name": "python",
   "nbconvert_exporter": "python",
   "pygments_lexer": "ipython2",
   "version": "2.7.6"
  }
 },
 "nbformat": 4,
 "nbformat_minor": 0
}