{
 "cells": [
  {
   "cell_type": "code",
   "execution_count": 4,
   "metadata": {
    "collapsed": true
   },
   "outputs": [
    {
     "name": "stdout",
     "output_type": "stream",
     "text": [
      "(62476, 53)\n",
      "(7809, 53)\n",
      "(7810, 53)\n",
      "(62476, 14)\n",
      "(7809, 14)\n",
      "(7810, 14)\n"
     ]
    },
    {
     "data": {
      "text/plain": "   MaakondNimetus ValdLinnNimetus         KohtNimetus   Lest_X  Lest_Y  \\\n0   Harju maakond   Tallinna linn  Kesklinna linnaosa  6588500  542000   \n19  Harju maakond   Tallinna linn   Lasnamäe linnaosa  6589500  549500   \n17  Harju maakond   Tallinna linn  Kesklinna linnaosa  6588500  542000   \n16  Harju maakond   Tallinna linn  Kesklinna linnaosa  6588500  542000   \n15  Harju maakond   Tallinna linn  Kesklinna linnaosa  6588500  542000   \n\n      ToimAeg  KOHT_APTEEK  KOHT_AVALIK_KOHT  KOHT_BUROO_KONTOR  \\\n0  2012-01-01            0                 1                  0   \n19 2012-01-01            0                 1                  0   \n17 2012-01-01            0                 1                  0   \n16 2012-01-01            0                 1                  0   \n15 2012-01-01            0                 1                  0   \n\n    KOHT_BUSSIJAAM_BUSSITERMINAAL  ...  ToimNadalapaev_Esmaspäev  \\\n0                               0  ...                         0   \n19                              0  ...                         0   \n17                              0  ...                         0   \n16                              0  ...                         0   \n15                              0  ...                         0   \n\n    ToimNadalapaev_Kolmapäev  ToimNadalapaev_Laupäev    \\\n0                          0                         0   \n19                         0                         0   \n17                         0                         0   \n16                         0                         0   \n15                         0                         0   \n\n    ToimNadalapaev_Neljapäev  ToimNadalapaev_Pühapäev  \\\n0                          0                        1   \n19                         0                        1   \n17                         0                        1   \n16                         0                        1   \n15                         0                        1   \n\n    ToimNadalapaev_Reede       ToimNadalapaev_Teisipäev  Kahjusumma_0-499  \\\n0                           0                         0                 1   \n19                          0                         0                 1   \n17                          0                         0                 0   \n16                          0                         0                 1   \n15                          0                         0                 0   \n\n    Kahjusumma_500-4999  Kahjusumma_5000-49999  \n0                     0                      0  \n19                    0                      0  \n17                    1                      0  \n16                    0                      0  \n15                    1                      0  \n\n[5 rows x 53 columns]",
      "text/html": "<div>\n<style scoped>\n    .dataframe tbody tr th:only-of-type {\n        vertical-align: middle;\n    }\n\n    .dataframe tbody tr th {\n        vertical-align: top;\n    }\n\n    .dataframe thead th {\n        text-align: right;\n    }\n</style>\n<table border=\"1\" class=\"dataframe\">\n  <thead>\n    <tr style=\"text-align: right;\">\n      <th></th>\n      <th>MaakondNimetus</th>\n      <th>ValdLinnNimetus</th>\n      <th>KohtNimetus</th>\n      <th>Lest_X</th>\n      <th>Lest_Y</th>\n      <th>ToimAeg</th>\n      <th>KOHT_APTEEK</th>\n      <th>KOHT_AVALIK_KOHT</th>\n      <th>KOHT_BUROO_KONTOR</th>\n      <th>KOHT_BUSSIJAAM_BUSSITERMINAAL</th>\n      <th>...</th>\n      <th>ToimNadalapaev_Esmaspäev</th>\n      <th>ToimNadalapaev_Kolmapäev</th>\n      <th>ToimNadalapaev_Laupäev</th>\n      <th>ToimNadalapaev_Neljapäev</th>\n      <th>ToimNadalapaev_Pühapäev</th>\n      <th>ToimNadalapaev_Reede</th>\n      <th>ToimNadalapaev_Teisipäev</th>\n      <th>Kahjusumma_0-499</th>\n      <th>Kahjusumma_500-4999</th>\n      <th>Kahjusumma_5000-49999</th>\n    </tr>\n  </thead>\n  <tbody>\n    <tr>\n      <th>0</th>\n      <td>Harju maakond</td>\n      <td>Tallinna linn</td>\n      <td>Kesklinna linnaosa</td>\n      <td>6588500</td>\n      <td>542000</td>\n      <td>2012-01-01</td>\n      <td>0</td>\n      <td>1</td>\n      <td>0</td>\n      <td>0</td>\n      <td>...</td>\n      <td>0</td>\n      <td>0</td>\n      <td>0</td>\n      <td>0</td>\n      <td>1</td>\n      <td>0</td>\n      <td>0</td>\n      <td>1</td>\n      <td>0</td>\n      <td>0</td>\n    </tr>\n    <tr>\n      <th>19</th>\n      <td>Harju maakond</td>\n      <td>Tallinna linn</td>\n      <td>Lasnamäe linnaosa</td>\n      <td>6589500</td>\n      <td>549500</td>\n      <td>2012-01-01</td>\n      <td>0</td>\n      <td>1</td>\n      <td>0</td>\n      <td>0</td>\n      <td>...</td>\n      <td>0</td>\n      <td>0</td>\n      <td>0</td>\n      <td>0</td>\n      <td>1</td>\n      <td>0</td>\n      <td>0</td>\n      <td>1</td>\n      <td>0</td>\n      <td>0</td>\n    </tr>\n    <tr>\n      <th>17</th>\n      <td>Harju maakond</td>\n      <td>Tallinna linn</td>\n      <td>Kesklinna linnaosa</td>\n      <td>6588500</td>\n      <td>542000</td>\n      <td>2012-01-01</td>\n      <td>0</td>\n      <td>1</td>\n      <td>0</td>\n      <td>0</td>\n      <td>...</td>\n      <td>0</td>\n      <td>0</td>\n      <td>0</td>\n      <td>0</td>\n      <td>1</td>\n      <td>0</td>\n      <td>0</td>\n      <td>0</td>\n      <td>1</td>\n      <td>0</td>\n    </tr>\n    <tr>\n      <th>16</th>\n      <td>Harju maakond</td>\n      <td>Tallinna linn</td>\n      <td>Kesklinna linnaosa</td>\n      <td>6588500</td>\n      <td>542000</td>\n      <td>2012-01-01</td>\n      <td>0</td>\n      <td>1</td>\n      <td>0</td>\n      <td>0</td>\n      <td>...</td>\n      <td>0</td>\n      <td>0</td>\n      <td>0</td>\n      <td>0</td>\n      <td>1</td>\n      <td>0</td>\n      <td>0</td>\n      <td>1</td>\n      <td>0</td>\n      <td>0</td>\n    </tr>\n    <tr>\n      <th>15</th>\n      <td>Harju maakond</td>\n      <td>Tallinna linn</td>\n      <td>Kesklinna linnaosa</td>\n      <td>6588500</td>\n      <td>542000</td>\n      <td>2012-01-01</td>\n      <td>0</td>\n      <td>1</td>\n      <td>0</td>\n      <td>0</td>\n      <td>...</td>\n      <td>0</td>\n      <td>0</td>\n      <td>0</td>\n      <td>0</td>\n      <td>1</td>\n      <td>0</td>\n      <td>0</td>\n      <td>0</td>\n      <td>1</td>\n      <td>0</td>\n    </tr>\n  </tbody>\n</table>\n<p>5 rows × 53 columns</p>\n</div>"
     },
     "execution_count": 4,
     "metadata": {},
     "output_type": "execute_result"
    }
   ],
   "source": [
    "import pandas as pd\n",
    "import numpy as np\n",
    "from fast_ml.model_development import train_valid_test_split\n",
    "\n",
    "time_precision = 4   # jagame päeva xh suurusteks plokkideks\n",
    "\n",
    "\n",
    "df = pd.read_csv(\"../../data/master.csv\")\n",
    "df = df.apply(pd.to_numeric, errors='ignore', downcast='integer')\n",
    "df.ToimAeg = pd.to_datetime(df.ToimAeg)\n",
    "df.ToimAeg = df['ToimAeg'].apply(lambda x: x.replace(hour=x.hour-x.hour%time_precision, minute=0, second=0))\n",
    "df.head()\n",
    "# XXX valida parem traintestsplit\n",
    "\n",
    "target_cols = [col for col in df.columns if \"LIIK_\" in col] #need mida tahame ennustada\n",
    "X_train, y_train, X_valid, y_valid, X_test, y_test = train_valid_test_split(df, target=target_cols,\n",
    "                                                                            method='sorted', sort_by_col='ToimAeg', random_state=42,\n",
    "                                                                            train_size=0.8, valid_size=0.1, test_size=0.1)\n",
    "print(X_train.shape)\n",
    "print(X_valid.shape)\n",
    "print(X_test.shape)\n",
    "print(y_train.shape)\n",
    "print(y_valid.shape)\n",
    "print(y_test.shape)\n",
    "\n",
    "X_train.to_csv(\"../../data/X_train.csv\", index=False)\n",
    "X_valid.to_csv(\"../../data/X_valid.csv\", index=False)\n",
    "X_test.to_csv(\"../../data/X_test.csv\", index=False)\n",
    "y_train.to_csv(\"../../data/y_train.csv\", index=False)\n",
    "y_valid.to_csv(\"../../data/y_valid.csv\", index=False)\n",
    "y_test.to_csv(\"../../data/y_test.csv\", index=False)\n",
    "\n",
    "X_train.head()"
   ]
  }
 ],
 "metadata": {
  "kernelspec": {
   "display_name": "Python 3",
   "language": "python",
   "name": "python3"
  },
  "language_info": {
   "codemirror_mode": {
    "name": "ipython",
    "version": 2
   },
   "file_extension": ".py",
   "mimetype": "text/x-python",
   "name": "python",
   "nbconvert_exporter": "python",
   "pygments_lexer": "ipython2",
   "version": "2.7.6"
  }
 },
 "nbformat": 4,
 "nbformat_minor": 0
}