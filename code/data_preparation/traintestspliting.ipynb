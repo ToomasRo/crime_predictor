{
 "cells": [
  {
   "cell_type": "code",
   "execution_count": 3,
   "metadata": {
    "tags": []
   },
   "outputs": [
    {
     "data": {
      "text/plain": "   Kahjusumma   Lest_X  Lest_Y    ToimAeg  LIIK_AVALIKU_KORRA_RIKKUMINE  \\\n0           0  6588500  542000 2012-01-01                             0   \n1           0  6476000  529000 2012-01-01                             0   \n2           0  6588500  543500 2012-01-01                             0   \n3           0  6589000  547000 2012-01-01                             1   \n4           0  6588500  542000 2012-01-01                             0   \n\n   LIIK_JALGRATTA_MOPEEDI_VARGUS  LIIK_KEHALINE_VAARKOHTLEMINE  LIIK_KELMUS  \\\n0                              0                             0            0   \n1                              0                             0            0   \n2                              0                             0            0   \n3                              0                             0            0   \n4                              0                             0            0   \n\n   LIIK_KONFLIKT/OMAVOLI  LIIK_KOOLIVAGIVALD  ...  KOHT_TURG  KOHT_UHISSOIDUK  \\\n0                      0                   0  ...          0                0   \n1                      0                   0  ...          0                0   \n2                      0                   0  ...          0                0   \n3                      0                   0  ...          0                0   \n4                      0                   0  ...          0                0   \n\n   ToimNadalapaev_Esmaspäev  ToimNadalapaev_Kolmapäev  ToimNadalapaev_Laupäev  \\\n0                         0                         0                       0   \n1                         0                         0                       0   \n2                         0                         0                       0   \n3                         0                         0                       0   \n4                         0                         0                       0   \n\n   ToimNadalapaev_Neljapäev  ToimNadalapaev_Pühapäev  ToimNadalapaev_Reede  \\\n0                         0                        1                     0   \n1                         0                        1                     0   \n2                         0                        1                     0   \n3                         0                        1                     0   \n4                         0                        1                     0   \n\n   ToimNadalapaev_Teisipäev                                            Koht  \n0                         0  Harju maakond;Tallinna linn;Kesklinna linnaosa  \n1                         0           Pärnu maakond;Sauga vald;Sauga alevik  \n2                         0  Harju maakond;Tallinna linn;Kesklinna linnaosa  \n3                         0   Harju maakond;Tallinna linn;Lasnamäe linnaosa  \n4                         0  Harju maakond;Tallinna linn;Kesklinna linnaosa  \n\n[5 rows x 63 columns]",
      "text/html": "<div>\n<style scoped>\n    .dataframe tbody tr th:only-of-type {\n        vertical-align: middle;\n    }\n\n    .dataframe tbody tr th {\n        vertical-align: top;\n    }\n\n    .dataframe thead th {\n        text-align: right;\n    }\n</style>\n<table border=\"1\" class=\"dataframe\">\n  <thead>\n    <tr style=\"text-align: right;\">\n      <th></th>\n      <th>Kahjusumma</th>\n      <th>Lest_X</th>\n      <th>Lest_Y</th>\n      <th>ToimAeg</th>\n      <th>LIIK_AVALIKU_KORRA_RIKKUMINE</th>\n      <th>LIIK_JALGRATTA_MOPEEDI_VARGUS</th>\n      <th>LIIK_KEHALINE_VAARKOHTLEMINE</th>\n      <th>LIIK_KELMUS</th>\n      <th>LIIK_KONFLIKT/OMAVOLI</th>\n      <th>LIIK_KOOLIVAGIVALD</th>\n      <th>...</th>\n      <th>KOHT_TURG</th>\n      <th>KOHT_UHISSOIDUK</th>\n      <th>ToimNadalapaev_Esmaspäev</th>\n      <th>ToimNadalapaev_Kolmapäev</th>\n      <th>ToimNadalapaev_Laupäev</th>\n      <th>ToimNadalapaev_Neljapäev</th>\n      <th>ToimNadalapaev_Pühapäev</th>\n      <th>ToimNadalapaev_Reede</th>\n      <th>ToimNadalapaev_Teisipäev</th>\n      <th>Koht</th>\n    </tr>\n  </thead>\n  <tbody>\n    <tr>\n      <th>0</th>\n      <td>0</td>\n      <td>6588500</td>\n      <td>542000</td>\n      <td>2012-01-01</td>\n      <td>0</td>\n      <td>0</td>\n      <td>0</td>\n      <td>0</td>\n      <td>0</td>\n      <td>0</td>\n      <td>...</td>\n      <td>0</td>\n      <td>0</td>\n      <td>0</td>\n      <td>0</td>\n      <td>0</td>\n      <td>0</td>\n      <td>1</td>\n      <td>0</td>\n      <td>0</td>\n      <td>Harju maakond;Tallinna linn;Kesklinna linnaosa</td>\n    </tr>\n    <tr>\n      <th>1</th>\n      <td>0</td>\n      <td>6476000</td>\n      <td>529000</td>\n      <td>2012-01-01</td>\n      <td>0</td>\n      <td>0</td>\n      <td>0</td>\n      <td>0</td>\n      <td>0</td>\n      <td>0</td>\n      <td>...</td>\n      <td>0</td>\n      <td>0</td>\n      <td>0</td>\n      <td>0</td>\n      <td>0</td>\n      <td>0</td>\n      <td>1</td>\n      <td>0</td>\n      <td>0</td>\n      <td>Pärnu maakond;Sauga vald;Sauga alevik</td>\n    </tr>\n    <tr>\n      <th>2</th>\n      <td>0</td>\n      <td>6588500</td>\n      <td>543500</td>\n      <td>2012-01-01</td>\n      <td>0</td>\n      <td>0</td>\n      <td>0</td>\n      <td>0</td>\n      <td>0</td>\n      <td>0</td>\n      <td>...</td>\n      <td>0</td>\n      <td>0</td>\n      <td>0</td>\n      <td>0</td>\n      <td>0</td>\n      <td>0</td>\n      <td>1</td>\n      <td>0</td>\n      <td>0</td>\n      <td>Harju maakond;Tallinna linn;Kesklinna linnaosa</td>\n    </tr>\n    <tr>\n      <th>3</th>\n      <td>0</td>\n      <td>6589000</td>\n      <td>547000</td>\n      <td>2012-01-01</td>\n      <td>1</td>\n      <td>0</td>\n      <td>0</td>\n      <td>0</td>\n      <td>0</td>\n      <td>0</td>\n      <td>...</td>\n      <td>0</td>\n      <td>0</td>\n      <td>0</td>\n      <td>0</td>\n      <td>0</td>\n      <td>0</td>\n      <td>1</td>\n      <td>0</td>\n      <td>0</td>\n      <td>Harju maakond;Tallinna linn;Lasnamäe linnaosa</td>\n    </tr>\n    <tr>\n      <th>4</th>\n      <td>0</td>\n      <td>6588500</td>\n      <td>542000</td>\n      <td>2012-01-01</td>\n      <td>0</td>\n      <td>0</td>\n      <td>0</td>\n      <td>0</td>\n      <td>0</td>\n      <td>0</td>\n      <td>...</td>\n      <td>0</td>\n      <td>0</td>\n      <td>0</td>\n      <td>0</td>\n      <td>0</td>\n      <td>0</td>\n      <td>1</td>\n      <td>0</td>\n      <td>0</td>\n      <td>Harju maakond;Tallinna linn;Kesklinna linnaosa</td>\n    </tr>\n  </tbody>\n</table>\n<p>5 rows × 63 columns</p>\n</div>"
     },
     "execution_count": 3,
     "metadata": {},
     "output_type": "execute_result"
    }
   ],
   "source": [
    "import pandas as pd\n",
    "import numpy as np\n",
    "from fast_ml.model_development import train_valid_test_split\n",
    "\n",
    "time_precision = 4   # jagame päeva xh suurusteks plokkideks\n",
    "\n",
    "\n",
    "df = pd.read_csv(\"../../data/master.csv\")\n",
    "df = df.apply(pd.to_numeric, errors='ignore', downcast='integer')\n",
    "df.ToimAeg = pd.to_datetime(df.ToimAeg)\n",
    "df.ToimAeg = df['ToimAeg'].apply(lambda x: x.replace(hour=x.hour-x.hour%time_precision, minute=0, second=0))\n",
    "df.head()\n",
    "# XXX valida parem traintestsplit"
   ]
  },
  {
   "cell_type": "code",
   "execution_count": 4,
   "metadata": {},
   "outputs": [
    {
     "name": "stdout",
     "output_type": "stream",
     "text": [
      "(62476, 47)\n",
      "(7809, 47)\n",
      "(7810, 47)\n",
      "(62476, 16)\n",
      "(7809, 16)\n",
      "(7810, 16)\n"
     ]
    },
    {
     "data": {
      "text/plain": "        Lest_X  Lest_Y             ToimAeg  KOHT_APTEEK  KOHT_AVALIK_KOHT  \\\n51487  6584000  540500 2017-02-05 08:00:00            0                 1   \n66069  6593000  557000 2019-06-06 20:00:00            0                 1   \n10887  6461000  663000 2012-11-19 00:00:00            0                 0   \n68536  6590000  539000 2019-11-11 12:00:00            0                 1   \n35437  6590500  549500 2015-03-24 16:00:00            0                 1   \n\n       KOHT_BUROO_KONTOR  KOHT_BUSSIJAAM_BUSSITERMINAAL  KOHT_BUSSIPEATUS  \\\n51487                  0                              0                 0   \n66069                  0                              0                 0   \n10887                  0                              0                 0   \n68536                  0                              0                 0   \n35437                  0                              0                 0   \n\n       KOHT_EHITUS  KOHT_HOTELL_MOTELL  ...  KOHT_TREPIKODA_KORIDOR  \\\n51487            0                   0  ...                       0   \n66069            0                   0  ...                       0   \n10887            0                   0  ...                       0   \n68536            0                   0  ...                       0   \n35437            0                   0  ...                       0   \n\n       KOHT_TURG  KOHT_UHISSOIDUK  ToimNadalapaev_Esmaspäev  \\\n51487          0                0                         0   \n66069          0                0                         0   \n10887          0                0                         1   \n68536          0                0                         1   \n35437          0                0                         0   \n\n       ToimNadalapaev_Kolmapäev  ToimNadalapaev_Laupäev  \\\n51487                         0                       0   \n66069                         0                       0   \n10887                         0                       0   \n68536                         0                       0   \n35437                         0                       0   \n\n       ToimNadalapaev_Neljapäev  ToimNadalapaev_Pühapäev  \\\n51487                         0                        1   \n66069                         1                        0   \n10887                         0                        0   \n68536                         0                        0   \n35437                         0                        0   \n\n       ToimNadalapaev_Reede  ToimNadalapaev_Teisipäev  \n51487                     0                         0  \n66069                     0                         0  \n10887                     0                         0  \n68536                     0                         0  \n35437                     0                         1  \n\n[5 rows x 47 columns]",
      "text/html": "<div>\n<style scoped>\n    .dataframe tbody tr th:only-of-type {\n        vertical-align: middle;\n    }\n\n    .dataframe tbody tr th {\n        vertical-align: top;\n    }\n\n    .dataframe thead th {\n        text-align: right;\n    }\n</style>\n<table border=\"1\" class=\"dataframe\">\n  <thead>\n    <tr style=\"text-align: right;\">\n      <th></th>\n      <th>Lest_X</th>\n      <th>Lest_Y</th>\n      <th>ToimAeg</th>\n      <th>KOHT_APTEEK</th>\n      <th>KOHT_AVALIK_KOHT</th>\n      <th>KOHT_BUROO_KONTOR</th>\n      <th>KOHT_BUSSIJAAM_BUSSITERMINAAL</th>\n      <th>KOHT_BUSSIPEATUS</th>\n      <th>KOHT_EHITUS</th>\n      <th>KOHT_HOTELL_MOTELL</th>\n      <th>...</th>\n      <th>KOHT_TREPIKODA_KORIDOR</th>\n      <th>KOHT_TURG</th>\n      <th>KOHT_UHISSOIDUK</th>\n      <th>ToimNadalapaev_Esmaspäev</th>\n      <th>ToimNadalapaev_Kolmapäev</th>\n      <th>ToimNadalapaev_Laupäev</th>\n      <th>ToimNadalapaev_Neljapäev</th>\n      <th>ToimNadalapaev_Pühapäev</th>\n      <th>ToimNadalapaev_Reede</th>\n      <th>ToimNadalapaev_Teisipäev</th>\n    </tr>\n  </thead>\n  <tbody>\n    <tr>\n      <th>51487</th>\n      <td>6584000</td>\n      <td>540500</td>\n      <td>2017-02-05 08:00:00</td>\n      <td>0</td>\n      <td>1</td>\n      <td>0</td>\n      <td>0</td>\n      <td>0</td>\n      <td>0</td>\n      <td>0</td>\n      <td>...</td>\n      <td>0</td>\n      <td>0</td>\n      <td>0</td>\n      <td>0</td>\n      <td>0</td>\n      <td>0</td>\n      <td>0</td>\n      <td>1</td>\n      <td>0</td>\n      <td>0</td>\n    </tr>\n    <tr>\n      <th>66069</th>\n      <td>6593000</td>\n      <td>557000</td>\n      <td>2019-06-06 20:00:00</td>\n      <td>0</td>\n      <td>1</td>\n      <td>0</td>\n      <td>0</td>\n      <td>0</td>\n      <td>0</td>\n      <td>0</td>\n      <td>...</td>\n      <td>0</td>\n      <td>0</td>\n      <td>0</td>\n      <td>0</td>\n      <td>0</td>\n      <td>0</td>\n      <td>1</td>\n      <td>0</td>\n      <td>0</td>\n      <td>0</td>\n    </tr>\n    <tr>\n      <th>10887</th>\n      <td>6461000</td>\n      <td>663000</td>\n      <td>2012-11-19 00:00:00</td>\n      <td>0</td>\n      <td>0</td>\n      <td>0</td>\n      <td>0</td>\n      <td>0</td>\n      <td>0</td>\n      <td>0</td>\n      <td>...</td>\n      <td>0</td>\n      <td>0</td>\n      <td>0</td>\n      <td>1</td>\n      <td>0</td>\n      <td>0</td>\n      <td>0</td>\n      <td>0</td>\n      <td>0</td>\n      <td>0</td>\n    </tr>\n    <tr>\n      <th>68536</th>\n      <td>6590000</td>\n      <td>539000</td>\n      <td>2019-11-11 12:00:00</td>\n      <td>0</td>\n      <td>1</td>\n      <td>0</td>\n      <td>0</td>\n      <td>0</td>\n      <td>0</td>\n      <td>0</td>\n      <td>...</td>\n      <td>0</td>\n      <td>0</td>\n      <td>0</td>\n      <td>1</td>\n      <td>0</td>\n      <td>0</td>\n      <td>0</td>\n      <td>0</td>\n      <td>0</td>\n      <td>0</td>\n    </tr>\n    <tr>\n      <th>35437</th>\n      <td>6590500</td>\n      <td>549500</td>\n      <td>2015-03-24 16:00:00</td>\n      <td>0</td>\n      <td>1</td>\n      <td>0</td>\n      <td>0</td>\n      <td>0</td>\n      <td>0</td>\n      <td>0</td>\n      <td>...</td>\n      <td>0</td>\n      <td>0</td>\n      <td>0</td>\n      <td>0</td>\n      <td>0</td>\n      <td>0</td>\n      <td>0</td>\n      <td>0</td>\n      <td>0</td>\n      <td>1</td>\n    </tr>\n  </tbody>\n</table>\n<p>5 rows × 47 columns</p>\n</div>"
     },
     "execution_count": 4,
     "metadata": {},
     "output_type": "execute_result"
    }
   ],
   "source": [
    "target_cols = [col for col in df.columns if \"LIIK_\" in col] + ['Kahjusumma', 'Koht'] #need mida tahame ennustada\n",
    "X_train, y_train, X_valid, y_valid, X_test, y_test = train_valid_test_split(df, target=target_cols,\n",
    "                                                                            method='random', sort_by_col='ToimAeg', random_state=42,\n",
    "                                                                            train_size=0.8, valid_size=0.1, test_size=0.1)\n",
    "print(X_train.shape)\n",
    "print(X_valid.shape)\n",
    "print(X_test.shape)\n",
    "print(y_train.shape)\n",
    "print(y_valid.shape)\n",
    "print(y_test.shape)\n",
    "\n",
    "X_train.to_csv(\"../../data/X_train.csv\", index=False)\n",
    "X_valid.to_csv(\"../../data/X_valid.csv\", index=False)\n",
    "X_test.to_csv(\"../../data/X_test.csv\", index=False)\n",
    "y_train.to_csv(\"../../data/y_train.csv\", index=False)\n",
    "y_valid.to_csv(\"../../data/y_valid.csv\", index=False)\n",
    "y_test.to_csv(\"../../data/y_test.csv\", index=False)\n",
    "\n",
    "X_train.head()"
   ]
  },
  {
   "cell_type": "code",
   "execution_count": 4,
   "metadata": {},
   "outputs": [],
   "source": []
  }
 ],
 "metadata": {
  "kernelspec": {
   "display_name": "Python 3",
   "language": "python",
   "name": "python3"
  },
  "language_info": {
   "codemirror_mode": {
    "name": "ipython",
    "version": 3
   },
   "file_extension": ".py",
   "mimetype": "text/x-python",
   "name": "python",
   "nbconvert_exporter": "python",
   "pygments_lexer": "ipython3",
   "version": "3.8.10"
  }
 },
 "nbformat": 4,
 "nbformat_minor": 4
}