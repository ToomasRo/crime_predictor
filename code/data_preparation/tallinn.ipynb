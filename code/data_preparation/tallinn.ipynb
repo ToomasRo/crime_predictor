{
 "cells": [
  {
   "cell_type": "code",
   "execution_count": 12,
   "metadata": {
    "collapsed": true,
    "pycharm": {
     "name": "#%%\n"
    }
   },
   "outputs": [
    {
     "name": "stdout",
     "output_type": "stream",
     "text": [
      "<class 'pandas.core.frame.DataFrame'>\n",
      "Int64Index: 67683 entries, 0 to 78094\n",
      "Data columns (total 63 columns):\n",
      " #   Column                              Non-Null Count  Dtype         \n",
      "---  ------                              --------------  -----         \n",
      " 0   Kahjusumma                          67683 non-null  int32         \n",
      " 1   Lest_X                              67683 non-null  int32         \n",
      " 2   Lest_Y                              67683 non-null  int32         \n",
      " 3   ToimAeg                             67683 non-null  datetime64[ns]\n",
      " 4   LIIK_AVALIKU_KORRA_RIKKUMINE        67683 non-null  int8          \n",
      " 5   LIIK_JALGRATTA_MOPEEDI_VARGUS       67683 non-null  int8          \n",
      " 6   LIIK_KEHALINE_VAARKOHTLEMINE        67683 non-null  int8          \n",
      " 7   LIIK_KELMUS                         67683 non-null  int8          \n",
      " 8   LIIK_KONFLIKT/OMAVOLI               67683 non-null  int8          \n",
      " 9   LIIK_KOOLIVAGIVALD                  67683 non-null  int8          \n",
      " 10  LIIK_LIIKLUSRIKKUMINE               67683 non-null  int8          \n",
      " 11  LIIK_MOOTORSOIDUKI_VARGUS           67683 non-null  int8          \n",
      " 12  LIIK_MUU                            67683 non-null  int8          \n",
      " 13  LIIK_PISIVARGUS                     67683 non-null  int8          \n",
      " 14  LIIK_ROOVIMINE                      67683 non-null  int8          \n",
      " 15  LIIK_TULEKAHJU                      67683 non-null  int8          \n",
      " 16  LIIK_VANDALISM                      67683 non-null  int8          \n",
      " 17  LIIK_VARGUS                         67683 non-null  int8          \n",
      " 18  KOHT_APTEEK                         67683 non-null  int8          \n",
      " 19  KOHT_AVALIK_KOHT                    67683 non-null  int8          \n",
      " 20  KOHT_BUROO_KONTOR                   67683 non-null  int8          \n",
      " 21  KOHT_BUSSIJAAM_BUSSITERMINAAL       67683 non-null  int8          \n",
      " 22  KOHT_BUSSIPEATUS                    67683 non-null  int8          \n",
      " 23  KOHT_EHITUS                         67683 non-null  int8          \n",
      " 24  KOHT_HOTELL_MOTELL                  67683 non-null  int8          \n",
      " 25  KOHT_KASIINO                        67683 non-null  int8          \n",
      " 26  KOHT_KAUBAMAJA                      67683 non-null  int8          \n",
      " 27  KOHT_KAUPLUS                        67683 non-null  int8          \n",
      " 28  KOHT_KIOSK                          67683 non-null  int8          \n",
      " 29  KOHT_KULTUURIASUTUS                 67683 non-null  int8          \n",
      " 30  KOHT_LASTEASUTUS_TERRITOORIUM       67683 non-null  int8          \n",
      " 31  KOHT_MUU KOHT                       67683 non-null  int8          \n",
      " 32  KOHT_MUU RUUM                       67683 non-null  int8          \n",
      " 33  KOHT_OOKLUBI_DISKOTEEK              67683 non-null  int8          \n",
      " 34  KOHT_OPPEASUTUS_SELLE_TERRITOORIUM  67683 non-null  int8          \n",
      " 35  KOHT_OUEALATEE                      67683 non-null  int8          \n",
      " 36  KOHT_OUEALA_LAHTINE_HOOV            67683 non-null  int8          \n",
      " 37  KOHT_PANGAAUTOMAAT                  67683 non-null  int8          \n",
      " 38  KOHT_PARK                           67683 non-null  int8          \n",
      " 39  KOHT_PARKLA                         67683 non-null  int8          \n",
      " 40  KOHT_RAND                           67683 non-null  int8          \n",
      " 41  KOHT_RAUDTEEJAAM                    67683 non-null  int8          \n",
      " 42  KOHT_RAVIASUTUS                     67683 non-null  int8          \n",
      " 43  KOHT_REISILAEV                      67683 non-null  int8          \n",
      " 44  KOHT_RIIDEHOID                      67683 non-null  int8          \n",
      " 45  KOHT_SADAM                          67683 non-null  int8          \n",
      " 46  KOHT_SOOGIKOHT                      67683 non-null  int8          \n",
      " 47  KOHT_SPORDIRAJATIS                  67683 non-null  int8          \n",
      " 48  KOHT_TAKSO                          67683 non-null  int8          \n",
      " 49  KOHT_TANAV_VALJAK                   67683 non-null  int8          \n",
      " 50  KOHT_TANKLA                         67683 non-null  int8          \n",
      " 51  KOHT_TEENINDUSETTEVOTE              67683 non-null  int8          \n",
      " 52  KOHT_TREPIKODA_KORIDOR              67683 non-null  int8          \n",
      " 53  KOHT_TURG                           67683 non-null  int8          \n",
      " 54  KOHT_UHISSOIDUK                     67683 non-null  int8          \n",
      " 55  ToimNadalapaev_Esmaspäev            67683 non-null  int8          \n",
      " 56  ToimNadalapaev_Kolmapäev            67683 non-null  int8          \n",
      " 57  ToimNadalapaev_Laupäev              67683 non-null  int8          \n",
      " 58  ToimNadalapaev_Neljapäev            67683 non-null  int8          \n",
      " 59  ToimNadalapaev_Pühapäev             67683 non-null  int8          \n",
      " 60  ToimNadalapaev_Reede                67683 non-null  int8          \n",
      " 61  ToimNadalapaev_Teisipäev            67683 non-null  int8          \n",
      " 62  Koht                                67683 non-null  object        \n",
      "dtypes: datetime64[ns](1), int32(3), int8(58), object(1)\n",
      "memory usage: 6.1+ MB\n"
     ]
    }
   ],
   "source": [
    "\n",
    "import pandas as pd\n",
    "import numpy as np\n",
    "\n",
    "time_precision = 4   # jagame päeva xh suurusteks plokkideks\n",
    "\n",
    "\n",
    "df = pd.read_csv(\"../../data/master.csv\")\n",
    "df = df.apply(pd.to_numeric, errors='ignore', downcast='integer')\n",
    "df.ToimAeg = pd.to_datetime(df.ToimAeg)\n",
    "df.ToimAeg = df['ToimAeg'].apply(lambda x: x.replace(hour=x.hour-x.hour%time_precision, minute=0, second=0))\n",
    "df.head()\n",
    "\n",
    "df = df[df[\"Koht\"].str.split(\";\", expand=True)[0]== \"Harju maakond\"] # kõik kuritööd harjumaal\n",
    "df.info()"
   ]
  },
  {
   "cell_type": "code",
   "execution_count": 15,
   "outputs": [
    {
     "name": "stdout",
     "output_type": "stream",
     "text": [
      "<class 'pandas.core.frame.DataFrame'>\n",
      "Int64Index: 956 entries, 0 to 67652\n",
      "Data columns (total 2 columns):\n",
      " #   Column  Non-Null Count  Dtype\n",
      "---  ------  --------------  -----\n",
      " 0   Lest_X  956 non-null    int32\n",
      " 1   Lest_Y  956 non-null    int32\n",
      "dtypes: int32(2)\n",
      "memory usage: 14.9 KB\n"
     ]
    }
   ],
   "source": [
    "df_loc = pd.DataFrame(df[[\"Lest_X\", \"Lest_Y\"]].values, columns=[\"Lest_X\", \"Lest_Y\"])\n",
    "df_loc.drop_duplicates(inplace=True)\n",
    "df_loc.info()"
   ],
   "metadata": {
    "collapsed": false,
    "pycharm": {
     "name": "#%%\n"
    }
   }
  },
  {
   "cell_type": "code",
   "execution_count": 24,
   "outputs": [
    {
     "name": "stdout",
     "output_type": "stream",
     "text": [
      "(67683, 1)\n",
      "<class 'pandas.core.frame.DataFrame'>\n",
      "Int64Index: 18045 entries, 0 to 67681\n",
      "Data columns (total 1 columns):\n",
      " #   Column   Non-Null Count  Dtype         \n",
      "---  ------   --------------  -----         \n",
      " 0   ToimAeg  18045 non-null  datetime64[ns]\n",
      "dtypes: datetime64[ns](1)\n",
      "memory usage: 282.0 KB\n"
     ]
    }
   ],
   "source": [
    "df_time = pd.DataFrame(df[[\"ToimAeg\"]].values, columns=[\"ToimAeg\"])\n",
    "df_time.drop_duplicates(inplace=True)\n",
    "df_time.info()"
   ],
   "metadata": {
    "collapsed": false,
    "pycharm": {
     "name": "#%%\n"
    }
   }
  },
  {
   "cell_type": "code",
   "execution_count": null,
   "outputs": [],
   "source": [
    "\n",
    "\n"
   ],
   "metadata": {
    "collapsed": false,
    "pycharm": {
     "name": "#%%\n"
    }
   }
  }
 ],
 "metadata": {
  "kernelspec": {
   "display_name": "Python 3",
   "language": "python",
   "name": "python3"
  },
  "language_info": {
   "codemirror_mode": {
    "name": "ipython",
    "version": 2
   },
   "file_extension": ".py",
   "mimetype": "text/x-python",
   "name": "python",
   "nbconvert_exporter": "python",
   "pygments_lexer": "ipython2",
   "version": "2.7.6"
  }
 },
 "nbformat": 4,
 "nbformat_minor": 0
}