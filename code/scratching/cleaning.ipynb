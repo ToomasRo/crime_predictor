{
 "cells": [
  {
   "cell_type": "code",
   "execution_count": 46,
   "metadata": {
    "collapsed": true,
    "pycharm": {
     "name": "#%%\n"
    }
   },
   "outputs": [],
   "source": [
    "import pandas as pd\n",
    "import numpy as np\n",
    "from fast_ml.model_development import train_valid_test_split"
   ]
  },
  {
   "cell_type": "code",
   "execution_count": 47,
   "outputs": [
    {
     "data": {
      "text/plain": "                               JuhtumId     ToimKpv ToimKell ToimNadalapaev  \\\n0  ec47da68-1635-18d5-8326-a9a756483dba  2015-12-31    23:55      Neljapäev   \n1  ec47a46c-1635-18d5-8326-a9a756483dba  2015-12-31    23:45      Neljapäev   \n2  ec47a69c-1635-18d5-8326-a9a756483dba  2015-12-31    23:30      Neljapäev   \n3  ec47a5ac-1635-18d5-8326-a9a756483dba  2015-12-31    22:30      Neljapäev   \n4  ec494c18-1635-18d5-8326-a9a756483dba  2015-12-31    22:00      Neljapäev   \n\n  SyndmusLiik           SyndmusTaiendavStatLiik             Seadus Paragrahv  \\\n0      VARGUS                        MUU_VARGUS  Karistusseadustik    § 199.   \n1      VARGUS  MOBIILTELEFONIVARGUS,TASKUVARGUS  Karistusseadustik    § 199.   \n2      VARGUS                        MUU_VARGUS  Karistusseadustik    § 199.   \n3   VANDALISM                               NaN  Karistusseadustik    § 218.   \n4  PISIVARGUS                               NaN  Karistusseadustik    § 218.   \n\n                                       ParagrahvTais   Loige Kahjusumma  \\\n0                                      § 199. Vargus  lg. 1.      0-499   \n1                                      § 199. Vargus  lg. 1.      0-499   \n2                                      § 199. Vargus  lg. 2.      0-499   \n3  § 218. Varavastane süütegu väheväärtusliku asj...  lg. 1.   500-4999   \n4  § 218. Varavastane süütegu väheväärtusliku asj...  lg. 1.      0-499   \n\n                                  KohtLiik MaakondNimetus ValdLinnNimetus  \\\n0  AVALIK_KOHT,KONNITEE_TEEPEENAR,MUU KOHT  Tartu maakond      Tartu linn   \n1                 AVALIK_KOHT,TANAV_VALJAK  Harju maakond         Tallinn   \n2                 AVALIK_KOHT,TANAV_VALJAK  Harju maakond         Tallinn   \n3                       AVALIK_KOHT,PARKLA  Harju maakond         Tallinn   \n4            AVALIK_KOHT,OOKLUBI_DISKOTEEK  Harju maakond         Tallinn   \n\n          KohtNimetus           Lest_X         Lest_Y SyyteoLiik  \n0          Tartu linn  6474000-6474499  658500-658999         KT  \n1  Kesklinna linnaosa  6589000-6589499  542000-542499         KT  \n2  Kristiine linnaosa  6588000-6588499  540000-540499         KT  \n3  Kesklinna linnaosa  6588000-6588499  542000-542499         VT  \n4  Kesklinna linnaosa  6588500-6588999  542000-542499         VT  ",
      "text/html": "<div>\n<style scoped>\n    .dataframe tbody tr th:only-of-type {\n        vertical-align: middle;\n    }\n\n    .dataframe tbody tr th {\n        vertical-align: top;\n    }\n\n    .dataframe thead th {\n        text-align: right;\n    }\n</style>\n<table border=\"1\" class=\"dataframe\">\n  <thead>\n    <tr style=\"text-align: right;\">\n      <th></th>\n      <th>JuhtumId</th>\n      <th>ToimKpv</th>\n      <th>ToimKell</th>\n      <th>ToimNadalapaev</th>\n      <th>SyndmusLiik</th>\n      <th>SyndmusTaiendavStatLiik</th>\n      <th>Seadus</th>\n      <th>Paragrahv</th>\n      <th>ParagrahvTais</th>\n      <th>Loige</th>\n      <th>Kahjusumma</th>\n      <th>KohtLiik</th>\n      <th>MaakondNimetus</th>\n      <th>ValdLinnNimetus</th>\n      <th>KohtNimetus</th>\n      <th>Lest_X</th>\n      <th>Lest_Y</th>\n      <th>SyyteoLiik</th>\n    </tr>\n  </thead>\n  <tbody>\n    <tr>\n      <th>0</th>\n      <td>ec47da68-1635-18d5-8326-a9a756483dba</td>\n      <td>2015-12-31</td>\n      <td>23:55</td>\n      <td>Neljapäev</td>\n      <td>VARGUS</td>\n      <td>MUU_VARGUS</td>\n      <td>Karistusseadustik</td>\n      <td>§ 199.</td>\n      <td>§ 199. Vargus</td>\n      <td>lg. 1.</td>\n      <td>0-499</td>\n      <td>AVALIK_KOHT,KONNITEE_TEEPEENAR,MUU KOHT</td>\n      <td>Tartu maakond</td>\n      <td>Tartu linn</td>\n      <td>Tartu linn</td>\n      <td>6474000-6474499</td>\n      <td>658500-658999</td>\n      <td>KT</td>\n    </tr>\n    <tr>\n      <th>1</th>\n      <td>ec47a46c-1635-18d5-8326-a9a756483dba</td>\n      <td>2015-12-31</td>\n      <td>23:45</td>\n      <td>Neljapäev</td>\n      <td>VARGUS</td>\n      <td>MOBIILTELEFONIVARGUS,TASKUVARGUS</td>\n      <td>Karistusseadustik</td>\n      <td>§ 199.</td>\n      <td>§ 199. Vargus</td>\n      <td>lg. 1.</td>\n      <td>0-499</td>\n      <td>AVALIK_KOHT,TANAV_VALJAK</td>\n      <td>Harju maakond</td>\n      <td>Tallinn</td>\n      <td>Kesklinna linnaosa</td>\n      <td>6589000-6589499</td>\n      <td>542000-542499</td>\n      <td>KT</td>\n    </tr>\n    <tr>\n      <th>2</th>\n      <td>ec47a69c-1635-18d5-8326-a9a756483dba</td>\n      <td>2015-12-31</td>\n      <td>23:30</td>\n      <td>Neljapäev</td>\n      <td>VARGUS</td>\n      <td>MUU_VARGUS</td>\n      <td>Karistusseadustik</td>\n      <td>§ 199.</td>\n      <td>§ 199. Vargus</td>\n      <td>lg. 2.</td>\n      <td>0-499</td>\n      <td>AVALIK_KOHT,TANAV_VALJAK</td>\n      <td>Harju maakond</td>\n      <td>Tallinn</td>\n      <td>Kristiine linnaosa</td>\n      <td>6588000-6588499</td>\n      <td>540000-540499</td>\n      <td>KT</td>\n    </tr>\n    <tr>\n      <th>3</th>\n      <td>ec47a5ac-1635-18d5-8326-a9a756483dba</td>\n      <td>2015-12-31</td>\n      <td>22:30</td>\n      <td>Neljapäev</td>\n      <td>VANDALISM</td>\n      <td>NaN</td>\n      <td>Karistusseadustik</td>\n      <td>§ 218.</td>\n      <td>§ 218. Varavastane süütegu väheväärtusliku asj...</td>\n      <td>lg. 1.</td>\n      <td>500-4999</td>\n      <td>AVALIK_KOHT,PARKLA</td>\n      <td>Harju maakond</td>\n      <td>Tallinn</td>\n      <td>Kesklinna linnaosa</td>\n      <td>6588000-6588499</td>\n      <td>542000-542499</td>\n      <td>VT</td>\n    </tr>\n    <tr>\n      <th>4</th>\n      <td>ec494c18-1635-18d5-8326-a9a756483dba</td>\n      <td>2015-12-31</td>\n      <td>22:00</td>\n      <td>Neljapäev</td>\n      <td>PISIVARGUS</td>\n      <td>NaN</td>\n      <td>Karistusseadustik</td>\n      <td>§ 218.</td>\n      <td>§ 218. Varavastane süütegu väheväärtusliku asj...</td>\n      <td>lg. 1.</td>\n      <td>0-499</td>\n      <td>AVALIK_KOHT,OOKLUBI_DISKOTEEK</td>\n      <td>Harju maakond</td>\n      <td>Tallinn</td>\n      <td>Kesklinna linnaosa</td>\n      <td>6588500-6588999</td>\n      <td>542000-542499</td>\n      <td>VT</td>\n    </tr>\n  </tbody>\n</table>\n</div>"
     },
     "execution_count": 47,
     "metadata": {},
     "output_type": "execute_result"
    }
   ],
   "source": [
    "# kõigi andmete sisselugemine\n",
    "data1 = pd.read_csv(\"../../data/avalik_2012_2015.csv\", sep='\\t')\n",
    "data2 = pd.read_csv(\"../../data/avalik_2016_2020.csv\", sep='\\t')\n",
    "data3 = pd.read_csv(\"../../data/avalik_2020_2021.csv\", sep='\\t')\n",
    "df = pd.concat([data1, data2, data3])\n",
    "df.drop_duplicates(subset='JuhtumId', inplace=True)\n",
    "df.head()"
   ],
   "metadata": {
    "collapsed": false,
    "pycharm": {
     "name": "#%%\n"
    }
   }
  },
  {
   "cell_type": "code",
   "execution_count": 48,
   "outputs": [],
   "source": [
    "# ainult oluliste veergude alles jätmine\n",
    "df.drop(columns=['SyndmusTaiendavStatLiik', 'Seadus', 'Paragrahv', 'ParagrahvTais','Loige', 'SyyteoLiik'], inplace=True)"
   ],
   "metadata": {
    "collapsed": false,
    "pycharm": {
     "name": "#%%\n"
    }
   }
  },
  {
   "cell_type": "code",
   "execution_count": 49,
   "outputs": [],
   "source": [
    "#kõikides kohtades kus on na aga on oluline et oleks salvestatud siis teeme asju\n",
    "df = df.dropna()"
   ],
   "metadata": {
    "collapsed": false,
    "pycharm": {
     "name": "#%%\n"
    }
   }
  },
  {
   "cell_type": "code",
   "execution_count": 50,
   "outputs": [
    {
     "data": {
      "text/plain": "                                   JuhtumId     ToimKpv ToimKell  \\\n51806  ec2ba64a-1635-18d5-8326-a9a756483dba  2012-01-01    00:00   \n51807  ec2c5676-1635-18d5-8326-a9a756483dba  2012-01-01    00:00   \n51805  ec2bc86e-1635-18d5-8326-a9a756483dba  2012-01-01    00:15   \n51804  4294dd58-1636-18d5-8326-a9a756483dba  2012-01-01    00:20   \n51803  ec2ba500-1635-18d5-8326-a9a756483dba  2012-01-01    00:30   \n\n      ToimNadalapaev              SyndmusLiik Kahjusumma  \\\n51806       Pühapäev                   VARGUS      0-499   \n51807       Pühapäev                VANDALISM      0-499   \n51805       Pühapäev                   VARGUS      0-499   \n51804       Pühapäev  AVALIKU_KORRA_RIKKUMINE      0-499   \n51803       Pühapäev                   VARGUS      0-499   \n\n                       KohtLiik MaakondNimetus ValdLinnNimetus  \\\n51806  AVALIK_KOHT,TANAV_VALJAK  Harju maakond   Tallinna linn   \n51807        AVALIK_KOHT,PARKLA  Pärnu maakond      Sauga vald   \n51805  AVALIK_KOHT,TANAV_VALJAK  Harju maakond   Tallinna linn   \n51804                  MUU KOHT  Harju maakond   Tallinna linn   \n51803  AVALIK_KOHT,TANAV_VALJAK  Harju maakond   Tallinna linn   \n\n              KohtNimetus           Lest_X         Lest_Y  \n51806  Kesklinna linnaosa  6588500-6588999  542000-542499  \n51807        Sauga alevik  6476000-6476999  529000-529999  \n51805  Kesklinna linnaosa  6588500-6588999  543500-543999  \n51804   Lasnamäe linnaosa  6589000-6589499  547000-547499  \n51803  Kesklinna linnaosa  6588500-6588999  542000-542499  ",
      "text/html": "<div>\n<style scoped>\n    .dataframe tbody tr th:only-of-type {\n        vertical-align: middle;\n    }\n\n    .dataframe tbody tr th {\n        vertical-align: top;\n    }\n\n    .dataframe thead th {\n        text-align: right;\n    }\n</style>\n<table border=\"1\" class=\"dataframe\">\n  <thead>\n    <tr style=\"text-align: right;\">\n      <th></th>\n      <th>JuhtumId</th>\n      <th>ToimKpv</th>\n      <th>ToimKell</th>\n      <th>ToimNadalapaev</th>\n      <th>SyndmusLiik</th>\n      <th>Kahjusumma</th>\n      <th>KohtLiik</th>\n      <th>MaakondNimetus</th>\n      <th>ValdLinnNimetus</th>\n      <th>KohtNimetus</th>\n      <th>Lest_X</th>\n      <th>Lest_Y</th>\n    </tr>\n  </thead>\n  <tbody>\n    <tr>\n      <th>51806</th>\n      <td>ec2ba64a-1635-18d5-8326-a9a756483dba</td>\n      <td>2012-01-01</td>\n      <td>00:00</td>\n      <td>Pühapäev</td>\n      <td>VARGUS</td>\n      <td>0-499</td>\n      <td>AVALIK_KOHT,TANAV_VALJAK</td>\n      <td>Harju maakond</td>\n      <td>Tallinna linn</td>\n      <td>Kesklinna linnaosa</td>\n      <td>6588500-6588999</td>\n      <td>542000-542499</td>\n    </tr>\n    <tr>\n      <th>51807</th>\n      <td>ec2c5676-1635-18d5-8326-a9a756483dba</td>\n      <td>2012-01-01</td>\n      <td>00:00</td>\n      <td>Pühapäev</td>\n      <td>VANDALISM</td>\n      <td>0-499</td>\n      <td>AVALIK_KOHT,PARKLA</td>\n      <td>Pärnu maakond</td>\n      <td>Sauga vald</td>\n      <td>Sauga alevik</td>\n      <td>6476000-6476999</td>\n      <td>529000-529999</td>\n    </tr>\n    <tr>\n      <th>51805</th>\n      <td>ec2bc86e-1635-18d5-8326-a9a756483dba</td>\n      <td>2012-01-01</td>\n      <td>00:15</td>\n      <td>Pühapäev</td>\n      <td>VARGUS</td>\n      <td>0-499</td>\n      <td>AVALIK_KOHT,TANAV_VALJAK</td>\n      <td>Harju maakond</td>\n      <td>Tallinna linn</td>\n      <td>Kesklinna linnaosa</td>\n      <td>6588500-6588999</td>\n      <td>543500-543999</td>\n    </tr>\n    <tr>\n      <th>51804</th>\n      <td>4294dd58-1636-18d5-8326-a9a756483dba</td>\n      <td>2012-01-01</td>\n      <td>00:20</td>\n      <td>Pühapäev</td>\n      <td>AVALIKU_KORRA_RIKKUMINE</td>\n      <td>0-499</td>\n      <td>MUU KOHT</td>\n      <td>Harju maakond</td>\n      <td>Tallinna linn</td>\n      <td>Lasnamäe linnaosa</td>\n      <td>6589000-6589499</td>\n      <td>547000-547499</td>\n    </tr>\n    <tr>\n      <th>51803</th>\n      <td>ec2ba500-1635-18d5-8326-a9a756483dba</td>\n      <td>2012-01-01</td>\n      <td>00:30</td>\n      <td>Pühapäev</td>\n      <td>VARGUS</td>\n      <td>0-499</td>\n      <td>AVALIK_KOHT,TANAV_VALJAK</td>\n      <td>Harju maakond</td>\n      <td>Tallinna linn</td>\n      <td>Kesklinna linnaosa</td>\n      <td>6588500-6588999</td>\n      <td>542000-542499</td>\n    </tr>\n  </tbody>\n</table>\n</div>"
     },
     "execution_count": 50,
     "metadata": {},
     "output_type": "execute_result"
    }
   ],
   "source": [
    "df.sort_values(by=[\"ToimKpv\", \"ToimKell\"], inplace=True)\n",
    "df.head()"
   ],
   "metadata": {
    "collapsed": false,
    "pycharm": {
     "name": "#%%\n"
    }
   }
  },
  {
   "cell_type": "code",
   "execution_count": 51,
   "outputs": [],
   "source": [
    "df.drop(columns=\"JuhtumId\", inplace=True)"
   ],
   "metadata": {
    "collapsed": false,
    "pycharm": {
     "name": "#%%\n"
    }
   }
  },
  {
   "cell_type": "code",
   "execution_count": 52,
   "outputs": [
    {
     "data": {
      "text/plain": "ToimNadalapaev             object\nSyndmusLiik                object\nKahjusumma                 object\nKohtLiik                   object\nMaakondNimetus             object\nValdLinnNimetus            object\nKohtNimetus                object\nLest_X                     object\nLest_Y                     object\nToim               datetime64[ns]\ndtype: object"
     },
     "execution_count": 52,
     "metadata": {},
     "output_type": "execute_result"
    }
   ],
   "source": [
    "df['Toim']= pd.to_datetime(df['ToimKpv'] + ' ' +df['ToimKell'])\n",
    "df.drop(columns=[\"ToimKpv\", \"ToimKell\"], inplace=True)\n",
    "\n",
    "df.dtypes"
   ],
   "metadata": {
    "collapsed": false,
    "pycharm": {
     "name": "#%%\n"
    }
   }
  },
  {
   "cell_type": "code",
   "execution_count": 53,
   "outputs": [
    {
     "data": {
      "text/plain": "      MaakondNimetus ValdLinnNimetus         KohtNimetus           Lest_X  \\\n51806  Harju maakond   Tallinna linn  Kesklinna linnaosa  6588500-6588999   \n51807  Pärnu maakond      Sauga vald        Sauga alevik  6476000-6476999   \n51805  Harju maakond   Tallinna linn  Kesklinna linnaosa  6588500-6588999   \n51804  Harju maakond   Tallinna linn   Lasnamäe linnaosa  6589000-6589499   \n51803  Harju maakond   Tallinna linn  Kesklinna linnaosa  6588500-6588999   \n\n              Lest_Y                Toim  LIIK_AVALIKU_KOOSOLEKU_TEADE  \\\n51806  542000-542499 2012-01-01 00:00:00                             0   \n51807  529000-529999 2012-01-01 00:00:00                             0   \n51805  543500-543999 2012-01-01 00:15:00                             0   \n51804  547000-547499 2012-01-01 00:20:00                             0   \n51803  542000-542499 2012-01-01 00:30:00                             0   \n\n       LIIK_AVALIKU_KORRA_RIKKUMINE  LIIK_ILLEGAALNE_KAUBA_MUUK  \\\n51806                             0                           0   \n51807                             0                           0   \n51805                             0                           0   \n51804                             1                           0   \n51803                             0                           0   \n\n       LIIK_INTELLEKTUAALSE_OMANDI_OIG_RIKK  ...  ToimNadalapaev_Kolmapäev  \\\n51806                                     0  ...                         0   \n51807                                     0  ...                         0   \n51805                                     0  ...                         0   \n51804                                     0  ...                         0   \n51803                                     0  ...                         0   \n\n       ToimNadalapaev_Laupäev    ToimNadalapaev_Neljapäev  \\\n51806                         0                         0   \n51807                         0                         0   \n51805                         0                         0   \n51804                         0                         0   \n51803                         0                         0   \n\n       ToimNadalapaev_Pühapäev  ToimNadalapaev_Reede       \\\n51806                        1                          0   \n51807                        1                          0   \n51805                        1                          0   \n51804                        1                          0   \n51803                        1                          0   \n\n       ToimNadalapaev_Teisipäev  Kahjusumma_0-499  Kahjusumma_500-4999  \\\n51806                         0                 1                    0   \n51807                         0                 1                    0   \n51805                         0                 1                    0   \n51804                         0                 1                    0   \n51803                         0                 1                    0   \n\n       Kahjusumma_5000-49999  Kahjusumma_50000-x  \n51806                      0                   0  \n51807                      0                   0  \n51805                      0                   0  \n51804                      0                   0  \n51803                      0                   0  \n\n[5 rows x 116 columns]",
      "text/html": "<div>\n<style scoped>\n    .dataframe tbody tr th:only-of-type {\n        vertical-align: middle;\n    }\n\n    .dataframe tbody tr th {\n        vertical-align: top;\n    }\n\n    .dataframe thead th {\n        text-align: right;\n    }\n</style>\n<table border=\"1\" class=\"dataframe\">\n  <thead>\n    <tr style=\"text-align: right;\">\n      <th></th>\n      <th>MaakondNimetus</th>\n      <th>ValdLinnNimetus</th>\n      <th>KohtNimetus</th>\n      <th>Lest_X</th>\n      <th>Lest_Y</th>\n      <th>Toim</th>\n      <th>LIIK_AVALIKU_KOOSOLEKU_TEADE</th>\n      <th>LIIK_AVALIKU_KORRA_RIKKUMINE</th>\n      <th>LIIK_ILLEGAALNE_KAUBA_MUUK</th>\n      <th>LIIK_INTELLEKTUAALSE_OMANDI_OIG_RIKK</th>\n      <th>...</th>\n      <th>ToimNadalapaev_Kolmapäev</th>\n      <th>ToimNadalapaev_Laupäev</th>\n      <th>ToimNadalapaev_Neljapäev</th>\n      <th>ToimNadalapaev_Pühapäev</th>\n      <th>ToimNadalapaev_Reede</th>\n      <th>ToimNadalapaev_Teisipäev</th>\n      <th>Kahjusumma_0-499</th>\n      <th>Kahjusumma_500-4999</th>\n      <th>Kahjusumma_5000-49999</th>\n      <th>Kahjusumma_50000-x</th>\n    </tr>\n  </thead>\n  <tbody>\n    <tr>\n      <th>51806</th>\n      <td>Harju maakond</td>\n      <td>Tallinna linn</td>\n      <td>Kesklinna linnaosa</td>\n      <td>6588500-6588999</td>\n      <td>542000-542499</td>\n      <td>2012-01-01 00:00:00</td>\n      <td>0</td>\n      <td>0</td>\n      <td>0</td>\n      <td>0</td>\n      <td>...</td>\n      <td>0</td>\n      <td>0</td>\n      <td>0</td>\n      <td>1</td>\n      <td>0</td>\n      <td>0</td>\n      <td>1</td>\n      <td>0</td>\n      <td>0</td>\n      <td>0</td>\n    </tr>\n    <tr>\n      <th>51807</th>\n      <td>Pärnu maakond</td>\n      <td>Sauga vald</td>\n      <td>Sauga alevik</td>\n      <td>6476000-6476999</td>\n      <td>529000-529999</td>\n      <td>2012-01-01 00:00:00</td>\n      <td>0</td>\n      <td>0</td>\n      <td>0</td>\n      <td>0</td>\n      <td>...</td>\n      <td>0</td>\n      <td>0</td>\n      <td>0</td>\n      <td>1</td>\n      <td>0</td>\n      <td>0</td>\n      <td>1</td>\n      <td>0</td>\n      <td>0</td>\n      <td>0</td>\n    </tr>\n    <tr>\n      <th>51805</th>\n      <td>Harju maakond</td>\n      <td>Tallinna linn</td>\n      <td>Kesklinna linnaosa</td>\n      <td>6588500-6588999</td>\n      <td>543500-543999</td>\n      <td>2012-01-01 00:15:00</td>\n      <td>0</td>\n      <td>0</td>\n      <td>0</td>\n      <td>0</td>\n      <td>...</td>\n      <td>0</td>\n      <td>0</td>\n      <td>0</td>\n      <td>1</td>\n      <td>0</td>\n      <td>0</td>\n      <td>1</td>\n      <td>0</td>\n      <td>0</td>\n      <td>0</td>\n    </tr>\n    <tr>\n      <th>51804</th>\n      <td>Harju maakond</td>\n      <td>Tallinna linn</td>\n      <td>Lasnamäe linnaosa</td>\n      <td>6589000-6589499</td>\n      <td>547000-547499</td>\n      <td>2012-01-01 00:20:00</td>\n      <td>0</td>\n      <td>1</td>\n      <td>0</td>\n      <td>0</td>\n      <td>...</td>\n      <td>0</td>\n      <td>0</td>\n      <td>0</td>\n      <td>1</td>\n      <td>0</td>\n      <td>0</td>\n      <td>1</td>\n      <td>0</td>\n      <td>0</td>\n      <td>0</td>\n    </tr>\n    <tr>\n      <th>51803</th>\n      <td>Harju maakond</td>\n      <td>Tallinna linn</td>\n      <td>Kesklinna linnaosa</td>\n      <td>6588500-6588999</td>\n      <td>542000-542499</td>\n      <td>2012-01-01 00:30:00</td>\n      <td>0</td>\n      <td>0</td>\n      <td>0</td>\n      <td>0</td>\n      <td>...</td>\n      <td>0</td>\n      <td>0</td>\n      <td>0</td>\n      <td>1</td>\n      <td>0</td>\n      <td>0</td>\n      <td>1</td>\n      <td>0</td>\n      <td>0</td>\n      <td>0</td>\n    </tr>\n  </tbody>\n</table>\n<p>5 rows × 116 columns</p>\n</div>"
     },
     "execution_count": 53,
     "metadata": {},
     "output_type": "execute_result"
    }
   ],
   "source": [
    "#df.head()\n",
    "#df[df[\"SyndmusLiik\"].str.contains(\",\")]\n",
    "new_df = pd.concat([df.drop('SyndmusLiik', 1), df['SyndmusLiik'].str.get_dummies(sep=\",\").add_prefix(\"LIIK_\")], 1)\n",
    "new_df = pd.concat([new_df.drop('KohtLiik', 1), new_df['KohtLiik'].str.get_dummies(sep=\",\").add_prefix(\"KOHT_\")], 1)\n",
    "new_df = pd.get_dummies(new_df, columns=[\"ToimNadalapaev\", \"Kahjusumma\"])\n",
    "new_df.head()"
   ],
   "metadata": {
    "collapsed": false,
    "pycharm": {
     "name": "#%%\n"
    }
   }
  },
  {
   "cell_type": "code",
   "execution_count": 54,
   "outputs": [
    {
     "name": "stdout",
     "output_type": "stream",
     "text": [
      "(78373, 6)\n",
      "(78373, 61)\n",
      "49\n",
      "['LIIK_AVALIKU_KOOSOLEKU_TEADE', 'LIIK_ILLEGAALNE_KAUBA_MUUK', 'LIIK_INTELLEKTUAALSE_OMANDI_OIG_RIKK', 'LIIK_JUHTUM_LOOMAGA', 'LIIK_JUHTUM_TULIRELVAGA', 'LIIK_JU_LIIK_COVID_19', 'LIIK_JU_LIIK_LIIKUMISPIIRANG', 'LIIK_KADUNUD_ESE/DOKUMENT', 'LIIK_KAUPLEMISE_NOUETE_RIKKUMINE', 'LIIK_LEITUD_LAIP', 'LIIK_LEITUD_LOHKEKEHA(-AINE)', 'LIIK_LIIKLUSONNETUS', 'LIIK_METALLIVARGUS', 'LIIK_METSAVARGUS', 'LIIK_MITTESULARAHALINE_MAKSEVAHEND', 'LIIK_NARKOJUHTUM', 'LIIK_PLAHVATUS', 'LIIK_POMMIAHVARDUS_KAHTLUS', 'LIIK_STREETRACE', 'LIIK_VALIMISED', 'LIIK_VARASTATU_MUUK/HOIDMINE', 'KOHT_HALDUSASUTUS', 'KOHT_INTERNET', 'KOHT_JALAKAIJATUNNEL', 'KOHT_KALMISTU', 'KOHT_KINO', 'KOHT_KIRIK_MUU_KULTUSEHOONE', 'KOHT_KONNITEE_TEEPEENAR', 'KOHT_LENNUJAAM', 'KOHT_LENNUK_OHUSOIDUK', 'KOHT_MAANTEE', 'KOHT_METS', 'KOHT_MUUSEUM', 'KOHT_NAITUSESAAL', 'KOHT_PANK', 'KOHT_PARKIMISMAJA', 'KOHT_PIIRIPUNKT', 'KOHT_RAUDTEE', 'KOHT_RONG', 'KOHT_SAAL_AULA', 'KOHT_SOOJUSTRASS', 'KOHT_STAADION', 'KOHT_SUPELRAND', 'KOHT_TEATER', 'KOHT_TEEAARNE_PUHKEKOHT', 'KOHT_TEHAS_VABRIK', 'KOHT_TOOTMIS_TOORUUM', 'KOHT_VEEKOGU', 'Kahjusumma_50000-x']\n"
     ]
    }
   ],
   "source": [
    "#remove useless onehotencoded things\n",
    "#del new_df_nums\n",
    "\n",
    "df_numerics_only = new_df.select_dtypes(include=np.number)\n",
    "#new_df_nums = pd.concat([new_df.drop(columns=new_df.select_dtypes(include=np.number).columns), df_numerics_only[df_numerics_only.columns[df_numerics_only.sum()>100]]])\n",
    "df1 = new_df.drop(columns=new_df.select_dtypes(include=np.number).columns)\n",
    "df2 = df_numerics_only[df_numerics_only.columns[df_numerics_only.sum()>100]]\n",
    "#new_df_nums = new_df.drop(columns=[for col in new_df.select_dtypes(include=np.number).columns if col.sum() < 100])\n",
    "print(df1.shape)\n",
    "print(df2.shape)\n",
    "\n",
    "# SIIN SAAB MUUTA mis on meie tähtsuse piir\n",
    "to_drop = [col for col in df_numerics_only.columns if df_numerics_only[col].sum() < 100]\n",
    "print(len(to_drop))\n",
    "print(to_drop)\n",
    "new_df.drop(columns=to_drop, inplace=True)\n",
    "\n",
    "#new_df_nums.shape"
   ],
   "metadata": {
    "collapsed": false,
    "pycharm": {
     "name": "#%%\n"
    }
   }
  },
  {
   "cell_type": "code",
   "execution_count": 55,
   "outputs": [
    {
     "name": "stdout",
     "output_type": "stream",
     "text": [
      "['KOHT_APTEEK', 'KOHT_AVALIK_KOHT', 'KOHT_BUROO_KONTOR', 'KOHT_BUSSIJAAM_BUSSITERMINAAL', 'KOHT_BUSSIPEATUS', 'KOHT_EHITUS', 'KOHT_HOTELL_MOTELL', 'KOHT_KASIINO', 'KOHT_KAUBAMAJA', 'KOHT_KAUPLUS', 'KOHT_KIOSK', 'KOHT_KULTUURIASUTUS', 'KOHT_LASTEASUTUS_TERRITOORIUM', 'KOHT_MUU KOHT', 'KOHT_MUU RUUM', 'KOHT_OOKLUBI_DISKOTEEK', 'KOHT_OPPEASUTUS_SELLE_TERRITOORIUM', 'KOHT_OUEALATEE', 'KOHT_OUEALA_LAHTINE_HOOV', 'KOHT_PANGAAUTOMAAT', 'KOHT_PARK', 'KOHT_PARKLA', 'KOHT_RAND', 'KOHT_RAUDTEEJAAM', 'KOHT_RAVIASUTUS', 'KOHT_REISILAEV', 'KOHT_RIIDEHOID', 'KOHT_SADAM', 'KOHT_SOOGIKOHT', 'KOHT_SPORDIRAJATIS', 'KOHT_TAKSO', 'KOHT_TANAV_VALJAK', 'KOHT_TANKLA', 'KOHT_TEENINDUSETTEVOTE', 'KOHT_TREPIKODA_KORIDOR', 'KOHT_TURG', 'KOHT_UHISSOIDUK']\n",
      "['LIIK_AVALIKU_KORRA_RIKKUMINE', 'LIIK_JALGRATTA_MOPEEDI_VARGUS', 'LIIK_KEHALINE_VAARKOHTLEMINE', 'LIIK_KELMUS', 'LIIK_KONFLIKT/OMAVOLI', 'LIIK_KOOLIVAGIVALD', 'LIIK_LIIKLUSRIKKUMINE', 'LIIK_MOOTORSOIDUKI_VARGUS', 'LIIK_MUU', 'LIIK_PISIVARGUS', 'LIIK_ROOVIMINE', 'LIIK_TULEKAHJU', 'LIIK_VANDALISM', 'LIIK_VARGUS']\n",
      "37\n",
      "14\n"
     ]
    }
   ],
   "source": [
    "koht_df = [col for col in df_numerics_only.columns if col not in to_drop and \"KOHT_\" in col]\n",
    "liik_df = [col for col in df_numerics_only.columns if col not in to_drop and \"LIIK_\" in col]\n",
    "print(koht_df)\n",
    "print(liik_df)\n",
    "print(len(koht_df))\n",
    "print(len(liik_df))"
   ],
   "metadata": {
    "collapsed": false,
    "pycharm": {
     "name": "#%%\n"
    }
   }
  },
  {
   "cell_type": "code",
   "execution_count": 57,
   "outputs": [
    {
     "data": {
      "text/plain": "      MaakondNimetus ValdLinnNimetus              KohtNimetus  \\\n51806  Harju maakond   Tallinna linn       Kesklinna linnaosa   \n51807  Pärnu maakond      Sauga vald             Sauga alevik   \n51805  Harju maakond   Tallinna linn       Kesklinna linnaosa   \n51804  Harju maakond   Tallinna linn        Lasnamäe linnaosa   \n51803  Harju maakond   Tallinna linn       Kesklinna linnaosa   \n...              ...             ...                      ...   \n4      Harju maakond         Tallinn  Põhja-Tallinna linnaosa   \n3      Harju maakond         Tallinn        Mustamäe linnaosa   \n2      Harju maakond         Tallinn       Kesklinna linnaosa   \n1      Harju maakond         Tallinn  Põhja-Tallinna linnaosa   \n0      Harju maakond         Tallinn        Lasnamäe linnaosa   \n\n                Lest_X         Lest_Y                Toim  \\\n51806  6588500-6588999  542000-542499 2012-01-01 00:00:00   \n51807  6476000-6476999  529000-529999 2012-01-01 00:00:00   \n51805  6588500-6588999  543500-543999 2012-01-01 00:15:00   \n51804  6589000-6589499  547000-547499 2012-01-01 00:20:00   \n51803  6588500-6588999  542000-542499 2012-01-01 00:30:00   \n...                ...            ...                 ...   \n4      6589000-6589499  541500-541999 2021-11-16 15:56:00   \n3      6585000-6585499  537000-537499 2021-11-16 16:53:00   \n2      6587000-6587499  543000-543499 2021-11-16 18:29:00   \n1      6590000-6590499  541000-541499 2021-11-17 10:35:00   \n0      6587500-6587999  545000-545499 2021-11-17 11:35:00   \n\n       LIIK_AVALIKU_KORRA_RIKKUMINE  LIIK_JALGRATTA_MOPEEDI_VARGUS  \\\n51806                             0                              0   \n51807                             0                              0   \n51805                             0                              0   \n51804                             1                              0   \n51803                             0                              0   \n...                             ...                            ...   \n4                                 0                              0   \n3                                 0                              0   \n2                                 0                              0   \n1                                 0                              0   \n0                                 0                              0   \n\n       LIIK_KEHALINE_VAARKOHTLEMINE  LIIK_KELMUS  ...  \\\n51806                             0            0  ...   \n51807                             0            0  ...   \n51805                             0            0  ...   \n51804                             0            0  ...   \n51803                             0            0  ...   \n...                             ...          ...  ...   \n4                                 0            0  ...   \n3                                 0            0  ...   \n2                                 0            0  ...   \n1                                 0            0  ...   \n0                                 0            0  ...   \n\n       ToimNadalapaev_Esmaspäev  ToimNadalapaev_Kolmapäev  \\\n51806                         0                         0   \n51807                         0                         0   \n51805                         0                         0   \n51804                         0                         0   \n51803                         0                         0   \n...                         ...                       ...   \n4                             0                         0   \n3                             0                         0   \n2                             0                         0   \n1                             0                         1   \n0                             0                         1   \n\n       ToimNadalapaev_Laupäev    ToimNadalapaev_Neljapäev  \\\n51806                         0                         0   \n51807                         0                         0   \n51805                         0                         0   \n51804                         0                         0   \n51803                         0                         0   \n...                         ...                       ...   \n4                             0                         0   \n3                             0                         0   \n2                             0                         0   \n1                             0                         0   \n0                             0                         0   \n\n       ToimNadalapaev_Pühapäev  ToimNadalapaev_Reede       \\\n51806                        1                          0   \n51807                        1                          0   \n51805                        1                          0   \n51804                        1                          0   \n51803                        1                          0   \n...                        ...                        ...   \n4                            0                          0   \n3                            0                          0   \n2                            0                          0   \n1                            0                          0   \n0                            0                          0   \n\n       ToimNadalapaev_Teisipäev  Kahjusumma_0-499  Kahjusumma_500-4999  \\\n51806                         0                 1                    0   \n51807                         0                 1                    0   \n51805                         0                 1                    0   \n51804                         0                 1                    0   \n51803                         0                 1                    0   \n...                         ...               ...                  ...   \n4                             1                 1                    0   \n3                             1                 1                    0   \n2                             1                 1                    0   \n1                             0                 1                    0   \n0                             0                 1                    0   \n\n       Kahjusumma_5000-49999  \n51806                      0  \n51807                      0  \n51805                      0  \n51804                      0  \n51803                      0  \n...                      ...  \n4                          0  \n3                          0  \n2                          0  \n1                          0  \n0                          0  \n\n[78095 rows x 67 columns]",
      "text/html": "<div>\n<style scoped>\n    .dataframe tbody tr th:only-of-type {\n        vertical-align: middle;\n    }\n\n    .dataframe tbody tr th {\n        vertical-align: top;\n    }\n\n    .dataframe thead th {\n        text-align: right;\n    }\n</style>\n<table border=\"1\" class=\"dataframe\">\n  <thead>\n    <tr style=\"text-align: right;\">\n      <th></th>\n      <th>MaakondNimetus</th>\n      <th>ValdLinnNimetus</th>\n      <th>KohtNimetus</th>\n      <th>Lest_X</th>\n      <th>Lest_Y</th>\n      <th>Toim</th>\n      <th>LIIK_AVALIKU_KORRA_RIKKUMINE</th>\n      <th>LIIK_JALGRATTA_MOPEEDI_VARGUS</th>\n      <th>LIIK_KEHALINE_VAARKOHTLEMINE</th>\n      <th>LIIK_KELMUS</th>\n      <th>...</th>\n      <th>ToimNadalapaev_Esmaspäev</th>\n      <th>ToimNadalapaev_Kolmapäev</th>\n      <th>ToimNadalapaev_Laupäev</th>\n      <th>ToimNadalapaev_Neljapäev</th>\n      <th>ToimNadalapaev_Pühapäev</th>\n      <th>ToimNadalapaev_Reede</th>\n      <th>ToimNadalapaev_Teisipäev</th>\n      <th>Kahjusumma_0-499</th>\n      <th>Kahjusumma_500-4999</th>\n      <th>Kahjusumma_5000-49999</th>\n    </tr>\n  </thead>\n  <tbody>\n    <tr>\n      <th>51806</th>\n      <td>Harju maakond</td>\n      <td>Tallinna linn</td>\n      <td>Kesklinna linnaosa</td>\n      <td>6588500-6588999</td>\n      <td>542000-542499</td>\n      <td>2012-01-01 00:00:00</td>\n      <td>0</td>\n      <td>0</td>\n      <td>0</td>\n      <td>0</td>\n      <td>...</td>\n      <td>0</td>\n      <td>0</td>\n      <td>0</td>\n      <td>0</td>\n      <td>1</td>\n      <td>0</td>\n      <td>0</td>\n      <td>1</td>\n      <td>0</td>\n      <td>0</td>\n    </tr>\n    <tr>\n      <th>51807</th>\n      <td>Pärnu maakond</td>\n      <td>Sauga vald</td>\n      <td>Sauga alevik</td>\n      <td>6476000-6476999</td>\n      <td>529000-529999</td>\n      <td>2012-01-01 00:00:00</td>\n      <td>0</td>\n      <td>0</td>\n      <td>0</td>\n      <td>0</td>\n      <td>...</td>\n      <td>0</td>\n      <td>0</td>\n      <td>0</td>\n      <td>0</td>\n      <td>1</td>\n      <td>0</td>\n      <td>0</td>\n      <td>1</td>\n      <td>0</td>\n      <td>0</td>\n    </tr>\n    <tr>\n      <th>51805</th>\n      <td>Harju maakond</td>\n      <td>Tallinna linn</td>\n      <td>Kesklinna linnaosa</td>\n      <td>6588500-6588999</td>\n      <td>543500-543999</td>\n      <td>2012-01-01 00:15:00</td>\n      <td>0</td>\n      <td>0</td>\n      <td>0</td>\n      <td>0</td>\n      <td>...</td>\n      <td>0</td>\n      <td>0</td>\n      <td>0</td>\n      <td>0</td>\n      <td>1</td>\n      <td>0</td>\n      <td>0</td>\n      <td>1</td>\n      <td>0</td>\n      <td>0</td>\n    </tr>\n    <tr>\n      <th>51804</th>\n      <td>Harju maakond</td>\n      <td>Tallinna linn</td>\n      <td>Lasnamäe linnaosa</td>\n      <td>6589000-6589499</td>\n      <td>547000-547499</td>\n      <td>2012-01-01 00:20:00</td>\n      <td>1</td>\n      <td>0</td>\n      <td>0</td>\n      <td>0</td>\n      <td>...</td>\n      <td>0</td>\n      <td>0</td>\n      <td>0</td>\n      <td>0</td>\n      <td>1</td>\n      <td>0</td>\n      <td>0</td>\n      <td>1</td>\n      <td>0</td>\n      <td>0</td>\n    </tr>\n    <tr>\n      <th>51803</th>\n      <td>Harju maakond</td>\n      <td>Tallinna linn</td>\n      <td>Kesklinna linnaosa</td>\n      <td>6588500-6588999</td>\n      <td>542000-542499</td>\n      <td>2012-01-01 00:30:00</td>\n      <td>0</td>\n      <td>0</td>\n      <td>0</td>\n      <td>0</td>\n      <td>...</td>\n      <td>0</td>\n      <td>0</td>\n      <td>0</td>\n      <td>0</td>\n      <td>1</td>\n      <td>0</td>\n      <td>0</td>\n      <td>1</td>\n      <td>0</td>\n      <td>0</td>\n    </tr>\n    <tr>\n      <th>...</th>\n      <td>...</td>\n      <td>...</td>\n      <td>...</td>\n      <td>...</td>\n      <td>...</td>\n      <td>...</td>\n      <td>...</td>\n      <td>...</td>\n      <td>...</td>\n      <td>...</td>\n      <td>...</td>\n      <td>...</td>\n      <td>...</td>\n      <td>...</td>\n      <td>...</td>\n      <td>...</td>\n      <td>...</td>\n      <td>...</td>\n      <td>...</td>\n      <td>...</td>\n      <td>...</td>\n    </tr>\n    <tr>\n      <th>4</th>\n      <td>Harju maakond</td>\n      <td>Tallinn</td>\n      <td>Põhja-Tallinna linnaosa</td>\n      <td>6589000-6589499</td>\n      <td>541500-541999</td>\n      <td>2021-11-16 15:56:00</td>\n      <td>0</td>\n      <td>0</td>\n      <td>0</td>\n      <td>0</td>\n      <td>...</td>\n      <td>0</td>\n      <td>0</td>\n      <td>0</td>\n      <td>0</td>\n      <td>0</td>\n      <td>0</td>\n      <td>1</td>\n      <td>1</td>\n      <td>0</td>\n      <td>0</td>\n    </tr>\n    <tr>\n      <th>3</th>\n      <td>Harju maakond</td>\n      <td>Tallinn</td>\n      <td>Mustamäe linnaosa</td>\n      <td>6585000-6585499</td>\n      <td>537000-537499</td>\n      <td>2021-11-16 16:53:00</td>\n      <td>0</td>\n      <td>0</td>\n      <td>0</td>\n      <td>0</td>\n      <td>...</td>\n      <td>0</td>\n      <td>0</td>\n      <td>0</td>\n      <td>0</td>\n      <td>0</td>\n      <td>0</td>\n      <td>1</td>\n      <td>1</td>\n      <td>0</td>\n      <td>0</td>\n    </tr>\n    <tr>\n      <th>2</th>\n      <td>Harju maakond</td>\n      <td>Tallinn</td>\n      <td>Kesklinna linnaosa</td>\n      <td>6587000-6587499</td>\n      <td>543000-543499</td>\n      <td>2021-11-16 18:29:00</td>\n      <td>0</td>\n      <td>0</td>\n      <td>0</td>\n      <td>0</td>\n      <td>...</td>\n      <td>0</td>\n      <td>0</td>\n      <td>0</td>\n      <td>0</td>\n      <td>0</td>\n      <td>0</td>\n      <td>1</td>\n      <td>1</td>\n      <td>0</td>\n      <td>0</td>\n    </tr>\n    <tr>\n      <th>1</th>\n      <td>Harju maakond</td>\n      <td>Tallinn</td>\n      <td>Põhja-Tallinna linnaosa</td>\n      <td>6590000-6590499</td>\n      <td>541000-541499</td>\n      <td>2021-11-17 10:35:00</td>\n      <td>0</td>\n      <td>0</td>\n      <td>0</td>\n      <td>0</td>\n      <td>...</td>\n      <td>0</td>\n      <td>1</td>\n      <td>0</td>\n      <td>0</td>\n      <td>0</td>\n      <td>0</td>\n      <td>0</td>\n      <td>1</td>\n      <td>0</td>\n      <td>0</td>\n    </tr>\n    <tr>\n      <th>0</th>\n      <td>Harju maakond</td>\n      <td>Tallinn</td>\n      <td>Lasnamäe linnaosa</td>\n      <td>6587500-6587999</td>\n      <td>545000-545499</td>\n      <td>2021-11-17 11:35:00</td>\n      <td>0</td>\n      <td>0</td>\n      <td>0</td>\n      <td>0</td>\n      <td>...</td>\n      <td>0</td>\n      <td>1</td>\n      <td>0</td>\n      <td>0</td>\n      <td>0</td>\n      <td>0</td>\n      <td>0</td>\n      <td>1</td>\n      <td>0</td>\n      <td>0</td>\n    </tr>\n  </tbody>\n</table>\n<p>78095 rows × 67 columns</p>\n</div>"
     },
     "execution_count": 57,
     "metadata": {},
     "output_type": "execute_result"
    }
   ],
   "source": [
    "# eemaldame need read kus kõik need KOHT_ asjade summa on 0\n",
    "# eemaldame need read kus kõik need LIIK_ asjade summa on 0\n",
    "\n",
    "# miks? sest need on need read, mis kaotasid oma tähenduse siis kui võtsime ära need onehotencodetud asjad, millel oli alla 100 tegelase\n",
    "# new_df.shape = (78373, 67)\n",
    "clean_df = new_df[new_df[koht_df].sum(axis=1) != 0]\n",
    "clean_df = clean_df[clean_df[liik_df].sum(axis=1) != 0]\n",
    "# clean_df = 78095 rows × 67 columns\n",
    "\n"
   ],
   "metadata": {
    "collapsed": false,
    "pycharm": {
     "name": "#%%\n"
    }
   }
  },
  {
   "cell_type": "code",
   "execution_count": 58,
   "outputs": [],
   "source": [
    "clean_df.to_csv(\"valmispmst.csv\")\n",
    "#new_df.drop(columns=new_df.select_dtypes(include=np.number).columns).to_csv(\"stringid.csv\")\n",
    "#df_numerics_only[df_numerics_only.columns[df_numerics_only.sum()>100]].to_csv(\"yle100.csv\")"
   ],
   "metadata": {
    "collapsed": false,
    "pycharm": {
     "name": "#%%\n"
    }
   }
  },
  {
   "cell_type": "code",
   "execution_count": null,
   "outputs": [],
   "source": [
    "X_train, y_train, X_valid, y_valid, X_test, y_test = train_valid_test_split(df, target = 'SalePrice',\n",
    "                                                                            method='sorted', sort_by_col='saledate',\n",
    "                                                                            train_size=0.8, valid_size=0.1, test_size=0.1)"
   ],
   "metadata": {
    "collapsed": false,
    "pycharm": {
     "name": "#%%\n"
    }
   }
  }
 ],
 "metadata": {
  "kernelspec": {
   "display_name": "Python 3",
   "language": "python",
   "name": "python3"
  },
  "language_info": {
   "codemirror_mode": {
    "name": "ipython",
    "version": 2
   },
   "file_extension": ".py",
   "mimetype": "text/x-python",
   "name": "python",
   "nbconvert_exporter": "python",
   "pygments_lexer": "ipython2",
   "version": "2.7.6"
  }
 },
 "nbformat": 4,
 "nbformat_minor": 0
}