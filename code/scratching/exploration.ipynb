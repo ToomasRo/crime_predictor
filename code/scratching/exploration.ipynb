{
 "cells": [
  {
   "cell_type": "code",
   "execution_count": 18,
   "metadata": {
    "collapsed": true
   },
   "outputs": [],
   "source": [
    "import pandas as pd\n",
    "import numpy as np\n"
   ]
  },
  {
   "cell_type": "code",
   "execution_count": 26,
   "outputs": [],
   "source": [
    "data1 = pd.read_csv(\"../../data/avalik_2012_2015.csv\", sep='\\t')\n",
    "data2 = pd.read_csv(\"../../data/avalik_2016_2020.csv\", sep='\\t')\n",
    "data3 = pd.read_csv(\"../../data/avalik_2020_2021.csv\", sep='\\t')"
   ],
   "metadata": {
    "collapsed": false,
    "pycharm": {
     "name": "#%%\n"
    }
   }
  },
  {
   "cell_type": "code",
   "execution_count": 30,
   "outputs": [
    {
     "data": {
      "text/plain": "JuhtumId                   51810\nToimKpv                    51810\nToimKell                   49783\nToimNadalapaev             51810\nSyndmusLiik                51810\nSyndmusTaiendavStatLiik    24024\nSeadus                     51810\nParagrahv                  51810\nParagrahvTais              51810\nLoige                      44289\nKahjusumma                 45510\nKohtLiik                   51772\nMaakondNimetus             51761\nValdLinnNimetus            51761\nKohtNimetus                51761\nLest_X                     51356\nLest_Y                     51356\nSyyteoLiik                 51810\ndtype: int64"
     },
     "execution_count": 30,
     "metadata": {},
     "output_type": "execute_result"
    }
   ],
   "source": [
    "data1.count()"
   ],
   "metadata": {
    "collapsed": false,
    "pycharm": {
     "name": "#%%\n"
    }
   }
  },
  {
   "cell_type": "code",
   "execution_count": 31,
   "outputs": [
    {
     "data": {
      "text/plain": "JuhtumId                   39978\nToimKpv                    39978\nToimKell                   38389\nToimNadalapaev             39978\nSyndmusLiik                39978\nSyndmusTaiendavStatLiik    15165\nSeadus                     39978\nParagrahv                  39978\nParagrahvTais              39978\nLoige                      39978\nKahjusumma                 33814\nKohtLiik                   39962\nMaakondNimetus             39802\nValdLinnNimetus            39802\nKohtNimetus                39802\nLest_X                     39561\nLest_Y                     39561\nSyyteoLiik                 39978\ndtype: int64"
     },
     "execution_count": 31,
     "metadata": {},
     "output_type": "execute_result"
    }
   ],
   "source": [
    "data2.count()"
   ],
   "metadata": {
    "collapsed": false,
    "pycharm": {
     "name": "#%%\n"
    }
   }
  },
  {
   "cell_type": "code",
   "execution_count": 32,
   "outputs": [
    {
     "data": {
      "text/plain": "JuhtumId                   10779\nToimKpv                    10779\nToimKell                   10312\nToimNadalapaev             10779\nSyndmusLiik                10779\nSyndmusTaiendavStatLiik     4682\nSeadus                     10779\nParagrahv                  10779\nParagrahvTais              10779\nLoige                      10779\nKahjusumma                  9436\nKohtLiik                   10777\nMaakondNimetus             10779\nValdLinnNimetus            10779\nKohtNimetus                10779\nLest_X                     10668\nLest_Y                     10668\nSyyteoLiik                 10779\ndtype: int64"
     },
     "execution_count": 32,
     "metadata": {},
     "output_type": "execute_result"
    }
   ],
   "source": [
    "data3.count()"
   ],
   "metadata": {
    "collapsed": false,
    "pycharm": {
     "name": "#%%\n"
    }
   }
  },
  {
   "cell_type": "code",
   "execution_count": 20,
   "outputs": [
    {
     "name": "stdout",
     "output_type": "stream",
     "text": [
      "(51810, 18) (39978, 18) (10779, 18)\n",
      "102567\n"
     ]
    },
    {
     "data": {
      "text/plain": "                               JuhtumId     ToimKpv ToimKell ToimNadalapaev  \\\n0  ec47da68-1635-18d5-8326-a9a756483dba  2015-12-31    23:55      Neljapäev   \n1  ec47a46c-1635-18d5-8326-a9a756483dba  2015-12-31    23:45      Neljapäev   \n2  ec47a69c-1635-18d5-8326-a9a756483dba  2015-12-31    23:30      Neljapäev   \n3  ec47a5ac-1635-18d5-8326-a9a756483dba  2015-12-31    22:30      Neljapäev   \n4  ec494c18-1635-18d5-8326-a9a756483dba  2015-12-31    22:00      Neljapäev   \n\n  SyndmusLiik           SyndmusTaiendavStatLiik             Seadus Paragrahv  \\\n0      VARGUS                        MUU_VARGUS  Karistusseadustik    § 199.   \n1      VARGUS  MOBIILTELEFONIVARGUS,TASKUVARGUS  Karistusseadustik    § 199.   \n2      VARGUS                        MUU_VARGUS  Karistusseadustik    § 199.   \n3   VANDALISM                               NaN  Karistusseadustik    § 218.   \n4  PISIVARGUS                               NaN  Karistusseadustik    § 218.   \n\n                                       ParagrahvTais   Loige Kahjusumma  \\\n0                                      § 199. Vargus  lg. 1.      0-499   \n1                                      § 199. Vargus  lg. 1.      0-499   \n2                                      § 199. Vargus  lg. 2.      0-499   \n3  § 218. Varavastane süütegu väheväärtusliku asj...  lg. 1.   500-4999   \n4  § 218. Varavastane süütegu väheväärtusliku asj...  lg. 1.      0-499   \n\n                                  KohtLiik MaakondNimetus ValdLinnNimetus  \\\n0  AVALIK_KOHT,KONNITEE_TEEPEENAR,MUU KOHT  Tartu maakond      Tartu linn   \n1                 AVALIK_KOHT,TANAV_VALJAK  Harju maakond         Tallinn   \n2                 AVALIK_KOHT,TANAV_VALJAK  Harju maakond         Tallinn   \n3                       AVALIK_KOHT,PARKLA  Harju maakond         Tallinn   \n4            AVALIK_KOHT,OOKLUBI_DISKOTEEK  Harju maakond         Tallinn   \n\n          KohtNimetus           Lest_X         Lest_Y SyyteoLiik  \n0          Tartu linn  6474000-6474499  658500-658999         KT  \n1  Kesklinna linnaosa  6589000-6589499  542000-542499         KT  \n2  Kristiine linnaosa  6588000-6588499  540000-540499         KT  \n3  Kesklinna linnaosa  6588000-6588499  542000-542499         VT  \n4  Kesklinna linnaosa  6588500-6588999  542000-542499         VT  ",
      "text/html": "<div>\n<style scoped>\n    .dataframe tbody tr th:only-of-type {\n        vertical-align: middle;\n    }\n\n    .dataframe tbody tr th {\n        vertical-align: top;\n    }\n\n    .dataframe thead th {\n        text-align: right;\n    }\n</style>\n<table border=\"1\" class=\"dataframe\">\n  <thead>\n    <tr style=\"text-align: right;\">\n      <th></th>\n      <th>JuhtumId</th>\n      <th>ToimKpv</th>\n      <th>ToimKell</th>\n      <th>ToimNadalapaev</th>\n      <th>SyndmusLiik</th>\n      <th>SyndmusTaiendavStatLiik</th>\n      <th>Seadus</th>\n      <th>Paragrahv</th>\n      <th>ParagrahvTais</th>\n      <th>Loige</th>\n      <th>Kahjusumma</th>\n      <th>KohtLiik</th>\n      <th>MaakondNimetus</th>\n      <th>ValdLinnNimetus</th>\n      <th>KohtNimetus</th>\n      <th>Lest_X</th>\n      <th>Lest_Y</th>\n      <th>SyyteoLiik</th>\n    </tr>\n  </thead>\n  <tbody>\n    <tr>\n      <th>0</th>\n      <td>ec47da68-1635-18d5-8326-a9a756483dba</td>\n      <td>2015-12-31</td>\n      <td>23:55</td>\n      <td>Neljapäev</td>\n      <td>VARGUS</td>\n      <td>MUU_VARGUS</td>\n      <td>Karistusseadustik</td>\n      <td>§ 199.</td>\n      <td>§ 199. Vargus</td>\n      <td>lg. 1.</td>\n      <td>0-499</td>\n      <td>AVALIK_KOHT,KONNITEE_TEEPEENAR,MUU KOHT</td>\n      <td>Tartu maakond</td>\n      <td>Tartu linn</td>\n      <td>Tartu linn</td>\n      <td>6474000-6474499</td>\n      <td>658500-658999</td>\n      <td>KT</td>\n    </tr>\n    <tr>\n      <th>1</th>\n      <td>ec47a46c-1635-18d5-8326-a9a756483dba</td>\n      <td>2015-12-31</td>\n      <td>23:45</td>\n      <td>Neljapäev</td>\n      <td>VARGUS</td>\n      <td>MOBIILTELEFONIVARGUS,TASKUVARGUS</td>\n      <td>Karistusseadustik</td>\n      <td>§ 199.</td>\n      <td>§ 199. Vargus</td>\n      <td>lg. 1.</td>\n      <td>0-499</td>\n      <td>AVALIK_KOHT,TANAV_VALJAK</td>\n      <td>Harju maakond</td>\n      <td>Tallinn</td>\n      <td>Kesklinna linnaosa</td>\n      <td>6589000-6589499</td>\n      <td>542000-542499</td>\n      <td>KT</td>\n    </tr>\n    <tr>\n      <th>2</th>\n      <td>ec47a69c-1635-18d5-8326-a9a756483dba</td>\n      <td>2015-12-31</td>\n      <td>23:30</td>\n      <td>Neljapäev</td>\n      <td>VARGUS</td>\n      <td>MUU_VARGUS</td>\n      <td>Karistusseadustik</td>\n      <td>§ 199.</td>\n      <td>§ 199. Vargus</td>\n      <td>lg. 2.</td>\n      <td>0-499</td>\n      <td>AVALIK_KOHT,TANAV_VALJAK</td>\n      <td>Harju maakond</td>\n      <td>Tallinn</td>\n      <td>Kristiine linnaosa</td>\n      <td>6588000-6588499</td>\n      <td>540000-540499</td>\n      <td>KT</td>\n    </tr>\n    <tr>\n      <th>3</th>\n      <td>ec47a5ac-1635-18d5-8326-a9a756483dba</td>\n      <td>2015-12-31</td>\n      <td>22:30</td>\n      <td>Neljapäev</td>\n      <td>VANDALISM</td>\n      <td>NaN</td>\n      <td>Karistusseadustik</td>\n      <td>§ 218.</td>\n      <td>§ 218. Varavastane süütegu väheväärtusliku asj...</td>\n      <td>lg. 1.</td>\n      <td>500-4999</td>\n      <td>AVALIK_KOHT,PARKLA</td>\n      <td>Harju maakond</td>\n      <td>Tallinn</td>\n      <td>Kesklinna linnaosa</td>\n      <td>6588000-6588499</td>\n      <td>542000-542499</td>\n      <td>VT</td>\n    </tr>\n    <tr>\n      <th>4</th>\n      <td>ec494c18-1635-18d5-8326-a9a756483dba</td>\n      <td>2015-12-31</td>\n      <td>22:00</td>\n      <td>Neljapäev</td>\n      <td>PISIVARGUS</td>\n      <td>NaN</td>\n      <td>Karistusseadustik</td>\n      <td>§ 218.</td>\n      <td>§ 218. Varavastane süütegu väheväärtusliku asj...</td>\n      <td>lg. 1.</td>\n      <td>0-499</td>\n      <td>AVALIK_KOHT,OOKLUBI_DISKOTEEK</td>\n      <td>Harju maakond</td>\n      <td>Tallinn</td>\n      <td>Kesklinna linnaosa</td>\n      <td>6588500-6588999</td>\n      <td>542000-542499</td>\n      <td>VT</td>\n    </tr>\n  </tbody>\n</table>\n</div>"
     },
     "execution_count": 20,
     "metadata": {},
     "output_type": "execute_result"
    }
   ],
   "source": [
    "print(data1.shape, data2.shape, data3.shape)\n",
    "print(len(data1) + len(data2) + len(data3))\n",
    "\n",
    "df = pd.concat([data1, data2, data3])\n",
    "df.head()"
   ],
   "metadata": {
    "collapsed": false,
    "pycharm": {
     "name": "#%%\n"
    }
   }
  },
  {
   "cell_type": "code",
   "execution_count": 24,
   "outputs": [
    {
     "data": {
      "text/plain": "                                  JuhtumId     ToimKpv ToimKell  \\\n3673  84048708-06bf-18d8-97ce-a370cdce960d  2020-05-17    18:27   \n8316  84048708-06bf-18d8-97ce-a370cdce960d  2020-05-17    18:27   \n\n     ToimNadalapaev SyndmusLiik SyndmusTaiendavStatLiik             Seadus  \\\n3673       Pühapäev      VARGUS              MUU_VARGUS  Karistusseadustik   \n8316       Pühapäev      VARGUS              MUU_VARGUS  Karistusseadustik   \n\n     Paragrahv  ParagrahvTais   Loige Kahjusumma             KohtLiik  \\\n3673    § 199.  § 199. Vargus  lg. 2.      0-499  AVALIK_KOHT,KAUPLUS   \n8316    § 199.  § 199. Vargus  lg. 2.      0-499  AVALIK_KOHT,KAUPLUS   \n\n     MaakondNimetus ValdLinnNimetus        KohtNimetus           Lest_X  \\\n3673  Harju maakond         Tallinn  Lasnamäe linnaosa  6588000-6588499   \n8316  Harju maakond         Tallinn  Lasnamäe linnaosa  6588000-6588499   \n\n             Lest_Y SyyteoLiik  \n3673  546000-546499         KT  \n8316  546000-546499         KT  ",
      "text/html": "<div>\n<style scoped>\n    .dataframe tbody tr th:only-of-type {\n        vertical-align: middle;\n    }\n\n    .dataframe tbody tr th {\n        vertical-align: top;\n    }\n\n    .dataframe thead th {\n        text-align: right;\n    }\n</style>\n<table border=\"1\" class=\"dataframe\">\n  <thead>\n    <tr style=\"text-align: right;\">\n      <th></th>\n      <th>JuhtumId</th>\n      <th>ToimKpv</th>\n      <th>ToimKell</th>\n      <th>ToimNadalapaev</th>\n      <th>SyndmusLiik</th>\n      <th>SyndmusTaiendavStatLiik</th>\n      <th>Seadus</th>\n      <th>Paragrahv</th>\n      <th>ParagrahvTais</th>\n      <th>Loige</th>\n      <th>Kahjusumma</th>\n      <th>KohtLiik</th>\n      <th>MaakondNimetus</th>\n      <th>ValdLinnNimetus</th>\n      <th>KohtNimetus</th>\n      <th>Lest_X</th>\n      <th>Lest_Y</th>\n      <th>SyyteoLiik</th>\n    </tr>\n  </thead>\n  <tbody>\n    <tr>\n      <th>3673</th>\n      <td>84048708-06bf-18d8-97ce-a370cdce960d</td>\n      <td>2020-05-17</td>\n      <td>18:27</td>\n      <td>Pühapäev</td>\n      <td>VARGUS</td>\n      <td>MUU_VARGUS</td>\n      <td>Karistusseadustik</td>\n      <td>§ 199.</td>\n      <td>§ 199. Vargus</td>\n      <td>lg. 2.</td>\n      <td>0-499</td>\n      <td>AVALIK_KOHT,KAUPLUS</td>\n      <td>Harju maakond</td>\n      <td>Tallinn</td>\n      <td>Lasnamäe linnaosa</td>\n      <td>6588000-6588499</td>\n      <td>546000-546499</td>\n      <td>KT</td>\n    </tr>\n    <tr>\n      <th>8316</th>\n      <td>84048708-06bf-18d8-97ce-a370cdce960d</td>\n      <td>2020-05-17</td>\n      <td>18:27</td>\n      <td>Pühapäev</td>\n      <td>VARGUS</td>\n      <td>MUU_VARGUS</td>\n      <td>Karistusseadustik</td>\n      <td>§ 199.</td>\n      <td>§ 199. Vargus</td>\n      <td>lg. 2.</td>\n      <td>0-499</td>\n      <td>AVALIK_KOHT,KAUPLUS</td>\n      <td>Harju maakond</td>\n      <td>Tallinn</td>\n      <td>Lasnamäe linnaosa</td>\n      <td>6588000-6588499</td>\n      <td>546000-546499</td>\n      <td>KT</td>\n    </tr>\n  </tbody>\n</table>\n</div>"
     },
     "execution_count": 24,
     "metadata": {},
     "output_type": "execute_result"
    }
   ],
   "source": [
    "df.JuhtumId.value_counts()\n",
    "df[df.JuhtumId == \"84048708-06bf-18d8-97ce-a370cdce960d\"]"
   ],
   "metadata": {
    "collapsed": false,
    "pycharm": {
     "name": "#%%\n"
    }
   }
  },
  {
   "cell_type": "code",
   "execution_count": 22,
   "outputs": [
    {
     "name": "stdout",
     "output_type": "stream",
     "text": [
      "(21847, 18) (13483, 18) (4195, 18)\n"
     ]
    }
   ],
   "source": [
    "data1.dropna(inplace=True, subset=['ToimKpv', 'ToimKell', 'ToimNadalapaev', 'SyndmusLiik', 'SyndmusTaiendavStatLiik', 'Kahjusumma', 'Lest_X', 'Lest_Y'])\n",
    "data2.dropna(inplace=True)\n",
    "data3.dropna(inplace=True)\n",
    "print(data1.shape, data2.shape, data3.shape)"
   ],
   "metadata": {
    "collapsed": false,
    "pycharm": {
     "name": "#%%\n"
    }
   }
  },
  {
   "cell_type": "code",
   "execution_count": 23,
   "outputs": [
    {
     "data": {
      "text/plain": "(39525, 18)"
     },
     "execution_count": 23,
     "metadata": {},
     "output_type": "execute_result"
    }
   ],
   "source": [
    "df = pd.concat([data1, data2, data3])\n",
    "df.head()\n",
    "df.shape"
   ],
   "metadata": {
    "collapsed": false,
    "pycharm": {
     "name": "#%%\n"
    }
   }
  },
  {
   "cell_type": "code",
   "execution_count": 33,
   "outputs": [
    {
     "data": {
      "text/plain": "Index(['JuhtumId', 'ToimKpv', 'ToimKell', 'ToimNadalapaev', 'SyndmusLiik',\n       'SyndmusTaiendavStatLiik', 'Seadus', 'Paragrahv', 'ParagrahvTais',\n       'Loige', 'Kahjusumma', 'KohtLiik', 'MaakondNimetus', 'ValdLinnNimetus',\n       'KohtNimetus', 'Lest_X', 'Lest_Y', 'SyyteoLiik'],\n      dtype='object')"
     },
     "execution_count": 33,
     "metadata": {},
     "output_type": "execute_result"
    }
   ],
   "source": [
    "df.drop_duplicates(subset='JuhtumId', inplace=True)\n",
    "df.shape\n",
    "df.columns\n"
   ],
   "metadata": {
    "collapsed": false,
    "pycharm": {
     "name": "#%%\n"
    }
   }
  }
 ],
 "metadata": {
  "kernelspec": {
   "display_name": "Python 3",
   "language": "python",
   "name": "python3"
  },
  "language_info": {
   "codemirror_mode": {
    "name": "ipython",
    "version": 2
   },
   "file_extension": ".py",
   "mimetype": "text/x-python",
   "name": "python",
   "nbconvert_exporter": "python",
   "pygments_lexer": "ipython2",
   "version": "2.7.6"
  }
 },
 "nbformat": 4,
 "nbformat_minor": 0
}