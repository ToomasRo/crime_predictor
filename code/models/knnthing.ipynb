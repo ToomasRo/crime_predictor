{
 "cells": [
  {
   "cell_type": "code",
   "execution_count": null,
   "outputs": [],
   "source": [
    "import pandas as pd\n",
    "import numpy as np\n",
    "import pickle\n",
    "from joblib import dump, load"
   ],
   "metadata": {
    "collapsed": false,
    "pycharm": {
     "name": "#%%\n"
    }
   }
  },
  {
   "cell_type": "code",
   "execution_count": null,
   "outputs": [],
   "source": [
    "time_precision = 4   # jagame päeva xh suurusteks plokkideks\n",
    "\n",
    "\n",
    "X_train = pd.read_csv(\"../../data/X_train.csv\")\n",
    "X_train = X_train.apply(pd.to_numeric, errors='ignore', downcast='integer')\n",
    "X_train.ToimAeg = X_train.ToimAeg.values.astype('datetime64[D]')\n",
    "X_train.ToimAeg = X_train['ToimAeg'].apply(lambda x: x.replace(hour=x.hour-x.hour%time_precision, minute=0, second=0))\n",
    "X_train[\"Aasta\"] = X_train['ToimAeg'].dt.year\n",
    "X_train[\"Kuu\"] = X_train['ToimAeg'].dt.month\n",
    "X_train[\"Päev\"] = X_train['ToimAeg'].dt.day\n",
    "X_train[\"Tund\"] = X_train['ToimAeg'].dt.hour\n",
    "X_train.drop(columns=\"ToimAeg\", inplace=True)\n",
    "X_train = X_train.apply(pd.to_numeric, errors='ignore', downcast='integer')\n",
    "X_train.head()\n",
    "\n",
    "y_train = pd.read_csv(\"../../data/y_train.csv\")\n",
    "y_train = y_train.apply(pd.to_numeric, errors='ignore', downcast='integer')\n",
    "y_train.head()\n",
    "\n",
    "X_valid = pd.read_csv(\"../../data/X_valid.csv\")\n",
    "X_valid = X_valid.apply(pd.to_numeric, errors='ignore', downcast='integer')\n",
    "X_valid.ToimAeg = X_valid.ToimAeg.values.astype('datetime64[D]')\n",
    "X_valid.ToimAeg = X_valid['ToimAeg'].apply(lambda x: x.replace(hour=x.hour-x.hour%time_precision, minute=0, second=0))\n",
    "X_valid[\"Aasta\"] = X_valid['ToimAeg'].dt.year\n",
    "X_valid[\"Kuu\"] = X_valid['ToimAeg'].dt.month\n",
    "X_valid[\"Päev\"] = X_valid['ToimAeg'].dt.day\n",
    "X_valid[\"Tund\"] = X_valid['ToimAeg'].dt.hour\n",
    "X_valid.drop(columns=\"ToimAeg\", inplace=True)\n",
    "X_valid = X_valid.apply(pd.to_numeric, errors='ignore', downcast='integer')\n",
    "X_valid.head()\n",
    "\n",
    "y_valid = pd.read_csv(\"../../data/y_valid.csv\")\n",
    "y_valid = y_valid.apply(pd.to_numeric, errors='ignore', downcast='integer')\n",
    "y_valid.head()\n",
    "\n",
    "X_train.head()\n",
    "\n",
    "y_train.info()\n",
    "y_train.drop(columns=[\"Kahjusumma\",\"Koht\"], inplace=True)\n",
    "y_valid.drop(columns=[\"Kahjusumma\", \"Koht\"], inplace=True)\n",
    "y_train.head()"
   ],
   "metadata": {
    "collapsed": false,
    "pycharm": {
     "name": "#%%\n"
    }
   }
  }
 ],
 "metadata": {
  "kernelspec": {
   "display_name": "Python 3",
   "language": "python",
   "name": "python3"
  },
  "language_info": {
   "codemirror_mode": {
    "name": "ipython",
    "version": 2
   },
   "file_extension": ".py",
   "mimetype": "text/x-python",
   "name": "python",
   "nbconvert_exporter": "python",
   "pygments_lexer": "ipython2",
   "version": "2.7.6"
  }
 },
 "nbformat": 4,
 "nbformat_minor": 0
}