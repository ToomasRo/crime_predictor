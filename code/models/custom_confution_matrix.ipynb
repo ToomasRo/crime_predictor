{
 "cells": [
  {
   "cell_type": "code",
   "execution_count": 16,
   "metadata": {
    "collapsed": true
   },
   "outputs": [
    {
     "name": "stdout",
     "output_type": "stream",
     "text": [
      "a    1\n",
      "b    0\n",
      "c    0\n",
      "Name: 0, dtype: int32\n",
      "a    1\n",
      "b    0\n",
      "c    0\n",
      "Name: 0, dtype: int32\n",
      "a    1\n",
      "b    0\n",
      "c    0\n",
      "Name: 0, dtype: int32\n",
      "a    1\n",
      "b    1\n",
      "c    1\n",
      "Name: 1, dtype: int32\n",
      "a    1\n",
      "b    1\n",
      "c    1\n",
      "Name: 1, dtype: int32\n",
      "a    1\n",
      "b    1\n",
      "c    1\n",
      "Name: 1, dtype: int32\n",
      "a    0\n",
      "b    0\n",
      "c    0\n",
      "Name: 2, dtype: int32\n",
      "a    0\n",
      "b    0\n",
      "c    0\n",
      "Name: 2, dtype: int32\n",
      "a    0\n",
      "b    0\n",
      "c    0\n",
      "Name: 2, dtype: int32\n"
     ]
    },
    {
     "data": {
      "text/plain": "   a  b  c\n0  1  1  1\n1  1  1  1\n2  0  0  0",
      "text/html": "<div>\n<style scoped>\n    .dataframe tbody tr th:only-of-type {\n        vertical-align: middle;\n    }\n\n    .dataframe tbody tr th {\n        vertical-align: top;\n    }\n\n    .dataframe thead th {\n        text-align: right;\n    }\n</style>\n<table border=\"1\" class=\"dataframe\">\n  <thead>\n    <tr style=\"text-align: right;\">\n      <th></th>\n      <th>a</th>\n      <th>b</th>\n      <th>c</th>\n    </tr>\n  </thead>\n  <tbody>\n    <tr>\n      <th>0</th>\n      <td>1</td>\n      <td>1</td>\n      <td>1</td>\n    </tr>\n    <tr>\n      <th>1</th>\n      <td>1</td>\n      <td>1</td>\n      <td>1</td>\n    </tr>\n    <tr>\n      <th>2</th>\n      <td>0</td>\n      <td>0</td>\n      <td>0</td>\n    </tr>\n  </tbody>\n</table>\n</div>"
     },
     "execution_count": 16,
     "metadata": {},
     "output_type": "execute_result"
    }
   ],
   "source": [
    "import pandas as pd\n",
    "import numpy as np\n",
    "\n",
    "def create_confusion_dict(df_pred, df_actual):\n",
    "    response = {\"tpr\":0, \"fpr\": 0, \"tnr\":0, \"fnr\":0, \"total\":0}\n",
    "    for index, row in df_pred.iterrows():\n",
    "        for i, item in row.iteritems():\n",
    "                print(row)\n",
    "\n",
    "\n",
    "\n",
    "data = np.array([(1, 0, 0), (1, 1, 1), (0, 0, 0)],\n",
    "                dtype=[(\"a\", \"i4\"), (\"b\", \"i4\"), (\"c\", \"i4\")])\n",
    "df = pd.DataFrame(data, columns=['a', 'b', 'c'])\n",
    "\n",
    "dataTRUE = np.array([(1, 1, 1), (1, 1, 1), (0, 0, 0)],\n",
    "                dtype=[(\"a\", \"i4\"), (\"b\", \"i4\"), (\"c\", \"i4\")])\n",
    "dfTRUE = pd.DataFrame(dataTRUE, columns=['a', 'b', 'c'])\n",
    "create_confusion_dict(df, dfTRUE)\n",
    "dfTRUE"
   ]
  }
 ],
 "metadata": {
  "kernelspec": {
   "display_name": "Python 3",
   "language": "python",
   "name": "python3"
  },
  "language_info": {
   "codemirror_mode": {
    "name": "ipython",
    "version": 2
   },
   "file_extension": ".py",
   "mimetype": "text/x-python",
   "name": "python",
   "nbconvert_exporter": "python",
   "pygments_lexer": "ipython2",
   "version": "2.7.6"
  }
 },
 "nbformat": 4,
 "nbformat_minor": 0
}