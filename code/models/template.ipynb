{
 "cells": [
  {
   "cell_type": "code",
   "execution_count": 35,
   "metadata": {
    "collapsed": true
   },
   "outputs": [
    {
     "data": {
      "text/plain": "  MaakondNimetus ValdLinnNimetus         KohtNimetus   Lest_X  Lest_Y  \\\n0  Harju maakond   Tallinna linn  Kesklinna linnaosa  6588500  542000   \n1  Pärnu maakond      Sauga vald        Sauga alevik  6476000  529000   \n2  Harju maakond   Tallinna linn  Kesklinna linnaosa  6588500  543500   \n3  Harju maakond   Tallinna linn   Lasnamäe linnaosa  6589000  547000   \n4  Harju maakond   Tallinna linn  Kesklinna linnaosa  6588500  542000   \n\n     ToimAeg  LIIK_AVALIKU_KORRA_RIKKUMINE  LIIK_JALGRATTA_MOPEEDI_VARGUS  \\\n0 2012-01-01                             0                              0   \n1 2012-01-01                             0                              0   \n2 2012-01-01                             0                              0   \n3 2012-01-01                             1                              0   \n4 2012-01-01                             0                              0   \n\n   LIIK_KEHALINE_VAARKOHTLEMINE  LIIK_KELMUS  ...  ToimNadalapaev_Esmaspäev  \\\n0                             0            0  ...                         0   \n1                             0            0  ...                         0   \n2                             0            0  ...                         0   \n3                             0            0  ...                         0   \n4                             0            0  ...                         0   \n\n   ToimNadalapaev_Kolmapäev  ToimNadalapaev_Laupäev    \\\n0                         0                         0   \n1                         0                         0   \n2                         0                         0   \n3                         0                         0   \n4                         0                         0   \n\n   ToimNadalapaev_Neljapäev  ToimNadalapaev_Pühapäev  \\\n0                         0                        1   \n1                         0                        1   \n2                         0                        1   \n3                         0                        1   \n4                         0                        1   \n\n   ToimNadalapaev_Reede       ToimNadalapaev_Teisipäev  Kahjusumma_0-499  \\\n0                          0                         0                 1   \n1                          0                         0                 1   \n2                          0                         0                 1   \n3                          0                         0                 1   \n4                          0                         0                 1   \n\n   Kahjusumma_500-4999  Kahjusumma_5000-49999  \n0                    0                      0  \n1                    0                      0  \n2                    0                      0  \n3                    0                      0  \n4                    0                      0  \n\n[5 rows x 67 columns]",
      "text/html": "<div>\n<style scoped>\n    .dataframe tbody tr th:only-of-type {\n        vertical-align: middle;\n    }\n\n    .dataframe tbody tr th {\n        vertical-align: top;\n    }\n\n    .dataframe thead th {\n        text-align: right;\n    }\n</style>\n<table border=\"1\" class=\"dataframe\">\n  <thead>\n    <tr style=\"text-align: right;\">\n      <th></th>\n      <th>MaakondNimetus</th>\n      <th>ValdLinnNimetus</th>\n      <th>KohtNimetus</th>\n      <th>Lest_X</th>\n      <th>Lest_Y</th>\n      <th>ToimAeg</th>\n      <th>LIIK_AVALIKU_KORRA_RIKKUMINE</th>\n      <th>LIIK_JALGRATTA_MOPEEDI_VARGUS</th>\n      <th>LIIK_KEHALINE_VAARKOHTLEMINE</th>\n      <th>LIIK_KELMUS</th>\n      <th>...</th>\n      <th>ToimNadalapaev_Esmaspäev</th>\n      <th>ToimNadalapaev_Kolmapäev</th>\n      <th>ToimNadalapaev_Laupäev</th>\n      <th>ToimNadalapaev_Neljapäev</th>\n      <th>ToimNadalapaev_Pühapäev</th>\n      <th>ToimNadalapaev_Reede</th>\n      <th>ToimNadalapaev_Teisipäev</th>\n      <th>Kahjusumma_0-499</th>\n      <th>Kahjusumma_500-4999</th>\n      <th>Kahjusumma_5000-49999</th>\n    </tr>\n  </thead>\n  <tbody>\n    <tr>\n      <th>0</th>\n      <td>Harju maakond</td>\n      <td>Tallinna linn</td>\n      <td>Kesklinna linnaosa</td>\n      <td>6588500</td>\n      <td>542000</td>\n      <td>2012-01-01</td>\n      <td>0</td>\n      <td>0</td>\n      <td>0</td>\n      <td>0</td>\n      <td>...</td>\n      <td>0</td>\n      <td>0</td>\n      <td>0</td>\n      <td>0</td>\n      <td>1</td>\n      <td>0</td>\n      <td>0</td>\n      <td>1</td>\n      <td>0</td>\n      <td>0</td>\n    </tr>\n    <tr>\n      <th>1</th>\n      <td>Pärnu maakond</td>\n      <td>Sauga vald</td>\n      <td>Sauga alevik</td>\n      <td>6476000</td>\n      <td>529000</td>\n      <td>2012-01-01</td>\n      <td>0</td>\n      <td>0</td>\n      <td>0</td>\n      <td>0</td>\n      <td>...</td>\n      <td>0</td>\n      <td>0</td>\n      <td>0</td>\n      <td>0</td>\n      <td>1</td>\n      <td>0</td>\n      <td>0</td>\n      <td>1</td>\n      <td>0</td>\n      <td>0</td>\n    </tr>\n    <tr>\n      <th>2</th>\n      <td>Harju maakond</td>\n      <td>Tallinna linn</td>\n      <td>Kesklinna linnaosa</td>\n      <td>6588500</td>\n      <td>543500</td>\n      <td>2012-01-01</td>\n      <td>0</td>\n      <td>0</td>\n      <td>0</td>\n      <td>0</td>\n      <td>...</td>\n      <td>0</td>\n      <td>0</td>\n      <td>0</td>\n      <td>0</td>\n      <td>1</td>\n      <td>0</td>\n      <td>0</td>\n      <td>1</td>\n      <td>0</td>\n      <td>0</td>\n    </tr>\n    <tr>\n      <th>3</th>\n      <td>Harju maakond</td>\n      <td>Tallinna linn</td>\n      <td>Lasnamäe linnaosa</td>\n      <td>6589000</td>\n      <td>547000</td>\n      <td>2012-01-01</td>\n      <td>1</td>\n      <td>0</td>\n      <td>0</td>\n      <td>0</td>\n      <td>...</td>\n      <td>0</td>\n      <td>0</td>\n      <td>0</td>\n      <td>0</td>\n      <td>1</td>\n      <td>0</td>\n      <td>0</td>\n      <td>1</td>\n      <td>0</td>\n      <td>0</td>\n    </tr>\n    <tr>\n      <th>4</th>\n      <td>Harju maakond</td>\n      <td>Tallinna linn</td>\n      <td>Kesklinna linnaosa</td>\n      <td>6588500</td>\n      <td>542000</td>\n      <td>2012-01-01</td>\n      <td>0</td>\n      <td>0</td>\n      <td>0</td>\n      <td>0</td>\n      <td>...</td>\n      <td>0</td>\n      <td>0</td>\n      <td>0</td>\n      <td>0</td>\n      <td>1</td>\n      <td>0</td>\n      <td>0</td>\n      <td>1</td>\n      <td>0</td>\n      <td>0</td>\n    </tr>\n  </tbody>\n</table>\n<p>5 rows × 67 columns</p>\n</div>"
     },
     "execution_count": 35,
     "metadata": {},
     "output_type": "execute_result"
    }
   ],
   "source": [
    "import pandas as pd\n",
    "import numpy as np\n",
    "from fast_ml.model_development import train_valid_test_split\n",
    "\n",
    "time_precision = 4   # jagame päeva xh suurusteks plokkideks\n",
    "\n",
    "\n",
    "df = pd.read_csv(\"../../data/master.csv\")\n",
    "df = df.apply(pd.to_numeric, errors='ignore', downcast='integer')\n",
    "df.ToimAeg = pd.to_datetime(df.ToimAeg)\n",
    "df.ToimAeg = df['ToimAeg'].apply(lambda x: x.replace(hour=x.hour-x.hour%time_precision, minute=0, second=0))\n",
    "df.head()"
   ]
  },
  {
   "cell_type": "markdown",
   "source": [
    "!Tähelepanukud mida ei ole jaksanud lõpuni mõelda\n",
    "\n",
    "* from sklearn.model_selection import TimeSeriesSplit, on see cross validation mida me tahame kasutada\n",
    "* ma pole kindel milline splittimine kõige targe testimisese andmeteks on, vb tuleks custom teha.\n",
    "** hetkel võtab ta esimesed 80% train, järgmised 10% validation ja viimased 10% on test\n",
    "\n"
   ],
   "metadata": {
    "collapsed": false
   }
  }
 ],
 "metadata": {
  "kernelspec": {
   "display_name": "Python 3",
   "language": "python",
   "name": "python3"
  },
  "language_info": {
   "codemirror_mode": {
    "name": "ipython",
    "version": 2
   },
   "file_extension": ".py",
   "mimetype": "text/x-python",
   "name": "python",
   "nbconvert_exporter": "python",
   "pygments_lexer": "ipython2",
   "version": "2.7.6"
  }
 },
 "nbformat": 4,
 "nbformat_minor": 0
}