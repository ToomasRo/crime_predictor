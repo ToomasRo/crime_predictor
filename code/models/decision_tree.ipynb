{
 "cells": [
  {
   "cell_type": "code",
   "execution_count": 11,
   "metadata": {
    "collapsed": true
   },
   "outputs": [],
   "source": [
    "import pandas as pd\n",
    "import numpy as np\n",
    "import pickle\n",
    "from joblib import dump, load"
   ]
  },
  {
   "cell_type": "code",
   "execution_count": 4,
   "outputs": [
    {
     "data": {
      "text/plain": "    Lest_X  Lest_Y  KOHT_APTEEK  KOHT_AVALIK_KOHT  KOHT_BUROO_KONTOR  \\\n0  6584000  540500            0                 1                  0   \n1  6593000  557000            0                 1                  0   \n2  6461000  663000            0                 0                  0   \n3  6590000  539000            0                 1                  0   \n4  6590500  549500            0                 1                  0   \n\n   KOHT_BUSSIJAAM_BUSSITERMINAAL  KOHT_BUSSIPEATUS  KOHT_EHITUS  \\\n0                              0                 0            0   \n1                              0                 0            0   \n2                              0                 0            0   \n3                              0                 0            0   \n4                              0                 0            0   \n\n   KOHT_HOTELL_MOTELL  KOHT_KASIINO  ...  ToimNadalapaev_Kolmapäev  \\\n0                   0             0  ...                         0   \n1                   0             0  ...                         0   \n2                   0             0  ...                         0   \n3                   0             0  ...                         0   \n4                   0             0  ...                         0   \n\n   ToimNadalapaev_Laupäev    ToimNadalapaev_Neljapäev  \\\n0                         0                         0   \n1                         0                         1   \n2                         0                         0   \n3                         0                         0   \n4                         0                         0   \n\n   ToimNadalapaev_Pühapäev  ToimNadalapaev_Reede       \\\n0                        1                          0   \n1                        0                          0   \n2                        0                          0   \n3                        0                          0   \n4                        0                          0   \n\n   ToimNadalapaev_Teisipäev  Aasta  Kuu  Päev  Tund  \n0                         0   2017    2     5     0  \n1                         0   2019    6     6     0  \n2                         0   2012   11    19     0  \n3                         0   2019   11    11     0  \n4                         1   2015    3    24     0  \n\n[5 rows x 50 columns]",
      "text/html": "<div>\n<style scoped>\n    .dataframe tbody tr th:only-of-type {\n        vertical-align: middle;\n    }\n\n    .dataframe tbody tr th {\n        vertical-align: top;\n    }\n\n    .dataframe thead th {\n        text-align: right;\n    }\n</style>\n<table border=\"1\" class=\"dataframe\">\n  <thead>\n    <tr style=\"text-align: right;\">\n      <th></th>\n      <th>Lest_X</th>\n      <th>Lest_Y</th>\n      <th>KOHT_APTEEK</th>\n      <th>KOHT_AVALIK_KOHT</th>\n      <th>KOHT_BUROO_KONTOR</th>\n      <th>KOHT_BUSSIJAAM_BUSSITERMINAAL</th>\n      <th>KOHT_BUSSIPEATUS</th>\n      <th>KOHT_EHITUS</th>\n      <th>KOHT_HOTELL_MOTELL</th>\n      <th>KOHT_KASIINO</th>\n      <th>...</th>\n      <th>ToimNadalapaev_Kolmapäev</th>\n      <th>ToimNadalapaev_Laupäev</th>\n      <th>ToimNadalapaev_Neljapäev</th>\n      <th>ToimNadalapaev_Pühapäev</th>\n      <th>ToimNadalapaev_Reede</th>\n      <th>ToimNadalapaev_Teisipäev</th>\n      <th>Aasta</th>\n      <th>Kuu</th>\n      <th>Päev</th>\n      <th>Tund</th>\n    </tr>\n  </thead>\n  <tbody>\n    <tr>\n      <th>0</th>\n      <td>6584000</td>\n      <td>540500</td>\n      <td>0</td>\n      <td>1</td>\n      <td>0</td>\n      <td>0</td>\n      <td>0</td>\n      <td>0</td>\n      <td>0</td>\n      <td>0</td>\n      <td>...</td>\n      <td>0</td>\n      <td>0</td>\n      <td>0</td>\n      <td>1</td>\n      <td>0</td>\n      <td>0</td>\n      <td>2017</td>\n      <td>2</td>\n      <td>5</td>\n      <td>0</td>\n    </tr>\n    <tr>\n      <th>1</th>\n      <td>6593000</td>\n      <td>557000</td>\n      <td>0</td>\n      <td>1</td>\n      <td>0</td>\n      <td>0</td>\n      <td>0</td>\n      <td>0</td>\n      <td>0</td>\n      <td>0</td>\n      <td>...</td>\n      <td>0</td>\n      <td>0</td>\n      <td>1</td>\n      <td>0</td>\n      <td>0</td>\n      <td>0</td>\n      <td>2019</td>\n      <td>6</td>\n      <td>6</td>\n      <td>0</td>\n    </tr>\n    <tr>\n      <th>2</th>\n      <td>6461000</td>\n      <td>663000</td>\n      <td>0</td>\n      <td>0</td>\n      <td>0</td>\n      <td>0</td>\n      <td>0</td>\n      <td>0</td>\n      <td>0</td>\n      <td>0</td>\n      <td>...</td>\n      <td>0</td>\n      <td>0</td>\n      <td>0</td>\n      <td>0</td>\n      <td>0</td>\n      <td>0</td>\n      <td>2012</td>\n      <td>11</td>\n      <td>19</td>\n      <td>0</td>\n    </tr>\n    <tr>\n      <th>3</th>\n      <td>6590000</td>\n      <td>539000</td>\n      <td>0</td>\n      <td>1</td>\n      <td>0</td>\n      <td>0</td>\n      <td>0</td>\n      <td>0</td>\n      <td>0</td>\n      <td>0</td>\n      <td>...</td>\n      <td>0</td>\n      <td>0</td>\n      <td>0</td>\n      <td>0</td>\n      <td>0</td>\n      <td>0</td>\n      <td>2019</td>\n      <td>11</td>\n      <td>11</td>\n      <td>0</td>\n    </tr>\n    <tr>\n      <th>4</th>\n      <td>6590500</td>\n      <td>549500</td>\n      <td>0</td>\n      <td>1</td>\n      <td>0</td>\n      <td>0</td>\n      <td>0</td>\n      <td>0</td>\n      <td>0</td>\n      <td>0</td>\n      <td>...</td>\n      <td>0</td>\n      <td>0</td>\n      <td>0</td>\n      <td>0</td>\n      <td>0</td>\n      <td>1</td>\n      <td>2015</td>\n      <td>3</td>\n      <td>24</td>\n      <td>0</td>\n    </tr>\n  </tbody>\n</table>\n<p>5 rows × 50 columns</p>\n</div>"
     },
     "execution_count": 4,
     "metadata": {},
     "output_type": "execute_result"
    }
   ],
   "source": [
    "time_precision = 4   # jagame päeva xh suurusteks plokkideks\n",
    "\n",
    "\n",
    "X_train = pd.read_csv(\"../../data/X_train.csv\")\n",
    "X_train = X_train.apply(pd.to_numeric, errors='ignore', downcast='integer')\n",
    "X_train.ToimAeg = X_train.ToimAeg.values.astype('datetime64[D]')\n",
    "X_train.ToimAeg = X_train['ToimAeg'].apply(lambda x: x.replace(hour=x.hour-x.hour%time_precision, minute=0, second=0))\n",
    "X_train[\"Aasta\"] = X_train['ToimAeg'].dt.year\n",
    "X_train[\"Kuu\"] = X_train['ToimAeg'].dt.month\n",
    "X_train[\"Päev\"] = X_train['ToimAeg'].dt.day\n",
    "X_train[\"Tund\"] = X_train['ToimAeg'].dt.hour\n",
    "X_train.drop(columns=\"ToimAeg\", inplace=True)\n",
    "X_train = X_train.apply(pd.to_numeric, errors='ignore', downcast='integer')\n",
    "X_train.head()\n",
    "\n",
    "y_train = pd.read_csv(\"../../data/y_train.csv\")\n",
    "y_train = y_train.apply(pd.to_numeric, errors='ignore', downcast='integer')\n",
    "y_train.head()\n",
    "\n",
    "X_valid = pd.read_csv(\"../../data/X_valid.csv\")\n",
    "X_valid = X_valid.apply(pd.to_numeric, errors='ignore', downcast='integer')\n",
    "X_valid.ToimAeg = X_valid.ToimAeg.values.astype('datetime64[D]')\n",
    "X_valid.ToimAeg = X_valid['ToimAeg'].apply(lambda x: x.replace(hour=x.hour-x.hour%time_precision, minute=0, second=0))\n",
    "X_valid[\"Aasta\"] = X_valid['ToimAeg'].dt.year\n",
    "X_valid[\"Kuu\"] = X_valid['ToimAeg'].dt.month\n",
    "X_valid[\"Päev\"] = X_valid['ToimAeg'].dt.day\n",
    "X_valid[\"Tund\"] = X_valid['ToimAeg'].dt.hour\n",
    "X_valid.drop(columns=\"ToimAeg\", inplace=True)\n",
    "X_valid = X_valid.apply(pd.to_numeric, errors='ignore', downcast='integer')\n",
    "X_valid.head()\n",
    "\n",
    "y_valid = pd.read_csv(\"../../data/y_valid.csv\")\n",
    "y_valid = y_valid.apply(pd.to_numeric, errors='ignore', downcast='integer')\n",
    "y_valid.head()\n",
    "\n",
    "X_train.head()"
   ],
   "metadata": {
    "collapsed": false,
    "pycharm": {
     "name": "#%%\n"
    }
   }
  },
  {
   "cell_type": "code",
   "execution_count": 5,
   "outputs": [
    {
     "name": "stdout",
     "output_type": "stream",
     "text": [
      "<class 'pandas.core.frame.DataFrame'>\n",
      "RangeIndex: 62476 entries, 0 to 62475\n",
      "Data columns (total 16 columns):\n",
      " #   Column                         Non-Null Count  Dtype \n",
      "---  ------                         --------------  ----- \n",
      " 0   LIIK_AVALIKU_KORRA_RIKKUMINE   62476 non-null  int8  \n",
      " 1   LIIK_JALGRATTA_MOPEEDI_VARGUS  62476 non-null  int8  \n",
      " 2   LIIK_KEHALINE_VAARKOHTLEMINE   62476 non-null  int8  \n",
      " 3   LIIK_KELMUS                    62476 non-null  int8  \n",
      " 4   LIIK_KONFLIKT/OMAVOLI          62476 non-null  int8  \n",
      " 5   LIIK_KOOLIVAGIVALD             62476 non-null  int8  \n",
      " 6   LIIK_LIIKLUSRIKKUMINE          62476 non-null  int8  \n",
      " 7   LIIK_MOOTORSOIDUKI_VARGUS      62476 non-null  int8  \n",
      " 8   LIIK_MUU                       62476 non-null  int8  \n",
      " 9   LIIK_PISIVARGUS                62476 non-null  int8  \n",
      " 10  LIIK_ROOVIMINE                 62476 non-null  int8  \n",
      " 11  LIIK_TULEKAHJU                 62476 non-null  int8  \n",
      " 12  LIIK_VANDALISM                 62476 non-null  int8  \n",
      " 13  LIIK_VARGUS                    62476 non-null  int8  \n",
      " 14  Kahjusumma                     62476 non-null  object\n",
      " 15  Koht                           62476 non-null  object\n",
      "dtypes: int8(14), object(2)\n",
      "memory usage: 1.8+ MB\n"
     ]
    }
   ],
   "source": [
    "y_train.info()\n",
    "y_train.drop(columns=[\"Kahjusumma\",\"Koht\"], inplace=True)\n",
    "y_valid.drop(columns=[\"Kahjusumma\", \"Koht\"], inplace=True)"
   ],
   "metadata": {
    "collapsed": false,
    "pycharm": {
     "name": "#%%\n"
    }
   }
  },
  {
   "cell_type": "code",
   "execution_count": 6,
   "outputs": [],
   "source": [
    "from sklearn.ensemble import RandomForestClassifier\n",
    "from sklearn.metrics import mean_squared_error as MSE\n",
    "\n",
    "rfc = RandomForestClassifier(n_estimators=100, random_state=1).fit(X_train, y_train)\n",
    "probs_rfc = rfc.predict_proba(X_valid)"
   ],
   "metadata": {
    "collapsed": false,
    "pycharm": {
     "name": "#%%\n"
    }
   }
  },
  {
   "cell_type": "code",
   "execution_count": 7,
   "outputs": [
    {
     "name": "stdout",
     "output_type": "stream",
     "text": [
      "0.03898941400132004\n"
     ]
    }
   ],
   "source": [
    "df_proba = pd.DataFrame(np.array([x.transpose()[1] for x in probs_rfc]).transpose(), columns=y_valid.columns) # @rasmus ma ei oska kirjelda miks see rida vajalik aga igastahes see tuleb sellest probs_rfc kujust mis ei sobinud\n",
    "\n",
    "\n",
    "#lihtsalt predict jaoks df_proba = pd.DataFrame(probs_rfc, columns=y_valid.columns) # @rasmus ma ei oska kirjelda miks see rida vajalik aga igastahes see tuleb sellest probs_rfc kujust mis ei sobinud\n",
    "\n",
    "#.shape\n",
    "df_proba\n",
    "print(MSE(y_valid, df_proba))\n",
    "\n",
    "#probs_rfc.transpose().shape"
   ],
   "metadata": {
    "collapsed": false,
    "pycharm": {
     "name": "#%%\n"
    }
   }
  },
  {
   "cell_type": "code",
   "execution_count": 14,
   "outputs": [
    {
     "name": "stdout",
     "output_type": "stream",
     "text": [
      "0.7920591564864126\n"
     ]
    },
    {
     "ename": "ValueError",
     "evalue": "Classification metrics can't handle a mix of binary and continuous targets",
     "output_type": "error",
     "traceback": [
      "\u001B[1;31m---------------------------------------------------------------------------\u001B[0m",
      "\u001B[1;31mValueError\u001B[0m                                Traceback (most recent call last)",
      "\u001B[1;32m~\\AppData\\Local\\Temp/ipykernel_25908/2031851404.py\u001B[0m in \u001B[0;36m<module>\u001B[1;34m\u001B[0m\n\u001B[0;32m      3\u001B[0m \u001B[1;32mfor\u001B[0m \u001B[0mi\u001B[0m \u001B[1;32min\u001B[0m \u001B[0mdf_proba\u001B[0m\u001B[1;33m.\u001B[0m\u001B[0mcolumns\u001B[0m\u001B[1;33m:\u001B[0m\u001B[1;33m\u001B[0m\u001B[1;33m\u001B[0m\u001B[0m\n\u001B[0;32m      4\u001B[0m     \u001B[1;31m#print(y_valid[i])\u001B[0m\u001B[1;33m\u001B[0m\u001B[1;33m\u001B[0m\u001B[1;33m\u001B[0m\u001B[0m\n\u001B[1;32m----> 5\u001B[1;33m     \u001B[0mprint\u001B[0m\u001B[1;33m(\u001B[0m\u001B[0mmetrics\u001B[0m\u001B[1;33m.\u001B[0m\u001B[0maccuracy_score\u001B[0m\u001B[1;33m(\u001B[0m\u001B[0my_valid\u001B[0m\u001B[1;33m[\u001B[0m\u001B[0mi\u001B[0m\u001B[1;33m]\u001B[0m\u001B[1;33m,\u001B[0m \u001B[0mdf_proba\u001B[0m\u001B[1;33m[\u001B[0m\u001B[0mi\u001B[0m\u001B[1;33m]\u001B[0m\u001B[1;33m)\u001B[0m\u001B[1;33m,\u001B[0m \u001B[0mi\u001B[0m\u001B[1;33m,\u001B[0m \u001B[0msep\u001B[0m\u001B[1;33m=\u001B[0m\u001B[1;34m\"\\t\"\u001B[0m\u001B[1;33m)\u001B[0m\u001B[1;33m\u001B[0m\u001B[1;33m\u001B[0m\u001B[0m\n\u001B[0m\u001B[0;32m      6\u001B[0m \u001B[1;33m\u001B[0m\u001B[0m\n",
      "\u001B[1;32mc:\\python39\\lib\\site-packages\\sklearn\\metrics\\_classification.py\u001B[0m in \u001B[0;36maccuracy_score\u001B[1;34m(y_true, y_pred, normalize, sample_weight)\u001B[0m\n\u001B[0;32m    203\u001B[0m \u001B[1;33m\u001B[0m\u001B[0m\n\u001B[0;32m    204\u001B[0m     \u001B[1;31m# Compute accuracy for each possible representation\u001B[0m\u001B[1;33m\u001B[0m\u001B[1;33m\u001B[0m\u001B[1;33m\u001B[0m\u001B[0m\n\u001B[1;32m--> 205\u001B[1;33m     \u001B[0my_type\u001B[0m\u001B[1;33m,\u001B[0m \u001B[0my_true\u001B[0m\u001B[1;33m,\u001B[0m \u001B[0my_pred\u001B[0m \u001B[1;33m=\u001B[0m \u001B[0m_check_targets\u001B[0m\u001B[1;33m(\u001B[0m\u001B[0my_true\u001B[0m\u001B[1;33m,\u001B[0m \u001B[0my_pred\u001B[0m\u001B[1;33m)\u001B[0m\u001B[1;33m\u001B[0m\u001B[1;33m\u001B[0m\u001B[0m\n\u001B[0m\u001B[0;32m    206\u001B[0m     \u001B[0mcheck_consistent_length\u001B[0m\u001B[1;33m(\u001B[0m\u001B[0my_true\u001B[0m\u001B[1;33m,\u001B[0m \u001B[0my_pred\u001B[0m\u001B[1;33m,\u001B[0m \u001B[0msample_weight\u001B[0m\u001B[1;33m)\u001B[0m\u001B[1;33m\u001B[0m\u001B[1;33m\u001B[0m\u001B[0m\n\u001B[0;32m    207\u001B[0m     \u001B[1;32mif\u001B[0m \u001B[0my_type\u001B[0m\u001B[1;33m.\u001B[0m\u001B[0mstartswith\u001B[0m\u001B[1;33m(\u001B[0m\u001B[1;34m\"multilabel\"\u001B[0m\u001B[1;33m)\u001B[0m\u001B[1;33m:\u001B[0m\u001B[1;33m\u001B[0m\u001B[1;33m\u001B[0m\u001B[0m\n",
      "\u001B[1;32mc:\\python39\\lib\\site-packages\\sklearn\\metrics\\_classification.py\u001B[0m in \u001B[0;36m_check_targets\u001B[1;34m(y_true, y_pred)\u001B[0m\n\u001B[0;32m     91\u001B[0m \u001B[1;33m\u001B[0m\u001B[0m\n\u001B[0;32m     92\u001B[0m     \u001B[1;32mif\u001B[0m \u001B[0mlen\u001B[0m\u001B[1;33m(\u001B[0m\u001B[0my_type\u001B[0m\u001B[1;33m)\u001B[0m \u001B[1;33m>\u001B[0m \u001B[1;36m1\u001B[0m\u001B[1;33m:\u001B[0m\u001B[1;33m\u001B[0m\u001B[1;33m\u001B[0m\u001B[0m\n\u001B[1;32m---> 93\u001B[1;33m         raise ValueError(\n\u001B[0m\u001B[0;32m     94\u001B[0m             \"Classification metrics can't handle a mix of {0} and {1} targets\".format(\n\u001B[0;32m     95\u001B[0m                 \u001B[0mtype_true\u001B[0m\u001B[1;33m,\u001B[0m \u001B[0mtype_pred\u001B[0m\u001B[1;33m\u001B[0m\u001B[1;33m\u001B[0m\u001B[0m\n",
      "\u001B[1;31mValueError\u001B[0m: Classification metrics can't handle a mix of binary and continuous targets"
     ]
    }
   ],
   "source": [
    "from sklearn import metrics\n",
    "print(metrics.roc_auc_score(y_valid, df_proba))\n",
    "for i in df_proba.columns:\n",
    "    #print(y_valid[i])\n",
    "    print(metrics.accuracy_score(y_valid[i], df_proba[i]), i, sep=\"\\t\")"
   ],
   "metadata": {
    "collapsed": false,
    "pycharm": {
     "name": "#%%\n"
    }
   }
  },
  {
   "cell_type": "code",
   "execution_count": 8,
   "outputs": [
    {
     "name": "stdout",
     "output_type": "stream",
     "text": [
      "847.6463690475982\t866\tLIIK_AVALIKU_KORRA_RIKKUMINE\n",
      "201.95896825396886\t199\tLIIK_JALGRATTA_MOPEEDI_VARGUS\n",
      "258.2935357142852\t259\tLIIK_KEHALINE_VAARKOHTLEMINE\n",
      "39.467726190476334\t43\tLIIK_KELMUS\n",
      "24.413166666666825\t33\tLIIK_KONFLIKT/OMAVOLI\n",
      "15.359999999999959\t17\tLIIK_KOOLIVAGIVALD\n",
      "10.183833333333281\t6\tLIIK_LIIKLUSRIKKUMINE\n",
      "43.653000000000134\t39\tLIIK_MOOTORSOIDUKI_VARGUS\n",
      "305.09083730158346\t291\tLIIK_MUU\n",
      "2367.4627362914616\t2328\tLIIK_PISIVARGUS\n",
      "85.4265357142864\t91\tLIIK_ROOVIMINE\n",
      "11.803166666666579\t10\tLIIK_TULEKAHJU\n",
      "565.6696071428456\t555\tLIIK_VANDALISM\n",
      "3727.725720057732\t3787\tLIIK_VARGUS\n"
     ]
    }
   ],
   "source": [
    "for i in df_proba.columns:\n",
    "    print(sum(df_proba[i]), sum(y_valid[i]), i, sep=\"\\t\")"
   ],
   "metadata": {
    "collapsed": false,
    "pycharm": {
     "name": "#%%\n"
    }
   }
  },
  {
   "cell_type": "code",
   "execution_count": 16,
   "outputs": [
    {
     "ename": "ValueError",
     "evalue": "Classification metrics can't handle a mix of multilabel-indicator and continuous-multioutput targets",
     "output_type": "error",
     "traceback": [
      "\u001B[1;31m---------------------------------------------------------------------------\u001B[0m",
      "\u001B[1;31mValueError\u001B[0m                                Traceback (most recent call last)",
      "\u001B[1;32m~\\AppData\\Local\\Temp/ipykernel_25908/3156872017.py\u001B[0m in \u001B[0;36m<module>\u001B[1;34m\u001B[0m\n\u001B[1;32m----> 1\u001B[1;33m \u001B[0mmetrics\u001B[0m\u001B[1;33m.\u001B[0m\u001B[0maccuracy_score\u001B[0m\u001B[1;33m(\u001B[0m\u001B[0my_valid\u001B[0m\u001B[1;33m,\u001B[0m \u001B[0mdf_proba\u001B[0m\u001B[1;33m)\u001B[0m\u001B[1;33m\u001B[0m\u001B[1;33m\u001B[0m\u001B[0m\n\u001B[0m\u001B[0;32m      2\u001B[0m \u001B[1;33m\u001B[0m\u001B[0m\n",
      "\u001B[1;32mc:\\python39\\lib\\site-packages\\sklearn\\metrics\\_classification.py\u001B[0m in \u001B[0;36maccuracy_score\u001B[1;34m(y_true, y_pred, normalize, sample_weight)\u001B[0m\n\u001B[0;32m    203\u001B[0m \u001B[1;33m\u001B[0m\u001B[0m\n\u001B[0;32m    204\u001B[0m     \u001B[1;31m# Compute accuracy for each possible representation\u001B[0m\u001B[1;33m\u001B[0m\u001B[1;33m\u001B[0m\u001B[1;33m\u001B[0m\u001B[0m\n\u001B[1;32m--> 205\u001B[1;33m     \u001B[0my_type\u001B[0m\u001B[1;33m,\u001B[0m \u001B[0my_true\u001B[0m\u001B[1;33m,\u001B[0m \u001B[0my_pred\u001B[0m \u001B[1;33m=\u001B[0m \u001B[0m_check_targets\u001B[0m\u001B[1;33m(\u001B[0m\u001B[0my_true\u001B[0m\u001B[1;33m,\u001B[0m \u001B[0my_pred\u001B[0m\u001B[1;33m)\u001B[0m\u001B[1;33m\u001B[0m\u001B[1;33m\u001B[0m\u001B[0m\n\u001B[0m\u001B[0;32m    206\u001B[0m     \u001B[0mcheck_consistent_length\u001B[0m\u001B[1;33m(\u001B[0m\u001B[0my_true\u001B[0m\u001B[1;33m,\u001B[0m \u001B[0my_pred\u001B[0m\u001B[1;33m,\u001B[0m \u001B[0msample_weight\u001B[0m\u001B[1;33m)\u001B[0m\u001B[1;33m\u001B[0m\u001B[1;33m\u001B[0m\u001B[0m\n\u001B[0;32m    207\u001B[0m     \u001B[1;32mif\u001B[0m \u001B[0my_type\u001B[0m\u001B[1;33m.\u001B[0m\u001B[0mstartswith\u001B[0m\u001B[1;33m(\u001B[0m\u001B[1;34m\"multilabel\"\u001B[0m\u001B[1;33m)\u001B[0m\u001B[1;33m:\u001B[0m\u001B[1;33m\u001B[0m\u001B[1;33m\u001B[0m\u001B[0m\n",
      "\u001B[1;32mc:\\python39\\lib\\site-packages\\sklearn\\metrics\\_classification.py\u001B[0m in \u001B[0;36m_check_targets\u001B[1;34m(y_true, y_pred)\u001B[0m\n\u001B[0;32m     91\u001B[0m \u001B[1;33m\u001B[0m\u001B[0m\n\u001B[0;32m     92\u001B[0m     \u001B[1;32mif\u001B[0m \u001B[0mlen\u001B[0m\u001B[1;33m(\u001B[0m\u001B[0my_type\u001B[0m\u001B[1;33m)\u001B[0m \u001B[1;33m>\u001B[0m \u001B[1;36m1\u001B[0m\u001B[1;33m:\u001B[0m\u001B[1;33m\u001B[0m\u001B[1;33m\u001B[0m\u001B[0m\n\u001B[1;32m---> 93\u001B[1;33m         raise ValueError(\n\u001B[0m\u001B[0;32m     94\u001B[0m             \"Classification metrics can't handle a mix of {0} and {1} targets\".format(\n\u001B[0;32m     95\u001B[0m                 \u001B[0mtype_true\u001B[0m\u001B[1;33m,\u001B[0m \u001B[0mtype_pred\u001B[0m\u001B[1;33m\u001B[0m\u001B[1;33m\u001B[0m\u001B[0m\n",
      "\u001B[1;31mValueError\u001B[0m: Classification metrics can't handle a mix of multilabel-indicator and continuous-multioutput targets"
     ]
    }
   ],
   "source": [
    "metrics.accuracy_score(y_valid, df_proba)"
   ],
   "metadata": {
    "collapsed": false,
    "pycharm": {
     "name": "#%%\n"
    }
   }
  },
  {
   "cell_type": "code",
   "execution_count": 1,
   "outputs": [
    {
     "ename": "NameError",
     "evalue": "name 'metrics' is not defined",
     "output_type": "error",
     "traceback": [
      "\u001B[1;31m---------------------------------------------------------------------------\u001B[0m",
      "\u001B[1;31mNameError\u001B[0m                                 Traceback (most recent call last)",
      "\u001B[1;32m~\\AppData\\Local\\Temp/ipykernel_12132/847481828.py\u001B[0m in \u001B[0;36m<module>\u001B[1;34m\u001B[0m\n\u001B[1;32m----> 1\u001B[1;33m \u001B[0mmetrics\u001B[0m\u001B[1;33m.\u001B[0m\u001B[0mconfusion_matrix\u001B[0m\u001B[1;33m(\u001B[0m\u001B[0my_valid\u001B[0m\u001B[1;33m,\u001B[0m \u001B[0mdf_proba\u001B[0m\u001B[1;33m)\u001B[0m\u001B[1;33m\u001B[0m\u001B[1;33m\u001B[0m\u001B[0m\n\u001B[0m\u001B[0;32m      2\u001B[0m \u001B[1;33m\u001B[0m\u001B[0m\n",
      "\u001B[1;31mNameError\u001B[0m: name 'metrics' is not defined"
     ]
    }
   ],
   "source": [
    "metrics.confusion_matrix(y_valid, df_proba)"
   ],
   "metadata": {
    "collapsed": false,
    "pycharm": {
     "name": "#%%\n"
    }
   }
  },
  {
   "cell_type": "code",
   "execution_count": 19,
   "outputs": [
    {
     "name": "stdout",
     "output_type": "stream",
     "text": [
      "done dumping\n"
     ]
    }
   ],
   "source": [
    "dump(rfc, \"rfc_minic.joblib\", compress=0, protocol=5)\n",
    "print(\"done dumping\")"
   ],
   "metadata": {
    "collapsed": false,
    "pycharm": {
     "name": "#%%\n"
    }
   }
  }
 ],
 "metadata": {
  "kernelspec": {
   "display_name": "Python 3",
   "language": "python",
   "name": "python3"
  },
  "language_info": {
   "codemirror_mode": {
    "name": "ipython",
    "version": 2
   },
   "file_extension": ".py",
   "mimetype": "text/x-python",
   "name": "python",
   "nbconvert_exporter": "python",
   "pygments_lexer": "ipython2",
   "version": "2.7.6"
  }
 },
 "nbformat": 4,
 "nbformat_minor": 0
}