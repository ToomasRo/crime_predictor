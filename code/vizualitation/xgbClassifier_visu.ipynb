{
 "cells": [
  {
   "cell_type": "code",
   "execution_count": 1,
   "metadata": {
    "collapsed": true
   },
   "outputs": [],
   "source": [
    "from joblib import dump, load\n",
    "from pyproj import Transformer\n",
    "import geopandas\n",
    "import geopy\n",
    "from geopy.geocoders import Nominatim\n",
    "import folium\n",
    "from geopy.extra.rate_limiter import RateLimiter\n",
    "from folium import plugins\n",
    "from folium.plugins import MarkerCluster\n",
    "import pandas as pd\n",
    "from folium.plugins import MarkerCluster\n",
    "from folium.plugins import FastMarkerCluster\n",
    "import numpy as np\n",
    "from shapely.geometry import Polygon\n",
    "import pyproj\n",
    "from os import listdir\n",
    "from os.path import isfile, join\n",
    "\n",
    "x1,y1 = 6584000,540500\n",
    "transformer = Transformer.from_crs(\"epsg:3301\", \"epsg:4326\")# from lambert est97 coords nickname to wsg84 nickname\n",
    "\n",
    "transformer.transform(x1,y1)\n",
    "\n",
    "df = pd.read_csv(\"../../data/locations_in_use.csv\")\n",
    "df = df.apply(pd.to_numeric, errors='ignore', downcast='integer')\n"
   ]
  },
  {
   "cell_type": "markdown",
   "source": [
    "In the following cell the inputs can be changed"
   ],
   "metadata": {
    "collapsed": false,
    "pycharm": {
     "name": "#%% md\n"
    }
   }
  },
  {
   "cell_type": "code",
   "execution_count": 2,
   "outputs": [
    {
     "data": {
      "text/plain": "   LIIK_AVALIKU_KORRA_RIKKUMINE  LIIK_JALGRATTA_MOPEEDI_VARGUS  \\\n0                             1                              0   \n1                             0                              0   \n2                             0                              0   \n3                             0                              0   \n4                             0                              0   \n\n   LIIK_KEHALINE_VAARKOHTLEMINE  LIIK_KELMUS  LIIK_KONFLIKT/OMAVOLI  \\\n0                             0            0                      0   \n1                             0            0                      0   \n2                             0            0                      0   \n3                             0            0                      0   \n4                             0            0                      0   \n\n   LIIK_KOOLIVAGIVALD  LIIK_LIIKLUSRIKKUMINE  LIIK_MOOTORSOIDUKI_VARGUS  \\\n0                   0                      0                          0   \n1                   0                      0                          0   \n2                   0                      0                          0   \n3                   0                      0                          0   \n4                   0                      0                          0   \n\n   LIIK_MUU  LIIK_PISIVARGUS  LIIK_ROOVIMINE  LIIK_TULEKAHJU  LIIK_VANDALISM  \\\n0         1                0               0               0               0   \n1         0                1               0               0               0   \n2         0                0               0               0               0   \n3         0                0               0               0               0   \n4         0                0               0               0               1   \n\n   LIIK_VARGUS  \n0            0  \n1            1  \n2            1  \n3            1  \n4            0  ",
      "text/html": "<div>\n<style scoped>\n    .dataframe tbody tr th:only-of-type {\n        vertical-align: middle;\n    }\n\n    .dataframe tbody tr th {\n        vertical-align: top;\n    }\n\n    .dataframe thead th {\n        text-align: right;\n    }\n</style>\n<table border=\"1\" class=\"dataframe\">\n  <thead>\n    <tr style=\"text-align: right;\">\n      <th></th>\n      <th>LIIK_AVALIKU_KORRA_RIKKUMINE</th>\n      <th>LIIK_JALGRATTA_MOPEEDI_VARGUS</th>\n      <th>LIIK_KEHALINE_VAARKOHTLEMINE</th>\n      <th>LIIK_KELMUS</th>\n      <th>LIIK_KONFLIKT/OMAVOLI</th>\n      <th>LIIK_KOOLIVAGIVALD</th>\n      <th>LIIK_LIIKLUSRIKKUMINE</th>\n      <th>LIIK_MOOTORSOIDUKI_VARGUS</th>\n      <th>LIIK_MUU</th>\n      <th>LIIK_PISIVARGUS</th>\n      <th>LIIK_ROOVIMINE</th>\n      <th>LIIK_TULEKAHJU</th>\n      <th>LIIK_VANDALISM</th>\n      <th>LIIK_VARGUS</th>\n    </tr>\n  </thead>\n  <tbody>\n    <tr>\n      <th>0</th>\n      <td>1</td>\n      <td>0</td>\n      <td>0</td>\n      <td>0</td>\n      <td>0</td>\n      <td>0</td>\n      <td>0</td>\n      <td>0</td>\n      <td>1</td>\n      <td>0</td>\n      <td>0</td>\n      <td>0</td>\n      <td>0</td>\n      <td>0</td>\n    </tr>\n    <tr>\n      <th>1</th>\n      <td>0</td>\n      <td>0</td>\n      <td>0</td>\n      <td>0</td>\n      <td>0</td>\n      <td>0</td>\n      <td>0</td>\n      <td>0</td>\n      <td>0</td>\n      <td>1</td>\n      <td>0</td>\n      <td>0</td>\n      <td>0</td>\n      <td>1</td>\n    </tr>\n    <tr>\n      <th>2</th>\n      <td>0</td>\n      <td>0</td>\n      <td>0</td>\n      <td>0</td>\n      <td>0</td>\n      <td>0</td>\n      <td>0</td>\n      <td>0</td>\n      <td>0</td>\n      <td>0</td>\n      <td>0</td>\n      <td>0</td>\n      <td>0</td>\n      <td>1</td>\n    </tr>\n    <tr>\n      <th>3</th>\n      <td>0</td>\n      <td>0</td>\n      <td>0</td>\n      <td>0</td>\n      <td>0</td>\n      <td>0</td>\n      <td>0</td>\n      <td>0</td>\n      <td>0</td>\n      <td>0</td>\n      <td>0</td>\n      <td>0</td>\n      <td>0</td>\n      <td>1</td>\n    </tr>\n    <tr>\n      <th>4</th>\n      <td>0</td>\n      <td>0</td>\n      <td>0</td>\n      <td>0</td>\n      <td>0</td>\n      <td>0</td>\n      <td>0</td>\n      <td>0</td>\n      <td>0</td>\n      <td>0</td>\n      <td>0</td>\n      <td>0</td>\n      <td>1</td>\n      <td>0</td>\n    </tr>\n  </tbody>\n</table>\n</div>"
     },
     "execution_count": 2,
     "metadata": {},
     "output_type": "execute_result"
    }
   ],
   "source": [
    "kohad = ['KOHT_APTEEK', 'KOHT_AVALIK_KOHT', 'KOHT_BUROO_KONTOR', 'KOHT_BUSSIJAAM_BUSSITERMINAAL', 'KOHT_BUSSIPEATUS', 'KOHT_EHITUS', 'KOHT_HOTELL_MOTELL', 'KOHT_KASIINO', 'KOHT_KAUBAMAJA', 'KOHT_KAUPLUS', 'KOHT_KIOSK', 'KOHT_KULTUURIASUTUS', 'KOHT_LASTEASUTUS_TERRITOORIUM', 'KOHT_MUU KOHT', 'KOHT_MUU RUUM', 'KOHT_OOKLUBI_DISKOTEEK', 'KOHT_OPPEASUTUS_SELLE_TERRITOORIUM', 'KOHT_OUEALATEE', 'KOHT_OUEALA_LAHTINE_HOOV', 'KOHT_PANGAAUTOMAAT', 'KOHT_PARK', 'KOHT_PARKLA', 'KOHT_RAND', 'KOHT_RAUDTEEJAAM', 'KOHT_RAVIASUTUS', 'KOHT_REISILAEV', 'KOHT_RIIDEHOID', 'KOHT_SADAM', 'KOHT_SOOGIKOHT', 'KOHT_SPORDIRAJATIS', 'KOHT_TAKSO', 'KOHT_TANAV_VALJAK', 'KOHT_TANKLA', 'KOHT_TEENINDUSETTEVOTE', 'KOHT_TREPIKODA_KORIDOR', 'KOHT_TURG', 'KOHT_UHISSOIDUK']\n",
    "for k in kohad:\n",
    "    df[k] = 0\n",
    "df.KOHT_AVALIK_KOHT = 1\n",
    "#df.KOHT_BUSSIJAAM_BUSSITERMINAAL = 1\n",
    "#df.KOHT_BUSSIPEATUS = 1\n",
    "df.KOHT_PARK = 1\n",
    "df.KOHT_PARKLA = 1\n",
    "df.KOHT_TANAV_VALJAK = 1\n",
    "df[\"ToimNadalapaev_Esmaspäev\"] = 0\n",
    "df[\"ToimNadalapaev_Kolmapäev\"] = 0\n",
    "df[\"ToimNadalapaev_Laupäev  \"] = 0\n",
    "df[\"ToimNadalapaev_Neljapäev\"] = 1\n",
    "df[\"ToimNadalapaev_Pühapäev\"] = 0\n",
    "df[\"ToimNadalapaev_Reede     \"] = 0\n",
    "df[\"ToimNadalapaev_Teisipäev\"] = 0\n",
    "df[\"Aasta\"] = 2021\n",
    "df[\"Kuu\"] = 11\n",
    "df[\"Päev\"] = 4\n",
    "df[\"Tund\"] = 20\n",
    "df.head()\n",
    "y_valid = pd.read_csv(\"../../data/y_valid.csv\")\n",
    "y_valid = y_valid.apply(pd.to_numeric, errors='ignore', downcast='integer')\n",
    "y_valid.drop(columns=[\"Kahjusumma\", \"Koht\"], inplace=True)\n",
    "y_valid.head()\n"
   ],
   "metadata": {
    "collapsed": false,
    "pycharm": {
     "name": "#%%\n"
    }
   }
  },
  {
   "cell_type": "code",
   "execution_count": 3,
   "outputs": [
    {
     "name": "stdout",
     "output_type": "stream",
     "text": [
      "LIIK_AVALIKU_KORRA_RIKKUMINE\n",
      "LIIK_JALGRATTA_MOPEEDI_VARGUS\n",
      "LIIK_KEHALINE_VAARKOHTLEMINE\n",
      "LIIK_KELMUS\n",
      "LIIK_KONFLIKTOMAVOLI\n",
      "LIIK_KOOLIVAGIVALD\n",
      "LIIK_LIIKLUSRIKKUMINE\n",
      "LIIK_MOOTORSOIDUKI_VARGUS\n",
      "LIIK_MUU\n",
      "LIIK_PISIVARGUS\n",
      "LIIK_ROOVIMINE\n",
      "LIIK_TULEKAHJU\n",
      "LIIK_VANDALISM\n",
      "LIIK_VARGUS\n",
      "loaded\n"
     ]
    }
   ],
   "source": [
    "# loading models\n",
    "\n",
    "onlyfiles = [f for f in listdir(\"../cleaner_models/trained_models/xgbClassifier\") if isfile(join(\"../cleaner_models/trained_models/xgbClassifier\", f))]\n",
    "\n",
    "models_dict = dict()\n",
    "for file in onlyfiles:\n",
    "    file_tot_path = join(\"../cleaner_models/trained_models/xgbClassifier\", file)\n",
    "    print(file.split(\"_\", 1)[1].split(\".\")[0])\n",
    "    if not \"LIIK_KONFLIKTOMAVOLI\" in file:\n",
    "        models_dict[file.split(\"_\", 1)[1].split(\".\")[0]] = load(file_tot_path)\n",
    "    else:\n",
    "        models_dict[\"LIIK_KONFLIKT/OMAVOLI\"] = load(file_tot_path)\n",
    "print(\"loaded\")\n",
    "models = list()\n",
    "for col in y_valid.columns:\n",
    "    models.append(models_dict[col])"
   ],
   "metadata": {
    "collapsed": false,
    "pycharm": {
     "name": "#%%\n"
    }
   }
  },
  {
   "cell_type": "code",
   "execution_count": 4,
   "outputs": [],
   "source": [
    "preds = list()\n",
    "for col, model in list(zip(y_valid.columns, models)):\n",
    "    preds.append(model.predict(df))"
   ],
   "metadata": {
    "collapsed": false,
    "pycharm": {
     "name": "#%%\n"
    }
   }
  },
  {
   "cell_type": "code",
   "execution_count": 5,
   "outputs": [
    {
     "data": {
      "text/plain": "   LIIK_AVALIKU_KORRA_RIKKUMINE  LIIK_JALGRATTA_MOPEEDI_VARGUS  \\\n0                             0                              0   \n1                             0                              0   \n2                             0                              0   \n3                             0                              0   \n4                             0                              0   \n\n   LIIK_KEHALINE_VAARKOHTLEMINE  LIIK_KELMUS  LIIK_KONFLIKT/OMAVOLI  \\\n0                             0            0                      0   \n1                             0            0                      0   \n2                             0            0                      0   \n3                             0            0                      0   \n4                             0            0                      0   \n\n   LIIK_KOOLIVAGIVALD  LIIK_LIIKLUSRIKKUMINE  LIIK_MOOTORSOIDUKI_VARGUS  \\\n0                   0                      0                          0   \n1                   0                      0                          0   \n2                   0                      0                          0   \n3                   0                      0                          0   \n4                   0                      0                          0   \n\n   LIIK_MUU  LIIK_PISIVARGUS  LIIK_ROOVIMINE  LIIK_TULEKAHJU  LIIK_VANDALISM  \\\n0         0                0               0               0               0   \n1         0                0               0               0               0   \n2         0                0               0               0               0   \n3         1                0               0               0               0   \n4         1                0               0               0               0   \n\n   LIIK_VARGUS  Lest_Y   Lest_X  \n0            0  542000  6588500  \n1            0  529000  6476000  \n2            0  543500  6588500  \n3            0  547000  6589000  \n4            0  592500  6470500  ",
      "text/html": "<div>\n<style scoped>\n    .dataframe tbody tr th:only-of-type {\n        vertical-align: middle;\n    }\n\n    .dataframe tbody tr th {\n        vertical-align: top;\n    }\n\n    .dataframe thead th {\n        text-align: right;\n    }\n</style>\n<table border=\"1\" class=\"dataframe\">\n  <thead>\n    <tr style=\"text-align: right;\">\n      <th></th>\n      <th>LIIK_AVALIKU_KORRA_RIKKUMINE</th>\n      <th>LIIK_JALGRATTA_MOPEEDI_VARGUS</th>\n      <th>LIIK_KEHALINE_VAARKOHTLEMINE</th>\n      <th>LIIK_KELMUS</th>\n      <th>LIIK_KONFLIKT/OMAVOLI</th>\n      <th>LIIK_KOOLIVAGIVALD</th>\n      <th>LIIK_LIIKLUSRIKKUMINE</th>\n      <th>LIIK_MOOTORSOIDUKI_VARGUS</th>\n      <th>LIIK_MUU</th>\n      <th>LIIK_PISIVARGUS</th>\n      <th>LIIK_ROOVIMINE</th>\n      <th>LIIK_TULEKAHJU</th>\n      <th>LIIK_VANDALISM</th>\n      <th>LIIK_VARGUS</th>\n      <th>Lest_Y</th>\n      <th>Lest_X</th>\n    </tr>\n  </thead>\n  <tbody>\n    <tr>\n      <th>0</th>\n      <td>0</td>\n      <td>0</td>\n      <td>0</td>\n      <td>0</td>\n      <td>0</td>\n      <td>0</td>\n      <td>0</td>\n      <td>0</td>\n      <td>0</td>\n      <td>0</td>\n      <td>0</td>\n      <td>0</td>\n      <td>0</td>\n      <td>0</td>\n      <td>542000</td>\n      <td>6588500</td>\n    </tr>\n    <tr>\n      <th>1</th>\n      <td>0</td>\n      <td>0</td>\n      <td>0</td>\n      <td>0</td>\n      <td>0</td>\n      <td>0</td>\n      <td>0</td>\n      <td>0</td>\n      <td>0</td>\n      <td>0</td>\n      <td>0</td>\n      <td>0</td>\n      <td>0</td>\n      <td>0</td>\n      <td>529000</td>\n      <td>6476000</td>\n    </tr>\n    <tr>\n      <th>2</th>\n      <td>0</td>\n      <td>0</td>\n      <td>0</td>\n      <td>0</td>\n      <td>0</td>\n      <td>0</td>\n      <td>0</td>\n      <td>0</td>\n      <td>0</td>\n      <td>0</td>\n      <td>0</td>\n      <td>0</td>\n      <td>0</td>\n      <td>0</td>\n      <td>543500</td>\n      <td>6588500</td>\n    </tr>\n    <tr>\n      <th>3</th>\n      <td>0</td>\n      <td>0</td>\n      <td>0</td>\n      <td>0</td>\n      <td>0</td>\n      <td>0</td>\n      <td>0</td>\n      <td>0</td>\n      <td>1</td>\n      <td>0</td>\n      <td>0</td>\n      <td>0</td>\n      <td>0</td>\n      <td>0</td>\n      <td>547000</td>\n      <td>6589000</td>\n    </tr>\n    <tr>\n      <th>4</th>\n      <td>0</td>\n      <td>0</td>\n      <td>0</td>\n      <td>0</td>\n      <td>0</td>\n      <td>0</td>\n      <td>0</td>\n      <td>0</td>\n      <td>1</td>\n      <td>0</td>\n      <td>0</td>\n      <td>0</td>\n      <td>0</td>\n      <td>0</td>\n      <td>592500</td>\n      <td>6470500</td>\n    </tr>\n  </tbody>\n</table>\n</div>"
     },
     "execution_count": 5,
     "metadata": {},
     "output_type": "execute_result"
    }
   ],
   "source": [
    "#keep only the most probable crime\n",
    "def chooseBiggestProb(df):\n",
    "    a = df.copy()\n",
    "    for index, row in a.iterrows():\n",
    "        maxindeks = row.idxmax()\n",
    "\n",
    "        for i, item in row.iteritems():\n",
    "            if i == maxindeks:\n",
    "                row[i] = row[i]\n",
    "            else:\n",
    "                row[i] = 0\n",
    "    a.head()\n",
    "    return a\n",
    "df_proba = pd.DataFrame(np.array(preds).transpose(), columns=y_valid.columns) # @rasmus ma ei oska kirjelda miks see rida vajalik aga igastahes see tuleb sellest probs_rfc kujust mis ei sobinud\n",
    "df_proba = chooseBiggestProb(df_proba)\n",
    "df_proba[\"Lest_Y\"] = df.Lest_Y\n",
    "df_proba[\"Lest_X\"] = df.Lest_X\n",
    "df_proba.head()"
   ],
   "metadata": {
    "collapsed": false,
    "pycharm": {
     "name": "#%%\n"
    }
   }
  },
  {
   "cell_type": "code",
   "execution_count": 6,
   "outputs": [
    {
     "name": "stdout",
     "output_type": "stream",
     "text": [
      "<class 'geopandas.geodataframe.GeoDataFrame'>\n",
      "RangeIndex: 2296 entries, 0 to 2295\n",
      "Data columns (total 16 columns):\n",
      " #   Column                         Non-Null Count  Dtype   \n",
      "---  ------                         --------------  -----   \n",
      " 0   geoid                          2296 non-null   object  \n",
      " 1   LIIK_AVALIKU_KORRA_RIKKUMINE   2296 non-null   int8    \n",
      " 2   LIIK_JALGRATTA_MOPEEDI_VARGUS  2296 non-null   int8    \n",
      " 3   LIIK_KEHALINE_VAARKOHTLEMINE   2296 non-null   int8    \n",
      " 4   LIIK_KELMUS                    2296 non-null   int8    \n",
      " 5   LIIK_KONFLIKT/OMAVOLI          2296 non-null   int8    \n",
      " 6   LIIK_KOOLIVAGIVALD             2296 non-null   int8    \n",
      " 7   LIIK_LIIKLUSRIKKUMINE          2296 non-null   int8    \n",
      " 8   LIIK_MOOTORSOIDUKI_VARGUS      2296 non-null   int8    \n",
      " 9   LIIK_MUU                       2296 non-null   int8    \n",
      " 10  LIIK_PISIVARGUS                2296 non-null   int8    \n",
      " 11  LIIK_ROOVIMINE                 2296 non-null   int8    \n",
      " 12  LIIK_TULEKAHJU                 2296 non-null   int8    \n",
      " 13  LIIK_VANDALISM                 2296 non-null   int8    \n",
      " 14  LIIK_VARGUS                    2296 non-null   int8    \n",
      " 15  geometry                       2296 non-null   geometry\n",
      "dtypes: geometry(1), int8(14), object(1)\n",
      "memory usage: 67.4+ KB\n",
      "None\n"
     ]
    },
    {
     "data": {
      "text/plain": "geoid                                                                            0\nLIIK_AVALIKU_KORRA_RIKKUMINE                                                     0\nLIIK_JALGRATTA_MOPEEDI_VARGUS                                                    0\nLIIK_KEHALINE_VAARKOHTLEMINE                                                     0\nLIIK_KELMUS                                                                      0\nLIIK_KONFLIKT/OMAVOLI                                                            0\nLIIK_KOOLIVAGIVALD                                                               0\nLIIK_LIIKLUSRIKKUMINE                                                            0\nLIIK_MOOTORSOIDUKI_VARGUS                                                        0\nLIIK_MUU                                                                         0\nLIIK_PISIVARGUS                                                                  0\nLIIK_ROOVIMINE                                                                   0\nLIIK_TULEKAHJU                                                                   0\nLIIK_VANDALISM                                                                   0\nLIIK_VARGUS                                                                      0\ngeometry                         POLYGON ((24.74004432337025 59.43226284595459,...\nName: 0, dtype: object"
     },
     "execution_count": 6,
     "metadata": {},
     "output_type": "execute_result"
    }
   ],
   "source": [
    "# instead of normal dataframe use geodf\n",
    "data = geopandas.GeoDataFrame()\n",
    "\n",
    "\n",
    "data[\"geoid\"] = df_proba.index.astype(str)\n",
    "for col in df_proba.columns:\n",
    "    if not \"Lest\" in col:\n",
    "        data[col] = df_proba[col]\n",
    "\n",
    "# squares from original data\n",
    "topleft = list(zip(df_proba[\"Lest_Y\"], df_proba[\"Lest_X\"]))\n",
    "topright = list(zip(df_proba[\"Lest_Y\"], df_proba[\"Lest_X\"]+500))\n",
    "bottomleft = list(zip(df_proba[\"Lest_Y\"]+500, df_proba[\"Lest_X\"]))\n",
    "bottomright = list(zip(df_proba[\"Lest_Y\"]+500, df_proba[\"Lest_X\"]+500))\n",
    "temp = geopandas.GeoSeries([Polygon([a, b, c, d]) for a,b,c, d in list(zip(topleft, topright, bottomright, bottomleft))])\n",
    "\n",
    "data[\"geometry\"] = temp\n",
    "\n",
    "print(data.info())\n",
    "\n",
    "#data from lambert\n",
    "data.crs = pyproj.CRS.from_epsg(3301)\n",
    "# Re-project to WGS84\n",
    "data = data.to_crs(epsg=4326)\n",
    "\n",
    "data.iloc[0]\n"
   ],
   "metadata": {
    "collapsed": false,
    "pycharm": {
     "name": "#%%\n"
    }
   }
  },
  {
   "cell_type": "code",
   "execution_count": 12,
   "outputs": [],
   "source": [
    "# multilayered map of chloroform\n",
    "# maagia et saada kujule Polygon(alguslat alguslong, lopplat lopplong)\n",
    "# TODO vb see custom tule siin læheb katki sest free tier, teha siis uus konto ja v¨tta uus token\n",
    "# https://www.jawg.io/lab/styles\n",
    "map2 = folium.Map([58.87, 25.49], zoom_start=7,\n",
    "                  tiles=\"https://{s}.tile.jawg.io/jawg-light/{z}/{x}/{y}{r}.png?access-token=QWqVx55clvOrvgKqv3BFyTjV4K3qJj9eiyrIT75TnuhC5WLOk4bkEcHs2RKc7Ubd\",\n",
    "                  attr='<a href=\"http://jawg.io\" title=\"Tiles Courtesy of Jawg Maps\" target=\"_blank\">&copy; <b>Jawg</b>Maps</a> &copy; <a href=\"https://www.openstreetmap.org/copyright\">OpenStreetMap</a> contributors')\n",
    "\n",
    "tempdata = data[data.columns].replace(['0', 0], np.nan)\n",
    "cnter = -1\n",
    "colorList = [\"Blues\", \"Reds\", \"Greens\", \"Greys\", \"Purples\", \"Oranges\"]\n",
    "for col in df_proba:\n",
    "    if not \"Lest_\" in col and sum(df_proba[col]) > 0:\n",
    "        cnter+=1\n",
    "        folium.Choropleth(\n",
    "            geo_data=tempdata,\n",
    "            name=col,\n",
    "            data=tempdata,\n",
    "                columns=['geoid', col],\n",
    "            key_on='feature.id',\n",
    "            fill_color=colorList[cnter%len(colorList)],\n",
    "            fill_opacity=0.5,\n",
    "            line_opacity=0.2,\n",
    "            line_color='white',\n",
    "            line_weight=0,\n",
    "            nan_fill_color=\"blue\",\n",
    "            nan_fill_opacity=0.0,\n",
    "            highlight=False,\n",
    "            smooth_factor=0.5,\n",
    "            #threshold_scale=[100, 250, 500, 1000, 2000],/\n",
    "            legend_name= col).add_to(map2)\n",
    "\n",
    "folium.LayerControl(autoZIndex=False, collapsed=True).add_to(map2) # annab midagi et kuidagi layer toggelida\n",
    "map2.save(\"chloroform6.html\")\n",
    "#map2"
   ],
   "metadata": {
    "collapsed": false,
    "pycharm": {
     "name": "#%%\n"
    }
   }
  },
  {
   "cell_type": "code",
   "execution_count": 8,
   "outputs": [
    {
     "name": "stdout",
     "output_type": "stream",
     "text": [
      "563 LIIK_AVALIKU_KORRA_RIKKUMINE\n",
      "12 LIIK_JALGRATTA_MOPEEDI_VARGUS\n",
      "15 LIIK_KEHALINE_VAARKOHTLEMINE\n",
      "0 LIIK_KELMUS\n",
      "0 LIIK_KONFLIKT/OMAVOLI\n",
      "0 LIIK_KOOLIVAGIVALD\n",
      "0 LIIK_LIIKLUSRIKKUMINE\n",
      "0 LIIK_MOOTORSOIDUKI_VARGUS\n",
      "352 LIIK_MUU\n",
      "0 LIIK_PISIVARGUS\n",
      "0 LIIK_ROOVIMINE\n",
      "2 LIIK_TULEKAHJU\n",
      "45 LIIK_VANDALISM\n",
      "191 LIIK_VARGUS\n",
      "1341964500 Lest_Y\n",
      "15012198500 Lest_X\n"
     ]
    }
   ],
   "source": [
    "for i in df_proba.columns:\n",
    "    print(sum(df_proba[i]), i)"
   ],
   "metadata": {
    "collapsed": false,
    "pycharm": {
     "name": "#%%\n"
    }
   }
  },
  {
   "cell_type": "code",
   "execution_count": 9,
   "outputs": [
    {
     "name": "stdout",
     "output_type": "stream",
     "text": [
      "563 LIIK_AVALIKU_KORRA_RIKKUMINE\n",
      "12 LIIK_JALGRATTA_MOPEEDI_VARGUS\n",
      "15 LIIK_KEHALINE_VAARKOHTLEMINE\n",
      "0 LIIK_KELMUS\n",
      "0 LIIK_KONFLIKT/OMAVOLI\n",
      "0 LIIK_KOOLIVAGIVALD\n",
      "0 LIIK_LIIKLUSRIKKUMINE\n",
      "0 LIIK_MOOTORSOIDUKI_VARGUS\n",
      "352 LIIK_MUU\n",
      "0 LIIK_PISIVARGUS\n",
      "0 LIIK_ROOVIMINE\n",
      "2 LIIK_TULEKAHJU\n",
      "45 LIIK_VANDALISM\n",
      "191 LIIK_VARGUS\n",
      "1341964500 Lest_Y\n",
      "15012198500 Lest_X\n"
     ]
    }
   ],
   "source": [
    "for i in df_proba.columns:\n",
    "    print(sum(df_proba[i]), i)"
   ],
   "metadata": {
    "collapsed": false,
    "pycharm": {
     "name": "#%%\n"
    }
   }
  },
  {
   "cell_type": "code",
   "execution_count": 10,
   "outputs": [
    {
     "name": "stdout",
     "output_type": "stream",
     "text": [
      "563 LIIK_AVALIKU_KORRA_RIKKUMINE\n",
      "12 LIIK_JALGRATTA_MOPEEDI_VARGUS\n",
      "15 LIIK_KEHALINE_VAARKOHTLEMINE\n",
      "0 LIIK_KELMUS\n",
      "0 LIIK_KONFLIKT/OMAVOLI\n",
      "0 LIIK_KOOLIVAGIVALD\n",
      "0 LIIK_LIIKLUSRIKKUMINE\n",
      "0 LIIK_MOOTORSOIDUKI_VARGUS\n",
      "352 LIIK_MUU\n",
      "0 LIIK_PISIVARGUS\n",
      "0 LIIK_ROOVIMINE\n",
      "2 LIIK_TULEKAHJU\n",
      "45 LIIK_VANDALISM\n",
      "191 LIIK_VARGUS\n",
      "1341964500 Lest_Y\n",
      "15012198500 Lest_X\n"
     ]
    }
   ],
   "source": [
    "for i in df_proba.columns:\n",
    "    print(sum(df_proba[i]), i)"
   ],
   "metadata": {
    "collapsed": false,
    "pycharm": {
     "name": "#%%\n"
    }
   }
  }
 ],
 "metadata": {
  "kernelspec": {
   "display_name": "Python 3",
   "language": "python",
   "name": "python3"
  },
  "language_info": {
   "codemirror_mode": {
    "name": "ipython",
    "version": 2
   },
   "file_extension": ".py",
   "mimetype": "text/x-python",
   "name": "python",
   "nbconvert_exporter": "python",
   "pygments_lexer": "ipython2",
   "version": "2.7.6"
  }
 },
 "nbformat": 4,
 "nbformat_minor": 0
}